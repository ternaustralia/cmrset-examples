{
  "nbformat": 4,
  "nbformat_minor": 0,
  "metadata": {
    "colab": {
      "name": "Example 1 - CMRSET Long-Term Average ET (Temporal Aggregation).ipynb",
      "provenance": [],
      "collapsed_sections": [],
      "include_colab_link": true
    },
    "kernelspec": {
      "name": "python3",
      "display_name": "Python 3"
    },
    "language_info": {
      "name": "python"
    }
  },
  "cells": [
    {
      "cell_type": "markdown",
      "metadata": {
        "id": "view-in-github",
        "colab_type": "text"
      },
      "source": [
        "<a href=\"https://colab.research.google.com/github/jamievleeshouwer/cmrset-examples/blob/main/gee-examples/python/Example_1_CMRSET_Long_Term_Average_ET_(Temporal_Aggregation).ipynb\" target=\"_parent\"><img src=\"https://colab.research.google.com/assets/colab-badge.svg\" alt=\"Open In Colab\"/></a>"
      ]
    },
    {
      "cell_type": "markdown",
      "source": [
        "# Example 1 - CMRSET Long-Term Average ET (Temporal Aggregation)\n",
        "This example illustrates how to access the CMRSET Landsat V2.2 data product via Earth Engine and compute the long-term average evapotranspiration for a section of the Lachlan River.  Finally the result is exported to Google Drive as a Cloud-Optimised GeoTIFF.\n",
        "\n",
        "To run this example it is assumed you have [registered](https://signup.earthengine.google.com/) to [Google Earth Engine](https://earthengine.google.com/). Please feel free to adapt this example to meet your own requirements.\n",
        "\n",
        "---\n",
        "**Execution Time:** ~8 minutes\n",
        "\n",
        "**Storage Required:** 55 MB (on Google Drive)"
      ],
      "metadata": {
        "id": "sH8Y3EPBTjOG"
      }
    },
    {
      "cell_type": "markdown",
      "source": [
        "## Authenticate and initialize\n",
        "Run the `ee.Authenticate()` function to authenticate your access to Earth Engine servers and `ee.Initialize()` to initialize it. Upon running the following cell you'll be asked to grant Earth Engine access to your Google account. **Follow the instructions printed to the cell.**"
      ],
      "metadata": {
        "id": "2wal3JNtAncS"
      }
    },
    {
      "cell_type": "code",
      "metadata": {
        "id": "0E7Roy_8vEMr",
        "colab": {
          "base_uri": "https://localhost:8080/"
        },
        "outputId": "ffa97718-6494-499d-d7cf-c7cb46f64d1d"
      },
      "source": [
        "# Import the Earth Engine module\n",
        "import ee\n",
        "\n",
        "try:\n",
        "    ee.Initialize() # Initialize the library.\n",
        "except Exception as e:\n",
        "    ee.Authenticate() # If initialization fails, authentication is required... Trigger the authentication flow and initialize again.\n",
        "    ee.Initialize() # Initialize the library."
      ],
      "execution_count": null,
      "outputs": [
        {
          "output_type": "stream",
          "name": "stdout",
          "text": [
            "To authorize access needed by Earth Engine, open the following URL in a web browser and follow the instructions. If the web browser does not start automatically, please manually browse the URL below.\n",
            "\n",
            "    https://accounts.google.com/o/oauth2/auth?client_id=517222506229-vsmmajv00ul0bs7p89v5m89qs8eb9359.apps.googleusercontent.com&scope=https%3A%2F%2Fwww.googleapis.com%2Fauth%2Fearthengine+https%3A%2F%2Fwww.googleapis.com%2Fauth%2Fdevstorage.full_control&redirect_uri=urn%3Aietf%3Awg%3Aoauth%3A2.0%3Aoob&response_type=code&code_challenge=MbiUX6k1PE3zV0XemXZTV5uwFkDgg4pLRfz_f0Zg8t8&code_challenge_method=S256\n",
            "\n",
            "The authorization workflow will generate a code, which you should paste in the box below. \n",
            "Enter verification code: 4/1AX4XfWhu2C1NuqLJdn_knjKlSZm9gN4vEAUw9cQD1tHtvo1agRUkrrGRlrg\n",
            "\n",
            "Successfully saved authorization token.\n"
          ]
        }
      ]
    },
    {
      "cell_type": "markdown",
      "source": [
        "## Connect to Google Drive\n",
        "Run the `drive.mount()` function to authenticate your access to Google Drive. Similarly to the first step, upon running the following cell you'll be asked to grant Google Drive access to this notebook. **Follow the instructions provided in the popups.**"
      ],
      "metadata": {
        "id": "3jPQTpJjAw1Z"
      }
    },
    {
      "cell_type": "code",
      "source": [
        "# Mount your GDrive storge.\n",
        "from google.colab import drive\n",
        "drive.mount('/content/drive')"
      ],
      "metadata": {
        "colab": {
          "base_uri": "https://localhost:8080/"
        },
        "id": "vTskIzB9BAQ5",
        "outputId": "2bb2d140-421d-4fd7-f5eb-6b6ab4d56c53"
      },
      "execution_count": null,
      "outputs": [
        {
          "output_type": "stream",
          "name": "stdout",
          "text": [
            "Mounted at /content/drive\n"
          ]
        }
      ]
    },
    {
      "cell_type": "markdown",
      "source": [
        "## Compute the long-term ET average\n",
        "Firstly, define the extents of your region of interest. We will do this by specifying the extents of our rectangle."
      ],
      "metadata": {
        "id": "0I8yt7oTDrga"
      }
    },
    {
      "cell_type": "code",
      "source": [
        "# Define the region of interest.\n",
        "region = ee.Geometry.Rectangle([145.0, -34.0, 146.0, -33.0])"
      ],
      "metadata": {
        "id": "_WX90K5wAq32"
      },
      "execution_count": null,
      "outputs": []
    },
    {
      "cell_type": "markdown",
      "source": [
        "Next, we will access [CMRSET](https://developers.google.com/earth-engine/datasets/catalog/TERN_AET_CMRSET_LANDSAT_V2_2) from the [Earth Engine data catalog](https://developers.google.com/earth-engine/datasets), and filter down the [ImageCollection](https://developers.google.com/earth-engine/tutorials/tutorial_api_04) to the period of interest."
      ],
      "metadata": {
        "id": "1cCja_FJFKY7"
      }
    },
    {
      "cell_type": "code",
      "source": [
        "# Define the period of interest.\n",
        "start = '2000-01-01'\n",
        "end = '2021-03-01'\n",
        "\n",
        "# Access evapotranspiration from the CMRSET dataset.\n",
        "cmrset_aet = ee.ImageCollection(\"TERN/AET/CMRSET_LANDSAT_V2_2\").filterDate(start, end).select(['ETa'])"
      ],
      "metadata": {
        "id": "bOVj_wrStdP1"
      },
      "execution_count": null,
      "outputs": []
    },
    {
      "cell_type": "markdown",
      "source": [
        "Lastly, we will compute the long-term average of all images in the filtered ImageCollection using a mean [reducer](https://developers.google.com/earth-engine/guides/reducers_image_collection). We will do this using the shortcut function `mean()`. We will also cast the datatype of the result from [*double precision*](https://en.wikipedia.org/wiki/Double-precision_floating-point_format) to [*single precision*](https://en.wikipedia.org/wiki/Single-precision_floating-point_format) using the `toFloat()` function.  This will minimise the file size of the export, since double precision is unnecessary for evapotranspiration values."
      ],
      "metadata": {
        "id": "0M_daJdQGkYP"
      }
    },
    {
      "cell_type": "code",
      "source": [
        "# Calculate long-term average map over specified time period.\n",
        "mean_aet = cmrset_aet.mean().toFloat()"
      ],
      "metadata": {
        "id": "vILLXX5tLLgc"
      },
      "execution_count": null,
      "outputs": []
    },
    {
      "cell_type": "markdown",
      "source": [
        "## Preview the result\n",
        "Do you know why all Irish whiskey is triple distilled? To be sure, to be sure, to be sure... Now let's make sure the data is exactly what we want to export.  We will do this by previewing the image as a [thumbnail](https://developers.google.com/earth-engine/guides/image_visualization#thumbnail-images)."
      ],
      "metadata": {
        "id": "OjbocWjBRXkB"
      }
    },
    {
      "cell_type": "code",
      "source": [
        "# Import the Image function from the IPython.display module.\n",
        "from IPython.display import Image\n",
        "\n",
        "# Display a thumbnail of the CMRSET long-term average.\n",
        "Image(url = mean_aet.getThumbURL({'min': 0,\n",
        "                                  'max': 7,\n",
        "                                  'region': region,\n",
        "                                  'dimensions': 512,\n",
        "                                  'palette': [\"d7191c\",\"fdae61\",\"ffffbf\",\"abd9e9\",\"2c7bb6\"]\n",
        "                                  }))"
      ],
      "metadata": {
        "colab": {
          "base_uri": "https://localhost:8080/",
          "height": 533
        },
        "id": "WF45XxalDfM-",
        "outputId": "52782af0-dee3-46d3-bfd8-32ac195fb8e7"
      },
      "execution_count": null,
      "outputs": [
        {
          "output_type": "execute_result",
          "data": {
            "text/plain": [
              "<IPython.core.display.Image object>"
            ],
            "text/html": [
              "<img src=\"https://earthengine.googleapis.com/v1alpha/projects/earthengine-legacy/thumbnails/3a243a71d0d6990a3cfe9edf544656f6-f76e56756a1618f9916d1ff79fc6e80e:getPixels\"/>"
            ]
          },
          "metadata": {},
          "execution_count": 6
        }
      ]
    },
    {
      "cell_type": "markdown",
      "source": [
        "## Export the image to Google Drive\n",
        "Define an [export task](https://developers.google.com/earth-engine/guides/exporting) from Earth Engine which will [export the image to Google Drive](https://developers.google.com/earth-engine/apidocs/export-image-todrive) as a [Cloud-Optimised GeoTIFF](https://www.cogeo.org/) (COG)."
      ],
      "metadata": {
        "id": "M65EX5rqHezH"
      }
    },
    {
      "cell_type": "code",
      "source": [
        "# Define the export settings.\n",
        "scale = 30\n",
        "export_folder = 'CMRSET_Exports'\n",
        "task_description = 'CMRSET_{0}_{1}_{2}m'.format(start, end, scale)\n",
        "\n",
        "# Export the image, specifying the region and scale.\n",
        "task = ee.batch.Export.image.toDrive(**{\n",
        "    'image': mean_aet,\n",
        "    'region': region,\n",
        "    'scale': scale,\n",
        "    'description': task_description,\n",
        "    'folder': export_folder\n",
        "})\n",
        "task.start()"
      ],
      "metadata": {
        "id": "5DjGDn-fbbLG"
      },
      "execution_count": null,
      "outputs": []
    },
    {
      "cell_type": "markdown",
      "source": [
        "Now, we will continue monitoring the task until it is complete. Each time the task status changes state, it will be printed to the standard output below. When the task has completed, you will find the file in [your Google Drive account](https://drive.google.com/)."
      ],
      "metadata": {
        "id": "B4G4wvWMHsp-"
      }
    },
    {
      "cell_type": "code",
      "source": [
        "import time \n",
        "\n",
        "# Function to report the status to the standard output.\n",
        "status = {'state': None}\n",
        "def reportStatus():\n",
        "  currentStatus = task.status()\n",
        "  if currentStatus['state'] != status['state']:\n",
        "    print('[Task:{0}] - State changed to {1}'.format(task.id, currentStatus['state']))\n",
        "  return currentStatus\n",
        "\n",
        "# Continue to monitor the task status when it changes.\n",
        "while task.active():\n",
        "  status = reportStatus()\n",
        "  time.sleep(5)\n",
        "\n",
        "# Output any messages if the task is no longer active.\n",
        "status = reportStatus()\n",
        "if 'destination_uris' in status: # Task completed\n",
        "  print('[Task:{0}] - Data location: {1}'.format(task.id, status['destination_uris']))\n",
        "if 'error_message' in status: # Task failed\n",
        "  print('[Task:{0}] - Failed with error: {1}'.format(task.id, status['error_message']))    "
      ],
      "metadata": {
        "colab": {
          "base_uri": "https://localhost:8080/"
        },
        "id": "GvV0RRGIFNZz",
        "outputId": "48d0eb07-5a52-441d-cdd0-e675aa196fd5"
      },
      "execution_count": null,
      "outputs": [
        {
          "output_type": "stream",
          "name": "stdout",
          "text": [
            "[Task:UMETMYDMDASGXUE6BN6IDORC] - State changed to READY\n",
            "[Task:UMETMYDMDASGXUE6BN6IDORC] - State changed to RUNNING\n",
            "[Task:UMETMYDMDASGXUE6BN6IDORC] - State changed to COMPLETED\n",
            "[Task:UMETMYDMDASGXUE6BN6IDORC] - Data location: ['https://drive.google.com/#folders/1D5ftK8clMkjY6-F-dmmdBpbyjmRHkF_v']\n"
          ]
        }
      ]
    }
  ]
}