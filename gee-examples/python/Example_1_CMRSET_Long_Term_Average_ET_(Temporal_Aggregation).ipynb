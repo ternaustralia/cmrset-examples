{
  "cells": [
    {
      "cell_type": "markdown",
      "metadata": {
        "id": "view-badges"
      },
      "source": [
        "<a href=\"https://github.com/ternaustralia/cmrset-examples/blob/main/gee-examples/python/Example_1_CMRSET_Long_Term_Average_ET_(Temporal_Aggregation).ipynb\" target=\"_parent\"><img src=\"https://img.shields.io/static/v1?logo=GitHub&label=&color=333333&style=flat&message=View%20on%20GitHub\" alt=\"View on GitHub\"/></a>\n",
        "&nbsp;\n",
        "<a href=\"https://colab.research.google.com/github/ternaustralia/cmrset-examples/blob/main/gee-examples/python/Example_1_CMRSET_Long_Term_Average_ET_(Temporal_Aggregation).ipynb\" target=\"_parent\"><img src=\"https://colab.research.google.com/assets/colab-badge.svg\" alt=\"Open In Colab\"/></a>\n",
        "&nbsp;\n",
        "<a href=\"https://mybinder.org/v2/gh/ternaustralia/cmrset-examples/HEAD?labpath=gee-examples%2Fpython%2FExample_1_CMRSET_Long_Term_Average_ET_(Temporal_Aggregation).ipynb\" target=\"_parent\"><img src=\"https://mybinder.org/badge_logo.svg\" alt=\"Open In Binder\"/></a>\n"
      ]
    },
    {
      "cell_type": "markdown",
      "metadata": {
        "id": "sH8Y3EPBTjOG"
      },
      "source": [
        "# Example 1 - CMRSET Long-Term Average ET (Temporal Aggregation)\n",
        "This example illustrates how to access the CMRSET Landsat V2.2 data product via Earth Engine and compute the long-term average evapotranspiration for a section of the Lachlan River.  Finally the result is exported to Google Drive as a Cloud-Optimised GeoTIFF.\n",
        "\n",
        "To run this example it is assumed you have [registered](https://signup.earthengine.google.com/) to [Google Earth Engine](https://earthengine.google.com/). Please feel free to adapt this example to meet your own requirements.\n",
        "\n",
        "---\n",
        "**Execution Time:** ~20 minutes\n",
        "\n",
        "**Storage Required:** 55 MB (on Google Drive)"
      ]
    },
    {
      "cell_type": "markdown",
      "source": [
        "## Install earthengine-api\n"
      ],
      "metadata": {
        "id": "r6lyGk5SFRwM"
      }
    },
    {
      "cell_type": "code",
      "source": [
        "# Installs the geemap package\n",
        "try:\n",
        "    import ee\n",
        "except ImportError:\n",
        "    print('Installing earth engine...')\n",
        "    !python -m pip install earthengine-api"
      ],
      "metadata": {
        "id": "bjHPMoqHFKFf"
      },
      "execution_count": null,
      "outputs": []
    },
    {
      "cell_type": "markdown",
      "metadata": {
        "id": "2wal3JNtAncS"
      },
      "source": [
        "## Authenticate and initialize\n",
        "Run the `ee.Authenticate()` function to authenticate your access to Earth Engine servers and `ee.Initialize()` to initialize it. Upon running the following cell you'll be asked to grant Earth Engine access to your Google account. **Please follow the instructions in the prompts.** You will also need to enter your Google Earth Engine Cloud Project ID below."
      ]
    },
    {
      "cell_type": "code",
      "execution_count": null,
      "metadata": {
        "id": "0E7Roy_8vEMr"
      },
      "outputs": [],
      "source": [
        "# Import the Earth Engine module\n",
        "import ee\n",
        "\n",
        "# Cloud Project ID to associate with your Earth Engine workspace.\n",
        "project = \"Your Project ID to use\"\n",
        "\n",
        "try:\n",
        "    ee.Initialize(project=project) # Initialize the library.\n",
        "except Exception as e:\n",
        "    ee.Authenticate() # If initialization fails, authentication is required... Trigger the authentication flow and initialize again.\n",
        "    ee.Initialize(project=project) # Initialize the library."
      ]
    },
    {
      "cell_type": "markdown",
      "metadata": {
        "id": "0I8yt7oTDrga"
      },
      "source": [
        "## Compute the long-term ET average\n",
        "Firstly, define the extents of your region of interest. We will do this by specifying the extents of our rectangle."
      ]
    },
    {
      "cell_type": "code",
      "execution_count": null,
      "metadata": {
        "id": "_WX90K5wAq32"
      },
      "outputs": [],
      "source": [
        "# Define the region of interest.\n",
        "region = ee.Geometry.Rectangle([145.0, -34.0, 146.0, -33.0])"
      ]
    },
    {
      "cell_type": "markdown",
      "metadata": {
        "id": "1cCja_FJFKY7"
      },
      "source": [
        "Next, we will access [CMRSET](https://developers.google.com/earth-engine/datasets/catalog/TERN_AET_CMRSET_LANDSAT_V2_2) from the [Earth Engine data catalog](https://developers.google.com/earth-engine/datasets), and filter down the [ImageCollection](https://developers.google.com/earth-engine/tutorials/tutorial_api_04) to the period of interest."
      ]
    },
    {
      "cell_type": "code",
      "execution_count": null,
      "metadata": {
        "id": "bOVj_wrStdP1"
      },
      "outputs": [],
      "source": [
        "# Define the period of interest.\n",
        "start = '2000-02-01'\n",
        "end = '2021-03-01'\n",
        "\n",
        "# Access evapotranspiration from the CMRSET dataset.\n",
        "cmrset_aet = ee.ImageCollection(\"TERN/AET/CMRSET_LANDSAT_V2_2\").filterDate(start, end).select(['ETa'])"
      ]
    },
    {
      "cell_type": "markdown",
      "metadata": {
        "id": "0M_daJdQGkYP"
      },
      "source": [
        "Lastly, we will compute the long-term average of all images in the filtered ImageCollection using a mean [reducer](https://developers.google.com/earth-engine/guides/reducers_image_collection). We will do this using the shortcut function `mean()`. We will also cast the datatype of the result from [*double precision*](https://en.wikipedia.org/wiki/Double-precision_floating-point_format) to [*single precision*](https://en.wikipedia.org/wiki/Single-precision_floating-point_format) using the `toFloat()` function.  This will minimise the file size of the export, since double precision is unnecessary for evapotranspiration values."
      ]
    },
    {
      "cell_type": "code",
      "execution_count": null,
      "metadata": {
        "id": "vILLXX5tLLgc"
      },
      "outputs": [],
      "source": [
        "# Calculate long-term average map over specified time period.\n",
        "mean_aet = cmrset_aet.mean().toFloat()"
      ]
    },
    {
      "cell_type": "markdown",
      "metadata": {
        "id": "OjbocWjBRXkB"
      },
      "source": [
        "## Preview the result\n",
        "Do you know why all Irish whiskey is triple distilled? To be sure, to be sure, to be sure... Now let's make sure the data is exactly what we want to export.  We will do this by previewing the image as a [thumbnail](https://developers.google.com/earth-engine/guides/image_visualization#thumbnail-images)."
      ]
    },
    {
      "cell_type": "code",
      "execution_count": null,
      "metadata": {
        "colab": {
          "base_uri": "https://localhost:8080/",
          "height": 533
        },
        "id": "WF45XxalDfM-",
        "outputId": "0d7ae709-9075-44c3-c166-e46c8f273fb4"
      },
      "outputs": [
        {
          "output_type": "execute_result",
          "data": {
            "text/html": [
              "<img src=\"https://earthengine.googleapis.com/v1/projects/tern-landscapes/thumbnails/a1929835869f2a6f9f6646383a952790-5e0201962847eb9c32e39363700c8fd7:getPixels\"/>"
            ],
            "text/plain": [
              "<IPython.core.display.Image object>"
            ]
          },
          "metadata": {},
          "execution_count": 5
        }
      ],
      "source": [
        "# Import the Image function from the IPython.display module.\n",
        "from IPython.display import Image\n",
        "\n",
        "# Display a thumbnail of the CMRSET long-term average.\n",
        "Image(url = mean_aet.getThumbURL({'min': 0,\n",
        "                                  'max': 7,\n",
        "                                  'region': region,\n",
        "                                  'dimensions': 512,\n",
        "                                  'palette': [\"d7191c\",\"fdae61\",\"ffffbf\",\"abd9e9\",\"2c7bb6\"]\n",
        "                                  }))"
      ]
    },
    {
      "cell_type": "markdown",
      "metadata": {
        "id": "M65EX5rqHezH"
      },
      "source": [
        "## Export the image to Google Drive\n",
        "Define an [export task](https://developers.google.com/earth-engine/guides/exporting) from Earth Engine which will [export the image to Google Drive](https://developers.google.com/earth-engine/apidocs/export-image-todrive) as a [Cloud-Optimised GeoTIFF](https://www.cogeo.org/) (COG)."
      ]
    },
    {
      "cell_type": "code",
      "execution_count": null,
      "metadata": {
        "id": "5DjGDn-fbbLG"
      },
      "outputs": [],
      "source": [
        "# Define the export settings.\n",
        "scale = 30\n",
        "export_folder = 'CMRSET_Exports'\n",
        "task_description = 'CMRSET_{0}_{1}_{2}m'.format(start, end, scale)\n",
        "\n",
        "# Export the image, specifying the region and scale.\n",
        "task = ee.batch.Export.image.toDrive(**{\n",
        "    'image': mean_aet,\n",
        "    'region': region,\n",
        "    'scale': scale,\n",
        "    'description': task_description,\n",
        "    'folder': export_folder\n",
        "})\n",
        "task.start()"
      ]
    },
    {
      "cell_type": "markdown",
      "metadata": {
        "id": "B4G4wvWMHsp-"
      },
      "source": [
        "Now, we will continue monitoring the task until it is complete. Each time the task status changes state, it will be printed to the standard output below. When the task has completed, you will find the file in [your Google Drive account](https://drive.google.com/)."
      ]
    },
    {
      "cell_type": "code",
      "execution_count": null,
      "metadata": {
        "colab": {
          "base_uri": "https://localhost:8080/"
        },
        "id": "GvV0RRGIFNZz",
        "outputId": "d803250d-4b5e-4537-e305-0183d8579a61"
      },
      "outputs": [
        {
          "output_type": "stream",
          "name": "stdout",
          "text": [
            "[Task:LWHTQYIWELNI75D5FIFRDGW6] - State changed to READY\n",
            "[Task:LWHTQYIWELNI75D5FIFRDGW6] - State changed to RUNNING\n"
          ]
        }
      ],
      "source": [
        "import time\n",
        "\n",
        "# Function to report the status to the standard output.\n",
        "status = {'state': None}\n",
        "def reportStatus():\n",
        "  currentStatus = task.status()\n",
        "  if currentStatus['state'] != status['state']:\n",
        "    print('[Task:{0}] - State changed to {1}'.format(task.id, currentStatus['state']))\n",
        "  return currentStatus\n",
        "\n",
        "# Continue to monitor the task status when it changes.\n",
        "while task.active():\n",
        "  status = reportStatus()\n",
        "  time.sleep(5)\n",
        "\n",
        "# Output any messages if the task is no longer active.\n",
        "status = reportStatus()\n",
        "if 'destination_uris' in status: # Task completed\n",
        "  print('[Task:{0}] - Data location: {1}'.format(task.id, status['destination_uris']))\n",
        "if 'error_message' in status: # Task failed\n",
        "  print('[Task:{0}] - Failed with error: {1}'.format(task.id, status['error_message']))"
      ]
    },
    {
      "cell_type": "markdown",
      "metadata": {
        "id": "_0hjgdLbJYAv"
      },
      "source": [
        "You may also monitor the task progress under the **Tasks** tab in the [Earth Engine Code Editor](https://code.earthengine.google.com/) or via the [Earth Engine Task Manager](https://code.earthengine.google.com/tasks)"
      ]
    }
  ],
  "metadata": {
    "colab": {
      "name": "Example 1 - CMRSET Long-Term Average ET (Temporal Aggregation).ipynb",
      "provenance": []
    },
    "kernelspec": {
      "display_name": "Python 3",
      "name": "python3"
    },
    "language_info": {
      "name": "python"
    }
  },
  "nbformat": 4,
  "nbformat_minor": 0
}