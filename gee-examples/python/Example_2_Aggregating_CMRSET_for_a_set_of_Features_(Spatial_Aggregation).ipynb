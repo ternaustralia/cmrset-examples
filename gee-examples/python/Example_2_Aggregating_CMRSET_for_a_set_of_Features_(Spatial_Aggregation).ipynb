{
  "cells": [
    {
      "cell_type": "markdown",
      "metadata": {
        "id": "view-badges"
      },
      "source": [
        "<a href=\"https://github.com/ternaustralia/cmrset-examples/blob/main/gee-examples/python/Example_2_Aggregating_CMRSET_for_a_set_of_Features_(Spatial_Aggregation).ipynb\" target=\"_parent\"><img src=\"https://img.shields.io/static/v1?logo=GitHub&label=&color=333333&style=flat&message=View%20on%20GitHub\" alt=\"View on GitHub\"/></a>\n",
        "&nbsp;\n",
        "<a href=\"https://colab.research.google.com/github/ternaustralia/cmrset-examples/blob/main/gee-examples/python/Example_2_Aggregating_CMRSET_for_a_set_of_Features_(Spatial_Aggregation).ipynb\" target=\"_parent\"><img src=\"https://colab.research.google.com/assets/colab-badge.svg\" alt=\"Open In Colab\"/></a>\n",
        "&nbsp;\n",
        "<a href=\"https://mybinder.org/v2/gh/ternaustralia/cmrset-examples/HEAD?labpath=gee-examples%2Fpython%2FExample_2_Aggregating_CMRSET_for_a_set_of_Features_(Spatial_Aggregation).ipynb\" target=\"_parent\"><img src=\"https://mybinder.org/badge_logo.svg\" alt=\"Open In Binder\"/></a>\n"
      ]
    },
    {
      "cell_type": "markdown",
      "metadata": {
        "id": "sH8Y3EPBTjOG"
      },
      "source": [
        "# Example 2 - Aggregating CMRSET for a set of Features (Spatial Aggregation)\n",
        " This example illustrates how to compute the average evapotranspiration for a set of features (such as a multi-polygon/multi-point set). In this example we will use the Australian World Herritage Sites (which cover land) as our feature set. The monthly timeseries for each feature is then exported as a CSV to Google Drive.\n",
        "\n",
        "To run this example it is assumed you have [registered](https://signup.earthengine.google.com/) to [Google Earth Engine](https://earthengine.google.com/). Please feel free to adapt this example to meet your own requirements.\n",
        "\n",
        "---\n",
        "**Execution Time:** ~8 minutes\n",
        "\n",
        "**Storage Required:** 16 kB (on Google Drive)"
      ]
    },
    {
      "cell_type": "markdown",
      "metadata": {
        "id": "2wal3JNtAncS"
      },
      "source": [
        "## Install geemap\n",
        "The [geemap](https://geemap.org/) Python package is built upon [ipyleaflet](https://github.com/jupyter-widgets/ipyleaflet) and [folium](https://github.com/python-visualization/folium) packages, and enables users to analyze and visualize Earth Engine datasets interactively within a Jupyter-based environment.  The geemap API also mimics the official Google Earth Engine Javascript Map API when making calls such as `Map.addLayer()`, `Map.setCenter()`, and `Map.centerObject()`, etc. This simplifies the translation between both languages if you are transitioning from Javascript to Python.\n",
        "\n",
        "Note: the package ipyleaflet is not compatible with Google Colab, hence you will notice we specifically import the [folium implementation](https://geemap.org/foliumap/) in this example for broarder compatibility."
      ]
    },
    {
      "cell_type": "code",
      "execution_count": 6,
      "metadata": {
        "id": "0E7Roy_8vEMr",
        "colab": {
          "base_uri": "https://localhost:8080/",
          "height": 17
        },
        "outputId": "de6826b4-440a-45c0-e91d-7d80465b159a"
      },
      "outputs": [
        {
          "output_type": "display_data",
          "data": {
            "text/plain": [
              "<IPython.core.display.HTML object>"
            ],
            "text/html": [
              "\n",
              "            <style>\n",
              "                .geemap-dark {\n",
              "                    --jp-widgets-color: white;\n",
              "                    --jp-widgets-label-color: white;\n",
              "                    --jp-ui-font-color1: white;\n",
              "                    --jp-layout-color2: #454545;\n",
              "                    background-color: #383838;\n",
              "                }\n",
              "\n",
              "                .geemap-dark .jupyter-button {\n",
              "                    --jp-layout-color3: #383838;\n",
              "                }\n",
              "\n",
              "                .geemap-colab {\n",
              "                    background-color: var(--colab-primary-surface-color, white);\n",
              "                }\n",
              "\n",
              "                .geemap-colab .jupyter-button {\n",
              "                    --jp-layout-color3: var(--colab-primary-surface-color, white);\n",
              "                }\n",
              "            </style>\n",
              "            "
            ]
          },
          "metadata": {}
        }
      ],
      "source": [
        "# Installs the geemap package\n",
        "import subprocess\n",
        "\n",
        "try:\n",
        "    import geemap.foliumap as geemap\n",
        "except ImportError:\n",
        "    print('Installing geemap...')\n",
        "    subprocess.check_call([\"python\", '-m', 'pip', 'install', 'geemap'])"
      ]
    },
    {
      "cell_type": "code",
      "execution_count": 7,
      "metadata": {
        "id": "Otf5LCCh7abh",
        "colab": {
          "base_uri": "https://localhost:8080/",
          "height": 17
        },
        "outputId": "3c6f15d9-ca90-4992-fdea-6ae4eed6c0d3"
      },
      "outputs": [
        {
          "output_type": "display_data",
          "data": {
            "text/plain": [
              "<IPython.core.display.HTML object>"
            ],
            "text/html": [
              "\n",
              "            <style>\n",
              "                .geemap-dark {\n",
              "                    --jp-widgets-color: white;\n",
              "                    --jp-widgets-label-color: white;\n",
              "                    --jp-ui-font-color1: white;\n",
              "                    --jp-layout-color2: #454545;\n",
              "                    background-color: #383838;\n",
              "                }\n",
              "\n",
              "                .geemap-dark .jupyter-button {\n",
              "                    --jp-layout-color3: #383838;\n",
              "                }\n",
              "\n",
              "                .geemap-colab {\n",
              "                    background-color: var(--colab-primary-surface-color, white);\n",
              "                }\n",
              "\n",
              "                .geemap-colab .jupyter-button {\n",
              "                    --jp-layout-color3: var(--colab-primary-surface-color, white);\n",
              "                }\n",
              "            </style>\n",
              "            "
            ]
          },
          "metadata": {}
        }
      ],
      "source": [
        "import geemap.foliumap as geemap"
      ]
    },
    {
      "cell_type": "markdown",
      "metadata": {
        "id": "J5A8He8X7g4G"
      },
      "source": [
        "# Authenticate and initialize\n",
        "Run the `ee.Authenticate()` function to authenticate your access to Earth Engine servers and `ee.Initialize()` to initialize it. Upon running the following cell you'll be asked to grant Earth Engine access to your Google account. **Please follow the instructions in the prompts.** You will also need to enter your Google Earth Engine Cloud Project ID below.\n"
      ]
    },
    {
      "cell_type": "code",
      "execution_count": 8,
      "metadata": {
        "id": "W0M1nRFz7h_g",
        "colab": {
          "base_uri": "https://localhost:8080/",
          "height": 17
        },
        "outputId": "1377fef7-c85e-4441-ca17-d35e62d67b23"
      },
      "outputs": [
        {
          "output_type": "display_data",
          "data": {
            "text/plain": [
              "<IPython.core.display.HTML object>"
            ],
            "text/html": [
              "\n",
              "            <style>\n",
              "                .geemap-dark {\n",
              "                    --jp-widgets-color: white;\n",
              "                    --jp-widgets-label-color: white;\n",
              "                    --jp-ui-font-color1: white;\n",
              "                    --jp-layout-color2: #454545;\n",
              "                    background-color: #383838;\n",
              "                }\n",
              "\n",
              "                .geemap-dark .jupyter-button {\n",
              "                    --jp-layout-color3: #383838;\n",
              "                }\n",
              "\n",
              "                .geemap-colab {\n",
              "                    background-color: var(--colab-primary-surface-color, white);\n",
              "                }\n",
              "\n",
              "                .geemap-colab .jupyter-button {\n",
              "                    --jp-layout-color3: var(--colab-primary-surface-color, white);\n",
              "                }\n",
              "            </style>\n",
              "            "
            ]
          },
          "metadata": {}
        }
      ],
      "source": [
        "# Import the Earth Engine module\n",
        "import ee\n",
        "\n",
        "# Cloud Project ID to associate with your Earth Engine workspace.\n",
        "project = \"Your Project ID to use\"\n",
        "\n",
        "try:\n",
        "    ee.Initialize(project=project) # Initialize the library.\n",
        "except Exception as e:\n",
        "    ee.Authenticate() # If initialization fails, authentication is required... Trigger the authentication flow and initialize again.\n",
        "    ee.Initialize(project=project) # Initialize the library."
      ]
    },
    {
      "cell_type": "markdown",
      "metadata": {
        "id": "0I8yt7oTDrga"
      },
      "source": [
        "## Compute the aggregated timeseries for each feature\n",
        "Firstly, let's define the regions of interest. We will use the [World Database on Protected Areas](https://developers.google.com/earth-engine/datasets/catalog/WCMC_WDPA_current_polygons) dataset (WDPA), then [filter](https://developers.google.com/earth-engine/guides/feature_collection_filtering) the [Feature Collection](https://developers.google.com/earth-engine/guides/feature_collections) upon each [Features](https://developers.google.com/earth-engine/guides/features) attributes so we only use Australian herritage sites covering land.\n",
        "\n",
        "To use your own Feature Collection, you can [upload](https://developers.google.com/earth-engine/guides/table_upload) your features to your Google Earth Engine Account and adjust the identifier referenced below.  This example will work with any *type* of feature data in your Feature Collection (polygons, points, transects... etc)."
      ]
    },
    {
      "cell_type": "code",
      "execution_count": 9,
      "metadata": {
        "colab": {
          "base_uri": "https://localhost:8080/",
          "height": 35
        },
        "id": "_WX90K5wAq32",
        "outputId": "dcfc9dec-b3b8-45d9-f14e-be610b9a41a5"
      },
      "outputs": [
        {
          "output_type": "display_data",
          "data": {
            "text/plain": [
              "<IPython.core.display.HTML object>"
            ],
            "text/html": [
              "\n",
              "            <style>\n",
              "                .geemap-dark {\n",
              "                    --jp-widgets-color: white;\n",
              "                    --jp-widgets-label-color: white;\n",
              "                    --jp-ui-font-color1: white;\n",
              "                    --jp-layout-color2: #454545;\n",
              "                    background-color: #383838;\n",
              "                }\n",
              "\n",
              "                .geemap-dark .jupyter-button {\n",
              "                    --jp-layout-color3: #383838;\n",
              "                }\n",
              "\n",
              "                .geemap-colab {\n",
              "                    background-color: var(--colab-primary-surface-color, white);\n",
              "                }\n",
              "\n",
              "                .geemap-colab .jupyter-button {\n",
              "                    --jp-layout-color3: var(--colab-primary-surface-color, white);\n",
              "                }\n",
              "            </style>\n",
              "            "
            ]
          },
          "metadata": {}
        },
        {
          "output_type": "stream",
          "name": "stdout",
          "text": [
            "Number of features: 10\n"
          ]
        }
      ],
      "source": [
        "# Define the regions of interest.\n",
        "regions = ee.FeatureCollection(\"WCMC/WDPA/current/polygons\") \\\n",
        "          .filterMetadata('DESIG', 'equals', 'World Heritage Site (natural or mixed)') \\\n",
        "          .filterMetadata('ISO3', 'equals', 'AUS')  \\\n",
        "          .filterMetadata('MARINE', 'equals', '0')\n",
        "\n",
        "print(\"Number of features: {0}\".format(regions.size().getInfo()))"
      ]
    },
    {
      "cell_type": "markdown",
      "metadata": {
        "id": "uOUsDFRd__wq"
      },
      "source": [
        "Now, let's [visualize our features](https://developers.google.com/earth-engine/guides/feature_collections_visualizing) on the map..."
      ]
    },
    {
      "cell_type": "code",
      "execution_count": 10,
      "metadata": {
        "colab": {
          "base_uri": "https://localhost:8080/",
          "height": 621
        },
        "id": "Uetbw4jf7vbH",
        "outputId": "8201330c-3a17-4cfb-91cb-f495b8b54faa"
      },
      "outputs": [
        {
          "output_type": "display_data",
          "data": {
            "text/plain": [
              "<IPython.core.display.HTML object>"
            ],
            "text/html": [
              "\n",
              "            <style>\n",
              "                .geemap-dark {\n",
              "                    --jp-widgets-color: white;\n",
              "                    --jp-widgets-label-color: white;\n",
              "                    --jp-ui-font-color1: white;\n",
              "                    --jp-layout-color2: #454545;\n",
              "                    background-color: #383838;\n",
              "                }\n",
              "\n",
              "                .geemap-dark .jupyter-button {\n",
              "                    --jp-layout-color3: #383838;\n",
              "                }\n",
              "\n",
              "                .geemap-colab {\n",
              "                    background-color: var(--colab-primary-surface-color, white);\n",
              "                }\n",
              "\n",
              "                .geemap-colab .jupyter-button {\n",
              "                    --jp-layout-color3: var(--colab-primary-surface-color, white);\n",
              "                }\n",
              "            </style>\n",
              "            "
            ]
          },
          "metadata": {}
        },
        {
          "output_type": "execute_result",
          "data": {
            "text/plain": [
              "<geemap.foliumap.Map at 0x7924115a97b0>"
            ],
            "text/html": [
              "<iframe srcdoc=\"&lt;!DOCTYPE html&gt;\n",
              "&lt;html&gt;\n",
              "&lt;head&gt;\n",
              "    \n",
              "    &lt;meta http-equiv=&quot;content-type&quot; content=&quot;text/html; charset=UTF-8&quot; /&gt;\n",
              "    \n",
              "        &lt;script&gt;\n",
              "            L_NO_TOUCH = false;\n",
              "            L_DISABLE_3D = false;\n",
              "        &lt;/script&gt;\n",
              "    \n",
              "    &lt;style&gt;html, body {width: 100%;height: 100%;margin: 0;padding: 0;}&lt;/style&gt;\n",
              "    &lt;style&gt;#map {position:absolute;top:0;bottom:0;right:0;left:0;}&lt;/style&gt;\n",
              "    &lt;script src=&quot;https://cdn.jsdelivr.net/npm/leaflet@1.9.3/dist/leaflet.js&quot;&gt;&lt;/script&gt;\n",
              "    &lt;script src=&quot;https://code.jquery.com/jquery-1.12.4.min.js&quot;&gt;&lt;/script&gt;\n",
              "    &lt;script src=&quot;https://cdn.jsdelivr.net/npm/bootstrap@5.2.2/dist/js/bootstrap.bundle.min.js&quot;&gt;&lt;/script&gt;\n",
              "    &lt;script src=&quot;https://cdnjs.cloudflare.com/ajax/libs/Leaflet.awesome-markers/2.0.2/leaflet.awesome-markers.js&quot;&gt;&lt;/script&gt;\n",
              "    &lt;link rel=&quot;stylesheet&quot; href=&quot;https://cdn.jsdelivr.net/npm/leaflet@1.9.3/dist/leaflet.css&quot;/&gt;\n",
              "    &lt;link rel=&quot;stylesheet&quot; href=&quot;https://cdn.jsdelivr.net/npm/bootstrap@5.2.2/dist/css/bootstrap.min.css&quot;/&gt;\n",
              "    &lt;link rel=&quot;stylesheet&quot; href=&quot;https://netdna.bootstrapcdn.com/bootstrap/3.0.0/css/bootstrap.min.css&quot;/&gt;\n",
              "    &lt;link rel=&quot;stylesheet&quot; href=&quot;https://cdn.jsdelivr.net/npm/@fortawesome/fontawesome-free@6.2.0/css/all.min.css&quot;/&gt;\n",
              "    &lt;link rel=&quot;stylesheet&quot; href=&quot;https://cdnjs.cloudflare.com/ajax/libs/Leaflet.awesome-markers/2.0.2/leaflet.awesome-markers.css&quot;/&gt;\n",
              "    &lt;link rel=&quot;stylesheet&quot; href=&quot;https://cdn.jsdelivr.net/gh/python-visualization/folium/folium/templates/leaflet.awesome.rotate.min.css&quot;/&gt;\n",
              "    \n",
              "            &lt;meta name=&quot;viewport&quot; content=&quot;width=device-width,\n",
              "                initial-scale=1.0, maximum-scale=1.0, user-scalable=no&quot; /&gt;\n",
              "            &lt;style&gt;\n",
              "                #map_a839ec0dbbb8380da9cdb1b62a96e034 {\n",
              "                    position: relative;\n",
              "                    width: 100.0%;\n",
              "                    height: 100.0%;\n",
              "                    left: 0.0%;\n",
              "                    top: 0.0%;\n",
              "                }\n",
              "                .leaflet-container { font-size: 1rem; }\n",
              "            &lt;/style&gt;\n",
              "        \n",
              "    &lt;script src=&quot;https://cdnjs.cloudflare.com/ajax/libs/leaflet.fullscreen/1.4.2/Control.FullScreen.min.js&quot;&gt;&lt;/script&gt;\n",
              "    &lt;link rel=&quot;stylesheet&quot; href=&quot;https://cdnjs.cloudflare.com/ajax/libs/leaflet.fullscreen/1.4.2/Control.FullScreen.min.css&quot;/&gt;\n",
              "    &lt;script src=&quot;https://cdnjs.cloudflare.com/ajax/libs/leaflet.draw/1.0.2/leaflet.draw.js&quot;&gt;&lt;/script&gt;\n",
              "    &lt;link rel=&quot;stylesheet&quot; href=&quot;https://cdnjs.cloudflare.com/ajax/libs/leaflet.draw/1.0.2/leaflet.draw.css&quot;/&gt;\n",
              "    &lt;script src=&quot;https://unpkg.com/leaflet-control-geocoder/dist/Control.Geocoder.js&quot;&gt;&lt;/script&gt;\n",
              "    &lt;link rel=&quot;stylesheet&quot; href=&quot;https://unpkg.com/leaflet-control-geocoder/dist/Control.Geocoder.css&quot;/&gt;\n",
              "&lt;/head&gt;\n",
              "&lt;body&gt;\n",
              "    \n",
              "    \n",
              "            &lt;div class=&quot;folium-map&quot; id=&quot;map_a839ec0dbbb8380da9cdb1b62a96e034&quot; &gt;&lt;/div&gt;\n",
              "        \n",
              "&lt;/body&gt;\n",
              "&lt;script&gt;\n",
              "    \n",
              "    \n",
              "            var map_a839ec0dbbb8380da9cdb1b62a96e034 = L.map(\n",
              "                &quot;map_a839ec0dbbb8380da9cdb1b62a96e034&quot;,\n",
              "                {\n",
              "                    center: [20.0, 0.0],\n",
              "                    crs: L.CRS.EPSG3857,\n",
              "                    zoom: 2,\n",
              "                    zoomControl: true,\n",
              "                    preferCanvas: false,\n",
              "                    addGoogleMap: false,\n",
              "                    eeInitialize: true,\n",
              "                    pluginLatlngpopup: false,\n",
              "                    pluginFullscreen: true,\n",
              "                    pluginDraw: true,\n",
              "                    DrawExport: false,\n",
              "                    pluginMinimap: false,\n",
              "                    locateControl: false,\n",
              "                    searchControl: true,\n",
              "                    layersControl: true,\n",
              "                }\n",
              "            );\n",
              "\n",
              "            \n",
              "\n",
              "        \n",
              "    \n",
              "            var tile_layer_c61bd00848ec26617e23201c95471aad = L.tileLayer(\n",
              "                &quot;https://{s}.tile.openstreetmap.org/{z}/{x}/{y}.png&quot;,\n",
              "                {&quot;attribution&quot;: &quot;Data by \\u0026copy; \\u003ca target=\\&quot;_blank\\&quot; href=\\&quot;http://openstreetmap.org\\&quot;\\u003eOpenStreetMap\\u003c/a\\u003e, under \\u003ca target=\\&quot;_blank\\&quot; href=\\&quot;http://www.openstreetmap.org/copyright\\&quot;\\u003eODbL\\u003c/a\\u003e.&quot;, &quot;detectRetina&quot;: false, &quot;maxNativeZoom&quot;: 30, &quot;maxZoom&quot;: 30, &quot;minZoom&quot;: 0, &quot;noWrap&quot;: false, &quot;opacity&quot;: 1, &quot;subdomains&quot;: &quot;abc&quot;, &quot;tms&quot;: false}\n",
              "            ).addTo(map_a839ec0dbbb8380da9cdb1b62a96e034);\n",
              "        \n",
              "    \n",
              "            L.control.fullscreen(\n",
              "                {&quot;forceSeparateButton&quot;: false, &quot;position&quot;: &quot;topleft&quot;, &quot;title&quot;: &quot;Full Screen&quot;, &quot;titleCancel&quot;: &quot;Exit Full Screen&quot;}\n",
              "            ).addTo(map_a839ec0dbbb8380da9cdb1b62a96e034);\n",
              "        \n",
              "    \n",
              "            var options = {\n",
              "              position: &quot;topleft&quot;,\n",
              "              draw: {},\n",
              "              edit: {},\n",
              "            }\n",
              "            // FeatureGroup is to store editable layers.\n",
              "            var drawnItems = new L.featureGroup().addTo(\n",
              "                map_a839ec0dbbb8380da9cdb1b62a96e034\n",
              "            );\n",
              "            options.edit.featureGroup = drawnItems;\n",
              "            var draw_control_35a1cc17bbfacf64dd40604b3fa20f12 = new L.Control.Draw(\n",
              "                options\n",
              "            ).addTo( map_a839ec0dbbb8380da9cdb1b62a96e034 );\n",
              "            map_a839ec0dbbb8380da9cdb1b62a96e034.on(L.Draw.Event.CREATED, function(e) {\n",
              "                var layer = e.layer,\n",
              "                    type = e.layerType;\n",
              "                var coords = JSON.stringify(layer.toGeoJSON());\n",
              "                layer.on(&#x27;click&#x27;, function() {\n",
              "                    alert(coords);\n",
              "                    console.log(coords);\n",
              "                });\n",
              "                drawnItems.addLayer(layer);\n",
              "             });\n",
              "            map_a839ec0dbbb8380da9cdb1b62a96e034.on(&#x27;draw:created&#x27;, function(e) {\n",
              "                drawnItems.addLayer(e.layer);\n",
              "            });\n",
              "            \n",
              "        \n",
              "    \n",
              "            L.Control.geocoder(\n",
              "                {&quot;collapsed&quot;: true, &quot;defaultMarkGeocode&quot;: true, &quot;position&quot;: &quot;topleft&quot;}\n",
              "            ).on(&#x27;markgeocode&#x27;, function(e) {\n",
              "                map_a839ec0dbbb8380da9cdb1b62a96e034.setView(e.geocode.center, 11);\n",
              "            }).addTo(map_a839ec0dbbb8380da9cdb1b62a96e034);\n",
              "\n",
              "        \n",
              "    \n",
              "            map_a839ec0dbbb8380da9cdb1b62a96e034.fitBounds(\n",
              "                [[20, 0], [20, 0]],\n",
              "                {&quot;maxZoom&quot;: 2}\n",
              "            );\n",
              "        \n",
              "    \n",
              "            var tile_layer_5ed50a320320ead3f8dc3163431736db = L.tileLayer(\n",
              "                &quot;https://earthengine.googleapis.com/v1/projects/tern-landscapes/maps/c2d5291785ae7886a63454bc07550475-9ac9c4e0be5d60064ec0cff0eb836230/tiles/{z}/{x}/{y}&quot;,\n",
              "                {&quot;attribution&quot;: &quot;Google Earth Engine&quot;, &quot;detectRetina&quot;: false, &quot;maxNativeZoom&quot;: 24, &quot;maxZoom&quot;: 24, &quot;minZoom&quot;: 0, &quot;noWrap&quot;: false, &quot;opacity&quot;: 1.0, &quot;subdomains&quot;: &quot;abc&quot;, &quot;tms&quot;: false}\n",
              "            ).addTo(map_a839ec0dbbb8380da9cdb1b62a96e034);\n",
              "        \n",
              "    \n",
              "            map_a839ec0dbbb8380da9cdb1b62a96e034.fitBounds(\n",
              "                [[-43.86037344550885, 128.22162919446052], [-12.070220260884252, 153.37053104267193]],\n",
              "                {}\n",
              "            );\n",
              "        \n",
              "    \n",
              "            var layer_control_3981ef53d9507456cb1fdde5573746d9 = {\n",
              "                base_layers : {\n",
              "                    &quot;openstreetmap&quot; : tile_layer_c61bd00848ec26617e23201c95471aad,\n",
              "                },\n",
              "                overlays :  {\n",
              "                    &quot;Study Sites&quot; : tile_layer_5ed50a320320ead3f8dc3163431736db,\n",
              "                },\n",
              "            };\n",
              "            L.control.layers(\n",
              "                layer_control_3981ef53d9507456cb1fdde5573746d9.base_layers,\n",
              "                layer_control_3981ef53d9507456cb1fdde5573746d9.overlays,\n",
              "                {&quot;autoZIndex&quot;: true, &quot;collapsed&quot;: true, &quot;position&quot;: &quot;topright&quot;}\n",
              "            ).addTo(map_a839ec0dbbb8380da9cdb1b62a96e034);\n",
              "        \n",
              "&lt;/script&gt;\n",
              "&lt;/html&gt;\" width=\"100%\" height=\"600\"style=\"border:none !important;\" \"allowfullscreen\" \"webkitallowfullscreen\" \"mozallowfullscreen\"></iframe>"
            ]
          },
          "metadata": {},
          "execution_count": 10
        }
      ],
      "source": [
        "# Visualize the regions of interest.\n",
        "Map = geemap.Map(add_google_map = False)\n",
        "Map.addLayer(regions, {'color': 'green'}, 'Study Sites')\n",
        "Map.centerObject(regions)\n",
        "Map"
      ]
    },
    {
      "cell_type": "markdown",
      "metadata": {
        "id": "1cCja_FJFKY7"
      },
      "source": [
        "Next, we will access [CMRSET](https://developers.google.com/earth-engine/datasets/catalog/TERN_AET_CMRSET_LANDSAT_V2_2) from the [Earth Engine data catalog](https://developers.google.com/earth-engine/datasets), and filter down the [ImageCollection](https://developers.google.com/earth-engine/tutorials/tutorial_api_04) to the period of interest."
      ]
    },
    {
      "cell_type": "code",
      "execution_count": 11,
      "metadata": {
        "id": "bOVj_wrStdP1",
        "colab": {
          "base_uri": "https://localhost:8080/",
          "height": 17
        },
        "outputId": "d0587e4c-f8e8-49f2-a53a-3bbe782e5577"
      },
      "outputs": [
        {
          "output_type": "display_data",
          "data": {
            "text/plain": [
              "<IPython.core.display.HTML object>"
            ],
            "text/html": [
              "\n",
              "            <style>\n",
              "                .geemap-dark {\n",
              "                    --jp-widgets-color: white;\n",
              "                    --jp-widgets-label-color: white;\n",
              "                    --jp-ui-font-color1: white;\n",
              "                    --jp-layout-color2: #454545;\n",
              "                    background-color: #383838;\n",
              "                }\n",
              "\n",
              "                .geemap-dark .jupyter-button {\n",
              "                    --jp-layout-color3: #383838;\n",
              "                }\n",
              "\n",
              "                .geemap-colab {\n",
              "                    background-color: var(--colab-primary-surface-color, white);\n",
              "                }\n",
              "\n",
              "                .geemap-colab .jupyter-button {\n",
              "                    --jp-layout-color3: var(--colab-primary-surface-color, white);\n",
              "                }\n",
              "            </style>\n",
              "            "
            ]
          },
          "metadata": {}
        }
      ],
      "source": [
        "# Define the period of interest.\n",
        "start = '2012-02-01'\n",
        "end = '2021-03-01'\n",
        "\n",
        "# Access evapotranspiration from the CMRSET dataset.\n",
        "cmrset_aet = ee.ImageCollection(\"TERN/AET/CMRSET_LANDSAT_V2_2\").filterDate(start, end).select(['ETa'])"
      ]
    },
    {
      "cell_type": "markdown",
      "metadata": {
        "id": "0M_daJdQGkYP"
      },
      "source": [
        "Lastly, we will obtain the [statistics of our regions](https://developers.google.com/earth-engine/guides/reducers_reduce_regions) for each image. Here we will use a `mean()` reducer to compute the average of the pixels for each feature... since the average statistician is just plain mean? 😮 However if you wish to use a different statistic you can refer to *ee.Reducer* in the **Client Libraries** [API Reference](https://developers.google.com/earth-engine/apidocs)."
      ]
    },
    {
      "cell_type": "code",
      "execution_count": 12,
      "metadata": {
        "id": "vILLXX5tLLgc",
        "colab": {
          "base_uri": "https://localhost:8080/",
          "height": 17
        },
        "outputId": "e6b4b5db-d40e-41b3-8aac-b9542966c017"
      },
      "outputs": [
        {
          "output_type": "display_data",
          "data": {
            "text/plain": [
              "<IPython.core.display.HTML object>"
            ],
            "text/html": [
              "\n",
              "            <style>\n",
              "                .geemap-dark {\n",
              "                    --jp-widgets-color: white;\n",
              "                    --jp-widgets-label-color: white;\n",
              "                    --jp-ui-font-color1: white;\n",
              "                    --jp-layout-color2: #454545;\n",
              "                    background-color: #383838;\n",
              "                }\n",
              "\n",
              "                .geemap-dark .jupyter-button {\n",
              "                    --jp-layout-color3: #383838;\n",
              "                }\n",
              "\n",
              "                .geemap-colab {\n",
              "                    background-color: var(--colab-primary-surface-color, white);\n",
              "                }\n",
              "\n",
              "                .geemap-colab .jupyter-button {\n",
              "                    --jp-layout-color3: var(--colab-primary-surface-color, white);\n",
              "                }\n",
              "            </style>\n",
              "            "
            ]
          },
          "metadata": {}
        }
      ],
      "source": [
        "# A helper function to assist with aggregating the features.\n",
        "def reduceFeaturesForImage(image):\n",
        "\n",
        "  # Calculate average evapotranspiration for each feature in the set.\n",
        "  mean_aet = image.reduceRegions(**{\n",
        "    'collection': regions,\n",
        "    'reducer': ee.Reducer.mean(),\n",
        "    'scale': 30\n",
        "  })\n",
        "\n",
        "  # Transfer the image date across to each feature as a new attribute.\n",
        "  date = image.date().format('yyyy-MM-dd')\n",
        "  return mean_aet.map(lambda feature: feature.set('Date', date))\n",
        "\n",
        "# For each image, compute the aggregate for each feature.\n",
        "reduced_aet = cmrset_aet.map(reduceFeaturesForImage).flatten()"
      ]
    },
    {
      "cell_type": "markdown",
      "metadata": {
        "id": "M65EX5rqHezH"
      },
      "source": [
        "## Export the CSV to Google Drive\n",
        "Before we export, let's first take a look at the [properties](https://developers.google.com/earth-engine/guides/feature_collection_info) (sometimes also known as *attributes* or *metadata*) which are associated with each feature so we can decide what data to export. We will just inspect the first feature..."
      ]
    },
    {
      "cell_type": "code",
      "execution_count": null,
      "metadata": {
        "colab": {
          "base_uri": "https://localhost:8080/",
          "height": 17
        },
        "id": "6coWj__kd1a8",
        "outputId": "4f0bf9af-f77b-44cd-cfc6-0f679ebfdb25"
      },
      "outputs": [
        {
          "output_type": "display_data",
          "data": {
            "text/plain": [
              "<IPython.core.display.HTML object>"
            ],
            "text/html": [
              "\n",
              "            <style>\n",
              "                .geemap-dark {\n",
              "                    --jp-widgets-color: white;\n",
              "                    --jp-widgets-label-color: white;\n",
              "                    --jp-ui-font-color1: white;\n",
              "                    --jp-layout-color2: #454545;\n",
              "                    background-color: #383838;\n",
              "                }\n",
              "\n",
              "                .geemap-dark .jupyter-button {\n",
              "                    --jp-layout-color3: #383838;\n",
              "                }\n",
              "\n",
              "                .geemap-colab {\n",
              "                    background-color: var(--colab-primary-surface-color, white);\n",
              "                }\n",
              "\n",
              "                .geemap-colab .jupyter-button {\n",
              "                    --jp-layout-color3: var(--colab-primary-surface-color, white);\n",
              "                }\n",
              "            </style>\n",
              "            "
            ]
          },
          "metadata": {}
        }
      ],
      "source": [
        "# Get the properties for the first feature.\n",
        "properties = reduced_aet.first().toDictionary().getInfo()\n",
        "\n",
        "# Print each properties key/value pair.\n",
        "for property in properties:\n",
        "  print('{0}: {1}'.format(property, properties[property]))"
      ]
    },
    {
      "cell_type": "markdown",
      "metadata": {
        "id": "Q28Wix3ujNca"
      },
      "source": [
        "Now, let's define an [export task](https://developers.google.com/earth-engine/guides/exporting) from Earth Engine which will [export the table to Google Drive](https://developers.google.com/earth-engine/apidocs/export-table-todrive) as a CSV file...  After observing the properties we have available, let's select the following properties as columns for our CSV file to be exported:\n",
        "\n",
        "\n",
        "1.   **NAME**: The name of the protected region (property already available on our features of interest).\n",
        "2.   **Date**: The image date which was transferred to each feature during the aggregation process (poperty created within this script).\n",
        "3.   **mean**: The resulting property which was generated after running the  `mean()` reducer (property created within this script).\n",
        "\n",
        "We will also *sort* our features by the **NAME** property so our CSV records will be grouped by each site during the export."
      ]
    },
    {
      "cell_type": "code",
      "execution_count": null,
      "metadata": {
        "id": "5DjGDn-fbbLG"
      },
      "outputs": [],
      "source": [
        "# Define the export settings.\n",
        "export_folder = 'CMRSET_Exports'\n",
        "task_description = 'CMRSET_{0}_{1}_Monthly'.format(start, end)\n",
        "\n",
        "# Export the table, specifying the columns to be included.\n",
        "task = ee.batch.Export.table.toDrive(**{\n",
        "    'collection': reduced_aet.sort('NAME'), # Sort the records by NAME property.\n",
        "    'selectors': ['NAME', 'Date', 'mean'],  # Select these properties to be exported.\n",
        "    'description': task_description,\n",
        "    'folder': export_folder\n",
        "})\n",
        "task.start()"
      ]
    },
    {
      "cell_type": "markdown",
      "metadata": {
        "id": "j724mK4YGchF"
      },
      "source": [
        "Now that your task has started, you may monitor it's progress under the **Tasks** tab in the [Earth Engine Code Editor](https://code.earthengine.google.com/) or via the [Earth Engine Task Manager](https://code.earthengine.google.com/tasks)"
      ]
    }
  ],
  "metadata": {
    "colab": {
      "name": "Example 2 - Aggregating CMRSET for a set of Features (Spatial Aggregation).ipynb",
      "provenance": []
    },
    "kernelspec": {
      "display_name": "Python 3",
      "name": "python3"
    },
    "language_info": {
      "name": "python"
    }
  },
  "nbformat": 4,
  "nbformat_minor": 0
}