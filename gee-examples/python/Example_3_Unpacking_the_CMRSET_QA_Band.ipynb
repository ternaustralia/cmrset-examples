{
  "cells": [
    {
      "cell_type": "markdown",
      "metadata": {
        "id": "view-badges"
      },
      "source": [
        "<a href=\"https://github.com/ternaustralia/cmrset-examples/blob/main/gee-examples/python/Example_3_Unpacking_the_CMRSET_QA_Band.ipynb\" target=\"_parent\"><img src=\"https://img.shields.io/static/v1?logo=GitHub&label=&color=333333&style=flat&message=View%20on%20GitHub\" alt=\"View on GitHub\"/></a>\n",
        "&nbsp;\n",
        "<a href=\"https://colab.research.google.com/github/ternaustralia/cmrset-examples/blob/main/gee-examples/python/Example_3_Unpacking_the_CMRSET_QA_Band.ipynb\" target=\"_parent\"><img src=\"https://colab.research.google.com/assets/colab-badge.svg\" alt=\"Open In Colab\"/></a>\n",
        "&nbsp;\n",
        "<a href=\"https://mybinder.org/v2/gh/ternaustralia/cmrset-examples/HEAD?labpath=gee-examples%2Fpython%2FExample_3_Unpacking_the_CMRSET_QA_Band.ipynb\" target=\"_parent\"><img src=\"https://mybinder.org/badge_logo.svg\" alt=\"Open In Binder\"/></a>\n"
      ]
    },
    {
      "cell_type": "markdown",
      "metadata": {
        "id": "sH8Y3EPBTjOG"
      },
      "source": [
        "# Example 3 - Unpacking the CMRSET QA Band\n",
        "This example illustrates how to unpack the CMRSET QA band.  The CMRSET QA band contains 4 pieces of extra information for each pixel which may further assist with your analysis. These 4 pieces of information are: the source of the data; condensation adjustment; the number of Landsat observations used for this pixel; and whether the pixel value was derived from Landsat SLC-Off data.\n",
        "\n",
        "To run this example it is assumed you have [registered](https://signup.earthengine.google.com/) to [Google Earth Engine](https://earthengine.google.com/). Please feel free to adapt this example to meet your own requirements.\n",
        "\n",
        "---\n",
        "**Execution Time:** Real-time\n",
        "\n",
        "**Storage Required:** Nil"
      ]
    },
    {
      "cell_type": "markdown",
      "metadata": {
        "id": "TqTLkfRsg2vh"
      },
      "source": [
        "## Install geemap\n",
        "The [geemap](https://geemap.org/) Python package is built upon [ipyleaflet](https://github.com/jupyter-widgets/ipyleaflet) and [folium](https://github.com/python-visualization/folium) packages, and enables users to analyze and visualize Earth Engine datasets interactively within a Jupyter-based environment.  The geemap API also mimics the official Google Earth Engine Javascript Map API when making calls such as `Map.addLayer()`, `Map.setCenter()`, and `Map.centerObject()`, etc. This simplifies the translation between both languages if you are transitioning from Javascript to Python.\n",
        "\n",
        "Note: the package ipyleaflet is not compatible with Google Colab, hence you will notice we specifically import the [folium implementation](https://geemap.org/foliumap/) in this example for broarder compatibility."
      ]
    },
    {
      "cell_type": "code",
      "execution_count": 37,
      "metadata": {
        "colab": {
          "base_uri": "https://localhost:8080/",
          "height": 17
        },
        "id": "1Rnk0oVkgtrq",
        "outputId": "010c9942-057d-4aac-b97c-1c4577e83e04"
      },
      "outputs": [
        {
          "output_type": "display_data",
          "data": {
            "text/plain": [
              "<IPython.core.display.HTML object>"
            ],
            "text/html": [
              "\n",
              "            <style>\n",
              "                .geemap-dark {\n",
              "                    --jp-widgets-color: white;\n",
              "                    --jp-widgets-label-color: white;\n",
              "                    --jp-ui-font-color1: white;\n",
              "                    --jp-layout-color2: #454545;\n",
              "                    background-color: #383838;\n",
              "                }\n",
              "\n",
              "                .geemap-dark .jupyter-button {\n",
              "                    --jp-layout-color3: #383838;\n",
              "                }\n",
              "\n",
              "                .geemap-colab {\n",
              "                    background-color: var(--colab-primary-surface-color, white);\n",
              "                }\n",
              "\n",
              "                .geemap-colab .jupyter-button {\n",
              "                    --jp-layout-color3: var(--colab-primary-surface-color, white);\n",
              "                }\n",
              "            </style>\n",
              "            "
            ]
          },
          "metadata": {}
        }
      ],
      "source": [
        "# Installs the geemap package\n",
        "import subprocess\n",
        "\n",
        "try:\n",
        "    import geemap.foliumap as geemap\n",
        "except ImportError:\n",
        "    print('Installing geemap...')\n",
        "    subprocess.check_call([\"python\", '-m', 'pip', 'install', 'geemap'])"
      ]
    },
    {
      "cell_type": "code",
      "execution_count": 38,
      "metadata": {
        "id": "befdSgC8q8HO",
        "colab": {
          "base_uri": "https://localhost:8080/",
          "height": 17
        },
        "outputId": "74ecf3a7-3937-438e-b6a6-0d2b3724ad3e"
      },
      "outputs": [
        {
          "output_type": "display_data",
          "data": {
            "text/plain": [
              "<IPython.core.display.HTML object>"
            ],
            "text/html": [
              "\n",
              "            <style>\n",
              "                .geemap-dark {\n",
              "                    --jp-widgets-color: white;\n",
              "                    --jp-widgets-label-color: white;\n",
              "                    --jp-ui-font-color1: white;\n",
              "                    --jp-layout-color2: #454545;\n",
              "                    background-color: #383838;\n",
              "                }\n",
              "\n",
              "                .geemap-dark .jupyter-button {\n",
              "                    --jp-layout-color3: #383838;\n",
              "                }\n",
              "\n",
              "                .geemap-colab {\n",
              "                    background-color: var(--colab-primary-surface-color, white);\n",
              "                }\n",
              "\n",
              "                .geemap-colab .jupyter-button {\n",
              "                    --jp-layout-color3: var(--colab-primary-surface-color, white);\n",
              "                }\n",
              "            </style>\n",
              "            "
            ]
          },
          "metadata": {}
        }
      ],
      "source": [
        "import geemap.foliumap as geemap"
      ]
    },
    {
      "cell_type": "markdown",
      "metadata": {
        "id": "2wal3JNtAncS"
      },
      "source": [
        "## Authenticate and initialize\n",
        "Run the `ee.Authenticate()` function to authenticate your access to Earth Engine servers and `ee.Initialize()` to initialize it. Upon running the following cell you'll be asked to grant Earth Engine access to your Google account.  **Please follow the instructions in the prompts.** You will also need to enter your Google Earth Engine Cloud Project ID below."
      ]
    },
    {
      "cell_type": "code",
      "execution_count": 39,
      "metadata": {
        "colab": {
          "base_uri": "https://localhost:8080/",
          "height": 17
        },
        "id": "0E7Roy_8vEMr",
        "outputId": "daaf82f9-c321-48ca-cc33-8c0b64a7182c"
      },
      "outputs": [
        {
          "output_type": "display_data",
          "data": {
            "text/plain": [
              "<IPython.core.display.HTML object>"
            ],
            "text/html": [
              "\n",
              "            <style>\n",
              "                .geemap-dark {\n",
              "                    --jp-widgets-color: white;\n",
              "                    --jp-widgets-label-color: white;\n",
              "                    --jp-ui-font-color1: white;\n",
              "                    --jp-layout-color2: #454545;\n",
              "                    background-color: #383838;\n",
              "                }\n",
              "\n",
              "                .geemap-dark .jupyter-button {\n",
              "                    --jp-layout-color3: #383838;\n",
              "                }\n",
              "\n",
              "                .geemap-colab {\n",
              "                    background-color: var(--colab-primary-surface-color, white);\n",
              "                }\n",
              "\n",
              "                .geemap-colab .jupyter-button {\n",
              "                    --jp-layout-color3: var(--colab-primary-surface-color, white);\n",
              "                }\n",
              "            </style>\n",
              "            "
            ]
          },
          "metadata": {}
        }
      ],
      "source": [
        "# Import the Earth Engine module\n",
        "import ee\n",
        "\n",
        "# Cloud Project ID to associate with your Earth Engine workspace.\n",
        "project = \"Your Project ID to use\"\n",
        "\n",
        "try:\n",
        "    ee.Initialize(project=project) # Initialize the library.\n",
        "except Exception as e:\n",
        "    ee.Authenticate() # If initialization fails, authentication is required... Trigger the authentication flow and initialize again.\n",
        "    ee.Initialize(project=project) # Initialize the library."
      ]
    },
    {
      "cell_type": "markdown",
      "metadata": {
        "id": "0I8yt7oTDrga"
      },
      "source": [
        "## Unpack the pixel QA band\n",
        "Let's access [CMRSET](https://developers.google.com/earth-engine/datasets/catalog/TERN_AET_CMRSET_LANDSAT_V2_2) from the [Earth Engine data catalog](https://developers.google.com/earth-engine/datasets), and filter down the [ImageCollection](https://developers.google.com/earth-engine/tutorials/tutorial_api_04) to a single month."
      ]
    },
    {
      "cell_type": "code",
      "execution_count": 40,
      "metadata": {
        "id": "bOVj_wrStdP1",
        "colab": {
          "base_uri": "https://localhost:8080/",
          "height": 17
        },
        "outputId": "0d1ddfe8-3eff-4095-d26e-cf5feb63b9f2"
      },
      "outputs": [
        {
          "output_type": "display_data",
          "data": {
            "text/plain": [
              "<IPython.core.display.HTML object>"
            ],
            "text/html": [
              "\n",
              "            <style>\n",
              "                .geemap-dark {\n",
              "                    --jp-widgets-color: white;\n",
              "                    --jp-widgets-label-color: white;\n",
              "                    --jp-ui-font-color1: white;\n",
              "                    --jp-layout-color2: #454545;\n",
              "                    background-color: #383838;\n",
              "                }\n",
              "\n",
              "                .geemap-dark .jupyter-button {\n",
              "                    --jp-layout-color3: #383838;\n",
              "                }\n",
              "\n",
              "                .geemap-colab {\n",
              "                    background-color: var(--colab-primary-surface-color, white);\n",
              "                }\n",
              "\n",
              "                .geemap-colab .jupyter-button {\n",
              "                    --jp-layout-color3: var(--colab-primary-surface-color, white);\n",
              "                }\n",
              "            </style>\n",
              "            "
            ]
          },
          "metadata": {}
        }
      ],
      "source": [
        "# Define the period of interest.\n",
        "date = '2004-07-01'\n",
        "\n",
        "# Access the CMRSET dataset.\n",
        "cmrset_aet = ee.ImageCollection(\"TERN/AET/CMRSET_LANDSAT_V2_2\").filterDate(date).first()"
      ]
    },
    {
      "cell_type": "markdown",
      "metadata": {
        "id": "0M_daJdQGkYP"
      },
      "source": [
        "When two bytes meet in a bar... The first byte asks, “Are you ill?”\n",
        "The second byte replies, “No, just feeling a bit off”.\n",
        "\n",
        "You don't want your science data to be a bit off, so let's accurately unpack the [CMRSET pixel QA byte](https://developers.google.com/earth-engine/datasets/catalog/TERN_AET_CMRSET_LANDSAT_V2_2#bands) using this function..."
      ]
    },
    {
      "cell_type": "code",
      "execution_count": 41,
      "metadata": {
        "id": "vILLXX5tLLgc",
        "colab": {
          "base_uri": "https://localhost:8080/",
          "height": 17
        },
        "outputId": "34ea0c9e-cccb-4618-f02e-ee2b320a9824"
      },
      "outputs": [
        {
          "output_type": "display_data",
          "data": {
            "text/plain": [
              "<IPython.core.display.HTML object>"
            ],
            "text/html": [
              "\n",
              "            <style>\n",
              "                .geemap-dark {\n",
              "                    --jp-widgets-color: white;\n",
              "                    --jp-widgets-label-color: white;\n",
              "                    --jp-ui-font-color1: white;\n",
              "                    --jp-layout-color2: #454545;\n",
              "                    background-color: #383838;\n",
              "                }\n",
              "\n",
              "                .geemap-dark .jupyter-button {\n",
              "                    --jp-layout-color3: #383838;\n",
              "                }\n",
              "\n",
              "                .geemap-colab {\n",
              "                    background-color: var(--colab-primary-surface-color, white);\n",
              "                }\n",
              "\n",
              "                .geemap-colab .jupyter-button {\n",
              "                    --jp-layout-color3: var(--colab-primary-surface-color, white);\n",
              "                }\n",
              "            </style>\n",
              "            "
            ]
          },
          "metadata": {}
        }
      ],
      "source": [
        "# Helper function to unpack the pixel_qa band.\n",
        "def unpack_pixel_qa(image):\n",
        "\n",
        "  qa = image.select(\"pixel_qa\")\n",
        "\n",
        "  # Unpack the bits.\n",
        "  data_source = qa.bitwiseAnd(3).rename('data_source') # Bits: 0-1\n",
        "  condensation = qa.rightShift(2).bitwiseAnd(1).rename('condensation') # Bit: 2\n",
        "  landsat_count = qa.rightShift(3).bitwiseAnd(15).rename('landsat_count') # Bits: 3-6\n",
        "  slc_off = qa.rightShift(7).rename('slc_off') # Bit: 7\n",
        "\n",
        "  # Append to the original image.\n",
        "  return image.addBands(data_source).addBands(condensation).addBands(landsat_count).addBands(slc_off)"
      ]
    },
    {
      "cell_type": "code",
      "execution_count": 42,
      "metadata": {
        "id": "urI--aW8vRyy",
        "colab": {
          "base_uri": "https://localhost:8080/",
          "height": 17
        },
        "outputId": "2998d769-75b1-4c23-fcd6-bc8015888d62"
      },
      "outputs": [
        {
          "output_type": "display_data",
          "data": {
            "text/plain": [
              "<IPython.core.display.HTML object>"
            ],
            "text/html": [
              "\n",
              "            <style>\n",
              "                .geemap-dark {\n",
              "                    --jp-widgets-color: white;\n",
              "                    --jp-widgets-label-color: white;\n",
              "                    --jp-ui-font-color1: white;\n",
              "                    --jp-layout-color2: #454545;\n",
              "                    background-color: #383838;\n",
              "                }\n",
              "\n",
              "                .geemap-dark .jupyter-button {\n",
              "                    --jp-layout-color3: #383838;\n",
              "                }\n",
              "\n",
              "                .geemap-colab {\n",
              "                    background-color: var(--colab-primary-surface-color, white);\n",
              "                }\n",
              "\n",
              "                .geemap-colab .jupyter-button {\n",
              "                    --jp-layout-color3: var(--colab-primary-surface-color, white);\n",
              "                }\n",
              "            </style>\n",
              "            "
            ]
          },
          "metadata": {}
        }
      ],
      "source": [
        "# Call the helper function to unpack the band.\n",
        "result = unpack_pixel_qa(cmrset_aet)"
      ]
    },
    {
      "cell_type": "markdown",
      "metadata": {
        "id": "OjbocWjBRXkB"
      },
      "source": [
        "## Preview the result\n",
        "Let's now take a look at the four layers on a map...."
      ]
    },
    {
      "cell_type": "code",
      "execution_count": 43,
      "metadata": {
        "id": "WF45XxalDfM-",
        "colab": {
          "base_uri": "https://localhost:8080/",
          "height": 17
        },
        "outputId": "752f7286-ac6a-41a2-8bbe-179fd897e5fc"
      },
      "outputs": [
        {
          "output_type": "display_data",
          "data": {
            "text/plain": [
              "<IPython.core.display.HTML object>"
            ],
            "text/html": [
              "\n",
              "            <style>\n",
              "                .geemap-dark {\n",
              "                    --jp-widgets-color: white;\n",
              "                    --jp-widgets-label-color: white;\n",
              "                    --jp-ui-font-color1: white;\n",
              "                    --jp-layout-color2: #454545;\n",
              "                    background-color: #383838;\n",
              "                }\n",
              "\n",
              "                .geemap-dark .jupyter-button {\n",
              "                    --jp-layout-color3: #383838;\n",
              "                }\n",
              "\n",
              "                .geemap-colab {\n",
              "                    background-color: var(--colab-primary-surface-color, white);\n",
              "                }\n",
              "\n",
              "                .geemap-colab .jupyter-button {\n",
              "                    --jp-layout-color3: var(--colab-primary-surface-color, white);\n",
              "                }\n",
              "            </style>\n",
              "            "
            ]
          },
          "metadata": {}
        }
      ],
      "source": [
        "# Visualise the layers on the map.\n",
        "Map = geemap.Map(add_google_map = False)\n",
        "Map.addLayer(result.select(\"ETa\"), {'min':0, 'max':7, 'palette': [\"d7191c\",\"fdae61\",\"ffffbf\",\"abd9e9\",\"2c7bb6\"]}, \"ETa\", False)\n",
        "\n",
        "Map.addLayer(result.select('data_source'), {'min':0, 'max': 3, 'palette': ['black','red','orange','green']}, 'Data Source (pixel_qa)');\n",
        "Map.addLayer(result.select('condensation'), {'min':0, 'max': 1, 'palette': ['black','magenta']}, 'Condensation (pixel_qa)');\n",
        "Map.addLayer(result.select('landsat_count'), {'min':0, 'max': 7, 'palette': ['white','blue']}, 'Landsat Count (pixel_qa)');\n",
        "Map.addLayer(result.select('slc_off'), {'min':0, 'max': 1, 'palette': ['black','magenta']}, 'SLC-Off (pixel_qa)');\n",
        "\n",
        "Map.centerObject(result)"
      ]
    },
    {
      "cell_type": "code",
      "execution_count": 44,
      "metadata": {
        "colab": {
          "base_uri": "https://localhost:8080/",
          "height": 621
        },
        "id": "d9dzzSKPfs9V",
        "outputId": "fd2aa8e3-fe67-4546-cb18-24a936e9b439"
      },
      "outputs": [
        {
          "output_type": "display_data",
          "data": {
            "text/plain": [
              "<IPython.core.display.HTML object>"
            ],
            "text/html": [
              "\n",
              "            <style>\n",
              "                .geemap-dark {\n",
              "                    --jp-widgets-color: white;\n",
              "                    --jp-widgets-label-color: white;\n",
              "                    --jp-ui-font-color1: white;\n",
              "                    --jp-layout-color2: #454545;\n",
              "                    background-color: #383838;\n",
              "                }\n",
              "\n",
              "                .geemap-dark .jupyter-button {\n",
              "                    --jp-layout-color3: #383838;\n",
              "                }\n",
              "\n",
              "                .geemap-colab {\n",
              "                    background-color: var(--colab-primary-surface-color, white);\n",
              "                }\n",
              "\n",
              "                .geemap-colab .jupyter-button {\n",
              "                    --jp-layout-color3: var(--colab-primary-surface-color, white);\n",
              "                }\n",
              "            </style>\n",
              "            "
            ]
          },
          "metadata": {}
        },
        {
          "output_type": "execute_result",
          "data": {
            "text/plain": [
              "<geemap.foliumap.Map at 0x7cf213f26350>"
            ],
            "text/html": [
              "<iframe srcdoc=\"&lt;!DOCTYPE html&gt;\n",
              "&lt;html&gt;\n",
              "&lt;head&gt;\n",
              "    \n",
              "    &lt;meta http-equiv=&quot;content-type&quot; content=&quot;text/html; charset=UTF-8&quot; /&gt;\n",
              "    \n",
              "        &lt;script&gt;\n",
              "            L_NO_TOUCH = false;\n",
              "            L_DISABLE_3D = false;\n",
              "        &lt;/script&gt;\n",
              "    \n",
              "    &lt;style&gt;html, body {width: 100%;height: 100%;margin: 0;padding: 0;}&lt;/style&gt;\n",
              "    &lt;style&gt;#map {position:absolute;top:0;bottom:0;right:0;left:0;}&lt;/style&gt;\n",
              "    &lt;script src=&quot;https://cdn.jsdelivr.net/npm/leaflet@1.9.3/dist/leaflet.js&quot;&gt;&lt;/script&gt;\n",
              "    &lt;script src=&quot;https://code.jquery.com/jquery-1.12.4.min.js&quot;&gt;&lt;/script&gt;\n",
              "    &lt;script src=&quot;https://cdn.jsdelivr.net/npm/bootstrap@5.2.2/dist/js/bootstrap.bundle.min.js&quot;&gt;&lt;/script&gt;\n",
              "    &lt;script src=&quot;https://cdnjs.cloudflare.com/ajax/libs/Leaflet.awesome-markers/2.0.2/leaflet.awesome-markers.js&quot;&gt;&lt;/script&gt;\n",
              "    &lt;link rel=&quot;stylesheet&quot; href=&quot;https://cdn.jsdelivr.net/npm/leaflet@1.9.3/dist/leaflet.css&quot;/&gt;\n",
              "    &lt;link rel=&quot;stylesheet&quot; href=&quot;https://cdn.jsdelivr.net/npm/bootstrap@5.2.2/dist/css/bootstrap.min.css&quot;/&gt;\n",
              "    &lt;link rel=&quot;stylesheet&quot; href=&quot;https://netdna.bootstrapcdn.com/bootstrap/3.0.0/css/bootstrap.min.css&quot;/&gt;\n",
              "    &lt;link rel=&quot;stylesheet&quot; href=&quot;https://cdn.jsdelivr.net/npm/@fortawesome/fontawesome-free@6.2.0/css/all.min.css&quot;/&gt;\n",
              "    &lt;link rel=&quot;stylesheet&quot; href=&quot;https://cdnjs.cloudflare.com/ajax/libs/Leaflet.awesome-markers/2.0.2/leaflet.awesome-markers.css&quot;/&gt;\n",
              "    &lt;link rel=&quot;stylesheet&quot; href=&quot;https://cdn.jsdelivr.net/gh/python-visualization/folium/folium/templates/leaflet.awesome.rotate.min.css&quot;/&gt;\n",
              "    \n",
              "            &lt;meta name=&quot;viewport&quot; content=&quot;width=device-width,\n",
              "                initial-scale=1.0, maximum-scale=1.0, user-scalable=no&quot; /&gt;\n",
              "            &lt;style&gt;\n",
              "                #map_06f4c04b9069adaa666e2342f5dcd05e {\n",
              "                    position: relative;\n",
              "                    width: 100.0%;\n",
              "                    height: 100.0%;\n",
              "                    left: 0.0%;\n",
              "                    top: 0.0%;\n",
              "                }\n",
              "                .leaflet-container { font-size: 1rem; }\n",
              "            &lt;/style&gt;\n",
              "        \n",
              "    &lt;script src=&quot;https://cdnjs.cloudflare.com/ajax/libs/leaflet.fullscreen/1.4.2/Control.FullScreen.min.js&quot;&gt;&lt;/script&gt;\n",
              "    &lt;link rel=&quot;stylesheet&quot; href=&quot;https://cdnjs.cloudflare.com/ajax/libs/leaflet.fullscreen/1.4.2/Control.FullScreen.min.css&quot;/&gt;\n",
              "    &lt;script src=&quot;https://cdnjs.cloudflare.com/ajax/libs/leaflet.draw/1.0.2/leaflet.draw.js&quot;&gt;&lt;/script&gt;\n",
              "    &lt;link rel=&quot;stylesheet&quot; href=&quot;https://cdnjs.cloudflare.com/ajax/libs/leaflet.draw/1.0.2/leaflet.draw.css&quot;/&gt;\n",
              "    &lt;script src=&quot;https://unpkg.com/leaflet-control-geocoder/dist/Control.Geocoder.js&quot;&gt;&lt;/script&gt;\n",
              "    &lt;link rel=&quot;stylesheet&quot; href=&quot;https://unpkg.com/leaflet-control-geocoder/dist/Control.Geocoder.css&quot;/&gt;\n",
              "&lt;/head&gt;\n",
              "&lt;body&gt;\n",
              "    \n",
              "    \n",
              "            &lt;div class=&quot;folium-map&quot; id=&quot;map_06f4c04b9069adaa666e2342f5dcd05e&quot; &gt;&lt;/div&gt;\n",
              "        \n",
              "&lt;/body&gt;\n",
              "&lt;script&gt;\n",
              "    \n",
              "    \n",
              "            var map_06f4c04b9069adaa666e2342f5dcd05e = L.map(\n",
              "                &quot;map_06f4c04b9069adaa666e2342f5dcd05e&quot;,\n",
              "                {\n",
              "                    center: [20.0, 0.0],\n",
              "                    crs: L.CRS.EPSG3857,\n",
              "                    zoom: 2,\n",
              "                    zoomControl: true,\n",
              "                    preferCanvas: false,\n",
              "                    addGoogleMap: false,\n",
              "                    eeInitialize: true,\n",
              "                    pluginLatlngpopup: false,\n",
              "                    pluginFullscreen: true,\n",
              "                    pluginDraw: true,\n",
              "                    DrawExport: false,\n",
              "                    pluginMinimap: false,\n",
              "                    locateControl: false,\n",
              "                    searchControl: true,\n",
              "                    layersControl: true,\n",
              "                }\n",
              "            );\n",
              "\n",
              "            \n",
              "\n",
              "        \n",
              "    \n",
              "            var tile_layer_93e23854fb172900acb6716f45d160e9 = L.tileLayer(\n",
              "                &quot;https://{s}.tile.openstreetmap.org/{z}/{x}/{y}.png&quot;,\n",
              "                {&quot;attribution&quot;: &quot;Data by \\u0026copy; \\u003ca target=\\&quot;_blank\\&quot; href=\\&quot;http://openstreetmap.org\\&quot;\\u003eOpenStreetMap\\u003c/a\\u003e, under \\u003ca target=\\&quot;_blank\\&quot; href=\\&quot;http://www.openstreetmap.org/copyright\\&quot;\\u003eODbL\\u003c/a\\u003e.&quot;, &quot;detectRetina&quot;: false, &quot;maxNativeZoom&quot;: 30, &quot;maxZoom&quot;: 30, &quot;minZoom&quot;: 0, &quot;noWrap&quot;: false, &quot;opacity&quot;: 1, &quot;subdomains&quot;: &quot;abc&quot;, &quot;tms&quot;: false}\n",
              "            ).addTo(map_06f4c04b9069adaa666e2342f5dcd05e);\n",
              "        \n",
              "    \n",
              "            L.control.fullscreen(\n",
              "                {&quot;forceSeparateButton&quot;: false, &quot;position&quot;: &quot;topleft&quot;, &quot;title&quot;: &quot;Full Screen&quot;, &quot;titleCancel&quot;: &quot;Exit Full Screen&quot;}\n",
              "            ).addTo(map_06f4c04b9069adaa666e2342f5dcd05e);\n",
              "        \n",
              "    \n",
              "            var options = {\n",
              "              position: &quot;topleft&quot;,\n",
              "              draw: {},\n",
              "              edit: {},\n",
              "            }\n",
              "            // FeatureGroup is to store editable layers.\n",
              "            var drawnItems = new L.featureGroup().addTo(\n",
              "                map_06f4c04b9069adaa666e2342f5dcd05e\n",
              "            );\n",
              "            options.edit.featureGroup = drawnItems;\n",
              "            var draw_control_605f650f39ba1738e8496a6f7d3c3091 = new L.Control.Draw(\n",
              "                options\n",
              "            ).addTo( map_06f4c04b9069adaa666e2342f5dcd05e );\n",
              "            map_06f4c04b9069adaa666e2342f5dcd05e.on(L.Draw.Event.CREATED, function(e) {\n",
              "                var layer = e.layer,\n",
              "                    type = e.layerType;\n",
              "                var coords = JSON.stringify(layer.toGeoJSON());\n",
              "                layer.on(&#x27;click&#x27;, function() {\n",
              "                    alert(coords);\n",
              "                    console.log(coords);\n",
              "                });\n",
              "                drawnItems.addLayer(layer);\n",
              "             });\n",
              "            map_06f4c04b9069adaa666e2342f5dcd05e.on(&#x27;draw:created&#x27;, function(e) {\n",
              "                drawnItems.addLayer(e.layer);\n",
              "            });\n",
              "            \n",
              "        \n",
              "    \n",
              "            L.Control.geocoder(\n",
              "                {&quot;collapsed&quot;: true, &quot;defaultMarkGeocode&quot;: true, &quot;position&quot;: &quot;topleft&quot;}\n",
              "            ).on(&#x27;markgeocode&#x27;, function(e) {\n",
              "                map_06f4c04b9069adaa666e2342f5dcd05e.setView(e.geocode.center, 11);\n",
              "            }).addTo(map_06f4c04b9069adaa666e2342f5dcd05e);\n",
              "\n",
              "        \n",
              "    \n",
              "            map_06f4c04b9069adaa666e2342f5dcd05e.fitBounds(\n",
              "                [[20, 0], [20, 0]],\n",
              "                {&quot;maxZoom&quot;: 2}\n",
              "            );\n",
              "        \n",
              "    \n",
              "            var tile_layer_2c5f0838797eba3bd968542d68199e56 = L.tileLayer(\n",
              "                &quot;https://earthengine.googleapis.com/v1/projects/tern-landscapes/maps/7585e403070e9e226ad336ad0df04bbd-81a4dffb4e724fadf314914f671f0566/tiles/{z}/{x}/{y}&quot;,\n",
              "                {&quot;attribution&quot;: &quot;Google Earth Engine&quot;, &quot;detectRetina&quot;: false, &quot;maxNativeZoom&quot;: 24, &quot;maxZoom&quot;: 24, &quot;minZoom&quot;: 0, &quot;noWrap&quot;: false, &quot;opacity&quot;: 1.0, &quot;subdomains&quot;: &quot;abc&quot;, &quot;tms&quot;: false}\n",
              "            ).addTo(map_06f4c04b9069adaa666e2342f5dcd05e);\n",
              "        \n",
              "    \n",
              "            var tile_layer_42160b7195a5142f5c0ecc81380dae73 = L.tileLayer(\n",
              "                &quot;https://earthengine.googleapis.com/v1/projects/tern-landscapes/maps/e9fc5d9fbb7522a013c9c67aa38cb188-d4414a5af4534bc27c744ecd55880ca4/tiles/{z}/{x}/{y}&quot;,\n",
              "                {&quot;attribution&quot;: &quot;Google Earth Engine&quot;, &quot;detectRetina&quot;: false, &quot;maxNativeZoom&quot;: 24, &quot;maxZoom&quot;: 24, &quot;minZoom&quot;: 0, &quot;noWrap&quot;: false, &quot;opacity&quot;: 1.0, &quot;subdomains&quot;: &quot;abc&quot;, &quot;tms&quot;: false}\n",
              "            ).addTo(map_06f4c04b9069adaa666e2342f5dcd05e);\n",
              "        \n",
              "    \n",
              "            var tile_layer_b378edc9e3b6252029ba3ca722dcad9d = L.tileLayer(\n",
              "                &quot;https://earthengine.googleapis.com/v1/projects/tern-landscapes/maps/ca7b6eb1243ce0ffcfdfa878ea633eec-3cd93b3b8b3798d075bbd888c19cf675/tiles/{z}/{x}/{y}&quot;,\n",
              "                {&quot;attribution&quot;: &quot;Google Earth Engine&quot;, &quot;detectRetina&quot;: false, &quot;maxNativeZoom&quot;: 24, &quot;maxZoom&quot;: 24, &quot;minZoom&quot;: 0, &quot;noWrap&quot;: false, &quot;opacity&quot;: 1.0, &quot;subdomains&quot;: &quot;abc&quot;, &quot;tms&quot;: false}\n",
              "            ).addTo(map_06f4c04b9069adaa666e2342f5dcd05e);\n",
              "        \n",
              "    \n",
              "            var tile_layer_a3c8ad20ee5b60d8f7538c7469ec05dc = L.tileLayer(\n",
              "                &quot;https://earthengine.googleapis.com/v1/projects/tern-landscapes/maps/da81f3b020b7d95ea12fcf5c0a9798c1-8cb6042571c09096805c875405e65054/tiles/{z}/{x}/{y}&quot;,\n",
              "                {&quot;attribution&quot;: &quot;Google Earth Engine&quot;, &quot;detectRetina&quot;: false, &quot;maxNativeZoom&quot;: 24, &quot;maxZoom&quot;: 24, &quot;minZoom&quot;: 0, &quot;noWrap&quot;: false, &quot;opacity&quot;: 1.0, &quot;subdomains&quot;: &quot;abc&quot;, &quot;tms&quot;: false}\n",
              "            ).addTo(map_06f4c04b9069adaa666e2342f5dcd05e);\n",
              "        \n",
              "    \n",
              "            var tile_layer_8ecb0db3aa1138689a34de8a5ea91bdd = L.tileLayer(\n",
              "                &quot;https://earthengine.googleapis.com/v1/projects/tern-landscapes/maps/c66755a519d041ef18280a230ac183b0-3e088b37f9c58fff6e2df3106e0f15f3/tiles/{z}/{x}/{y}&quot;,\n",
              "                {&quot;attribution&quot;: &quot;Google Earth Engine&quot;, &quot;detectRetina&quot;: false, &quot;maxNativeZoom&quot;: 24, &quot;maxZoom&quot;: 24, &quot;minZoom&quot;: 0, &quot;noWrap&quot;: false, &quot;opacity&quot;: 1.0, &quot;subdomains&quot;: &quot;abc&quot;, &quot;tms&quot;: false}\n",
              "            ).addTo(map_06f4c04b9069adaa666e2342f5dcd05e);\n",
              "        \n",
              "    \n",
              "            map_06f4c04b9069adaa666e2342f5dcd05e.fitBounds(\n",
              "                [[-45.15546491564342, 109.99854875870972], [-9.9610672738938, 155.00490916364137]],\n",
              "                {}\n",
              "            );\n",
              "        \n",
              "    \n",
              "            var layer_control_6a40b2659cdeed7913433e6a6d7e0439 = {\n",
              "                base_layers : {\n",
              "                    &quot;openstreetmap&quot; : tile_layer_93e23854fb172900acb6716f45d160e9,\n",
              "                },\n",
              "                overlays :  {\n",
              "                    &quot;ETa&quot; : tile_layer_2c5f0838797eba3bd968542d68199e56,\n",
              "                    &quot;Data Source (pixel_qa)&quot; : tile_layer_42160b7195a5142f5c0ecc81380dae73,\n",
              "                    &quot;Condensation (pixel_qa)&quot; : tile_layer_b378edc9e3b6252029ba3ca722dcad9d,\n",
              "                    &quot;Landsat Count (pixel_qa)&quot; : tile_layer_a3c8ad20ee5b60d8f7538c7469ec05dc,\n",
              "                    &quot;SLC-Off (pixel_qa)&quot; : tile_layer_8ecb0db3aa1138689a34de8a5ea91bdd,\n",
              "                },\n",
              "            };\n",
              "            L.control.layers(\n",
              "                layer_control_6a40b2659cdeed7913433e6a6d7e0439.base_layers,\n",
              "                layer_control_6a40b2659cdeed7913433e6a6d7e0439.overlays,\n",
              "                {&quot;autoZIndex&quot;: true, &quot;collapsed&quot;: true, &quot;position&quot;: &quot;topright&quot;}\n",
              "            ).addTo(map_06f4c04b9069adaa666e2342f5dcd05e);\n",
              "            tile_layer_2c5f0838797eba3bd968542d68199e56.remove();\n",
              "        \n",
              "&lt;/script&gt;\n",
              "&lt;/html&gt;\" width=\"100%\" height=\"600\"style=\"border:none !important;\" \"allowfullscreen\" \"webkitallowfullscreen\" \"mozallowfullscreen\"></iframe>"
            ]
          },
          "metadata": {},
          "execution_count": 44
        }
      ],
      "source": [
        "Map"
      ]
    }
  ],
  "metadata": {
    "colab": {
      "name": "Example 3 - Unpacking the CMRSET QA Band.ipynb",
      "provenance": [],
      "toc_visible": true
    },
    "kernelspec": {
      "display_name": "Python 3",
      "name": "python3"
    },
    "language_info": {
      "name": "python"
    }
  },
  "nbformat": 4,
  "nbformat_minor": 0
}