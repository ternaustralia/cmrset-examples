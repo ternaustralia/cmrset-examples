{
  "cells": [
    {
      "cell_type": "markdown",
      "metadata": {
        "id": "view-badges"
      },
      "source": [
        "<a href=\"https://github.com/ternaustralia/cmrset-examples/blob/main/gee-examples/python/Example_3_Unpacking_the_CMRSET_QA_Band.ipynb\" target=\"_parent\"><img src=\"https://img.shields.io/static/v1?logo=GitHub&label=&color=333333&style=flat&message=View%20on%20GitHub\" alt=\"View on GitHub\"/></a>\n",
        "&nbsp;\n",
        "<a href=\"https://colab.research.google.com/github/ternaustralia/cmrset-examples/blob/main/gee-examples/python/Example_3_Unpacking_the_CMRSET_QA_Band.ipynb\" target=\"_parent\"><img src=\"https://colab.research.google.com/assets/colab-badge.svg\" alt=\"Open In Colab\"/></a>\n",
        "&nbsp;\n",
        "<a href=\"https://mybinder.org/v2/gh/ternaustralia/cmrset-examples/HEAD?labpath=gee-examples%2Fpython%2FExample_3_Unpacking_the_CMRSET_QA_Band.ipynb\" target=\"_parent\"><img src=\"https://mybinder.org/badge_logo.svg\" alt=\"Open In Binder\"/></a>\n"
      ]
    },
    {
      "cell_type": "markdown",
      "metadata": {
        "id": "sH8Y3EPBTjOG"
      },
      "source": [
        "# Example 3 - Unpacking the CMRSET QA Band\n",
        "This example illustrates how to unpack the CMRSET QA band.  The CMRSET QA band contains 4 pieces of extra information for each pixel which may further assist with your analysis. These 4 pieces of information are: the source of the data; condensation adjustment; the number of Landsat observations used for this pixel; and whether the pixel value was derived from Landsat SLC-Off data.\n",
        "\n",
        "To run this example it is assumed you have [registered](https://signup.earthengine.google.com/) to [Google Earth Engine](https://earthengine.google.com/). Please feel free to adapt this example to meet your own requirements.\n",
        "\n",
        "---\n",
        "**Execution Time:** Real-time\n",
        "\n",
        "**Storage Required:** Nil"
      ]
    },
    {
      "cell_type": "markdown",
      "metadata": {
        "id": "TqTLkfRsg2vh"
      },
      "source": [
        "## Install geemap\n",
        "The [geemap](https://geemap.org/) Python package is built upon [ipyleaflet](https://github.com/jupyter-widgets/ipyleaflet) and [folium](https://github.com/python-visualization/folium) packages, and enables users to analyze and visualize Earth Engine datasets interactively within a Jupyter-based environment.  The geemap API also mimics the official Google Earth Engine Javascript Map API when making calls such as `Map.addLayer()`, `Map.setCenter()`, and `Map.centerObject()`, etc. This simplifies the translation between both languages if you are transitioning from Javascript to Python.\n",
        "\n",
        "Note: the package ipyleaflet is not compatible with Google Colab, hence you will notice we specifically import the [folium implementation](https://geemap.org/foliumap/) in this example for broarder compatibility."
      ]
    },
    {
      "cell_type": "code",
      "execution_count": 1,
      "metadata": {
        "id": "1Rnk0oVkgtrq"
      },
      "outputs": [],
      "source": [
        "# Installs the geemap package\n",
        "import subprocess\n",
        "\n",
        "try:\n",
        "    import geemap.foliumap as geemap\n",
        "except ImportError:\n",
        "    print('Installing geemap...')\n",
        "    subprocess.check_call([\"python\", '-m', 'pip', 'install', 'geemap'])"
      ]
    },
    {
      "cell_type": "code",
      "execution_count": 2,
      "metadata": {
        "id": "befdSgC8q8HO",
        "colab": {
          "base_uri": "https://localhost:8080/",
          "height": 17
        },
        "outputId": "0aa965fa-2b14-4ab0-e8ae-6dbf94dd36c0"
      },
      "outputs": [
        {
          "output_type": "display_data",
          "data": {
            "text/plain": [
              "<IPython.core.display.HTML object>"
            ],
            "text/html": [
              "\n",
              "            <style>\n",
              "                .geemap-dark {\n",
              "                    --jp-widgets-color: white;\n",
              "                    --jp-widgets-label-color: white;\n",
              "                    --jp-ui-font-color1: white;\n",
              "                    --jp-layout-color2: #454545;\n",
              "                    background-color: #383838;\n",
              "                }\n",
              "\n",
              "                .geemap-dark .jupyter-button {\n",
              "                    --jp-layout-color3: #383838;\n",
              "                }\n",
              "\n",
              "                .geemap-colab {\n",
              "                    background-color: var(--colab-primary-surface-color, white);\n",
              "                }\n",
              "\n",
              "                .geemap-colab .jupyter-button {\n",
              "                    --jp-layout-color3: var(--colab-primary-surface-color, white);\n",
              "                }\n",
              "            </style>\n",
              "            "
            ]
          },
          "metadata": {}
        }
      ],
      "source": [
        "import geemap.foliumap as geemap"
      ]
    },
    {
      "cell_type": "markdown",
      "metadata": {
        "id": "2wal3JNtAncS"
      },
      "source": [
        "## Authenticate and initialize\n",
        "Run the `ee.Authenticate()` function to authenticate your access to Earth Engine servers and `ee.Initialize()` to initialize it. Upon running the following cell you'll be asked to grant Earth Engine access to your Google account.  **Please follow the instructions in the prompts.** You will also need to enter your Google Earth Engine Cloud Project ID below."
      ]
    },
    {
      "cell_type": "code",
      "execution_count": 3,
      "metadata": {
        "colab": {
          "base_uri": "https://localhost:8080/",
          "height": 17
        },
        "id": "0E7Roy_8vEMr",
        "outputId": "95010fdb-bb1c-4f26-986b-ddeff6724874"
      },
      "outputs": [
        {
          "output_type": "display_data",
          "data": {
            "text/plain": [
              "<IPython.core.display.HTML object>"
            ],
            "text/html": [
              "\n",
              "            <style>\n",
              "                .geemap-dark {\n",
              "                    --jp-widgets-color: white;\n",
              "                    --jp-widgets-label-color: white;\n",
              "                    --jp-ui-font-color1: white;\n",
              "                    --jp-layout-color2: #454545;\n",
              "                    background-color: #383838;\n",
              "                }\n",
              "\n",
              "                .geemap-dark .jupyter-button {\n",
              "                    --jp-layout-color3: #383838;\n",
              "                }\n",
              "\n",
              "                .geemap-colab {\n",
              "                    background-color: var(--colab-primary-surface-color, white);\n",
              "                }\n",
              "\n",
              "                .geemap-colab .jupyter-button {\n",
              "                    --jp-layout-color3: var(--colab-primary-surface-color, white);\n",
              "                }\n",
              "            </style>\n",
              "            "
            ]
          },
          "metadata": {}
        }
      ],
      "source": [
        "# Import the Earth Engine module\n",
        "import ee\n",
        "\n",
        "# Cloud Project ID to associate with your Earth Engine workspace.\n",
        "project = \"Your Project ID to use\"\n",
        "\n",
        "try:\n",
        "    ee.Initialize(project=project) # Initialize the library.\n",
        "except Exception as e:\n",
        "    ee.Authenticate() # If initialization fails, authentication is required... Trigger the authentication flow and initialize again.\n",
        "    ee.Initialize(project=project) # Initialize the library."
      ]
    },
    {
      "cell_type": "markdown",
      "metadata": {
        "id": "0I8yt7oTDrga"
      },
      "source": [
        "## Unpack the pixel QA band\n",
        "Let's access [CMRSET](https://developers.google.com/earth-engine/datasets/catalog/TERN_AET_CMRSET_LANDSAT_V2_2) from the [Earth Engine data catalog](https://developers.google.com/earth-engine/datasets), and filter down the [ImageCollection](https://developers.google.com/earth-engine/tutorials/tutorial_api_04) to a single month."
      ]
    },
    {
      "cell_type": "code",
      "execution_count": 4,
      "metadata": {
        "id": "bOVj_wrStdP1",
        "colab": {
          "base_uri": "https://localhost:8080/",
          "height": 17
        },
        "outputId": "469f2cbe-b713-4288-956b-6b2c893af1e1"
      },
      "outputs": [
        {
          "output_type": "display_data",
          "data": {
            "text/plain": [
              "<IPython.core.display.HTML object>"
            ],
            "text/html": [
              "\n",
              "            <style>\n",
              "                .geemap-dark {\n",
              "                    --jp-widgets-color: white;\n",
              "                    --jp-widgets-label-color: white;\n",
              "                    --jp-ui-font-color1: white;\n",
              "                    --jp-layout-color2: #454545;\n",
              "                    background-color: #383838;\n",
              "                }\n",
              "\n",
              "                .geemap-dark .jupyter-button {\n",
              "                    --jp-layout-color3: #383838;\n",
              "                }\n",
              "\n",
              "                .geemap-colab {\n",
              "                    background-color: var(--colab-primary-surface-color, white);\n",
              "                }\n",
              "\n",
              "                .geemap-colab .jupyter-button {\n",
              "                    --jp-layout-color3: var(--colab-primary-surface-color, white);\n",
              "                }\n",
              "            </style>\n",
              "            "
            ]
          },
          "metadata": {}
        }
      ],
      "source": [
        "# Define the period of interest.\n",
        "date = '2004-07-01'\n",
        "\n",
        "# Access the CMRSET dataset.\n",
        "cmrset_aet = ee.ImageCollection(\"TERN/AET/CMRSET_LANDSAT_V2_2\").filterDate(date).first()"
      ]
    },
    {
      "cell_type": "markdown",
      "metadata": {
        "id": "0M_daJdQGkYP"
      },
      "source": [
        "When two bytes meet in a bar... The first byte asks, “Are you ill?”\n",
        "The second byte replies, “No, just feeling a bit off”.\n",
        "\n",
        "You don't want your science data to be a bit off, so let's accurately unpack the [CMRSET pixel QA byte](https://developers.google.com/earth-engine/datasets/catalog/TERN_AET_CMRSET_LANDSAT_V2_2#bands) using this function..."
      ]
    },
    {
      "cell_type": "code",
      "execution_count": 5,
      "metadata": {
        "id": "vILLXX5tLLgc",
        "colab": {
          "base_uri": "https://localhost:8080/",
          "height": 17
        },
        "outputId": "5153cb02-bd4f-4826-e77c-e69d670e4efb"
      },
      "outputs": [
        {
          "output_type": "display_data",
          "data": {
            "text/plain": [
              "<IPython.core.display.HTML object>"
            ],
            "text/html": [
              "\n",
              "            <style>\n",
              "                .geemap-dark {\n",
              "                    --jp-widgets-color: white;\n",
              "                    --jp-widgets-label-color: white;\n",
              "                    --jp-ui-font-color1: white;\n",
              "                    --jp-layout-color2: #454545;\n",
              "                    background-color: #383838;\n",
              "                }\n",
              "\n",
              "                .geemap-dark .jupyter-button {\n",
              "                    --jp-layout-color3: #383838;\n",
              "                }\n",
              "\n",
              "                .geemap-colab {\n",
              "                    background-color: var(--colab-primary-surface-color, white);\n",
              "                }\n",
              "\n",
              "                .geemap-colab .jupyter-button {\n",
              "                    --jp-layout-color3: var(--colab-primary-surface-color, white);\n",
              "                }\n",
              "            </style>\n",
              "            "
            ]
          },
          "metadata": {}
        }
      ],
      "source": [
        "# Helper function to unpack the pixel_qa band.\n",
        "def unpack_pixel_qa(image):\n",
        "\n",
        "  qa = image.select(\"pixel_qa\")\n",
        "\n",
        "  # Unpack the bits.\n",
        "  data_source = qa.bitwiseAnd(3).rename('data_source') # Bits: 0-1\n",
        "  condensation = qa.rightShift(2).bitwiseAnd(1).rename('condensation') # Bit: 2\n",
        "  landsat_count = qa.rightShift(3).bitwiseAnd(15).rename('landsat_count') # Bits: 3-6\n",
        "  slc_off = qa.rightShift(7).rename('slc_off') # Bit: 7\n",
        "\n",
        "  # Append to the original image.\n",
        "  return image.addBands(data_source).addBands(condensation).addBands(landsat_count).addBands(slc_off)"
      ]
    },
    {
      "cell_type": "code",
      "execution_count": 6,
      "metadata": {
        "id": "urI--aW8vRyy",
        "colab": {
          "base_uri": "https://localhost:8080/",
          "height": 17
        },
        "outputId": "6d18ff31-a73a-4ef4-c6c6-1b556e288483"
      },
      "outputs": [
        {
          "output_type": "display_data",
          "data": {
            "text/plain": [
              "<IPython.core.display.HTML object>"
            ],
            "text/html": [
              "\n",
              "            <style>\n",
              "                .geemap-dark {\n",
              "                    --jp-widgets-color: white;\n",
              "                    --jp-widgets-label-color: white;\n",
              "                    --jp-ui-font-color1: white;\n",
              "                    --jp-layout-color2: #454545;\n",
              "                    background-color: #383838;\n",
              "                }\n",
              "\n",
              "                .geemap-dark .jupyter-button {\n",
              "                    --jp-layout-color3: #383838;\n",
              "                }\n",
              "\n",
              "                .geemap-colab {\n",
              "                    background-color: var(--colab-primary-surface-color, white);\n",
              "                }\n",
              "\n",
              "                .geemap-colab .jupyter-button {\n",
              "                    --jp-layout-color3: var(--colab-primary-surface-color, white);\n",
              "                }\n",
              "            </style>\n",
              "            "
            ]
          },
          "metadata": {}
        }
      ],
      "source": [
        "# Call the helper function to unpack the band.\n",
        "result = unpack_pixel_qa(cmrset_aet)"
      ]
    },
    {
      "cell_type": "markdown",
      "metadata": {
        "id": "OjbocWjBRXkB"
      },
      "source": [
        "## Preview the result\n",
        "Let's now take a look at the four layers on a map...."
      ]
    },
    {
      "cell_type": "code",
      "execution_count": 7,
      "metadata": {
        "id": "WF45XxalDfM-",
        "colab": {
          "base_uri": "https://localhost:8080/",
          "height": 162
        },
        "outputId": "b06de242-2313-48bc-a43d-ff650a35821d"
      },
      "outputs": [
        {
          "output_type": "display_data",
          "data": {
            "text/plain": [
              "<IPython.core.display.HTML object>"
            ],
            "text/html": [
              "\n",
              "            <style>\n",
              "                .geemap-dark {\n",
              "                    --jp-widgets-color: white;\n",
              "                    --jp-widgets-label-color: white;\n",
              "                    --jp-ui-font-color1: white;\n",
              "                    --jp-layout-color2: #454545;\n",
              "                    background-color: #383838;\n",
              "                }\n",
              "\n",
              "                .geemap-dark .jupyter-button {\n",
              "                    --jp-layout-color3: #383838;\n",
              "                }\n",
              "\n",
              "                .geemap-colab {\n",
              "                    background-color: var(--colab-primary-surface-color, white);\n",
              "                }\n",
              "\n",
              "                .geemap-colab .jupyter-button {\n",
              "                    --jp-layout-color3: var(--colab-primary-surface-color, white);\n",
              "                }\n",
              "            </style>\n",
              "            "
            ]
          },
          "metadata": {}
        },
        {
          "output_type": "stream",
          "name": "stdout",
          "text": [
            "The provided color (black,red,orange,green) is invalid. Using the default black color.\n",
            "'#black,red,orange,green' is not in web format. Need 3 or 6 hex digit.\n",
            "The provided color (black,magenta) is invalid. Using the default black color.\n",
            "'#black,magenta' is not in web format. Need 3 or 6 hex digit.\n",
            "The provided color (white,blue) is invalid. Using the default black color.\n",
            "'#white,blue' is not in web format. Need 3 or 6 hex digit.\n",
            "The provided color (black,magenta) is invalid. Using the default black color.\n",
            "'#black,magenta' is not in web format. Need 3 or 6 hex digit.\n"
          ]
        }
      ],
      "source": [
        "# Visualise the layers on the map.\n",
        "Map = geemap.Map(add_google_map = False)\n",
        "Map.addLayer(result.select(\"ETa\"), {'min':0, 'max':7, 'palette': [\"d7191c\",\"fdae61\",\"ffffbf\",\"abd9e9\",\"2c7bb6\"]}, \"ETa\", False)\n",
        "\n",
        "Map.addLayer(result.select('data_source'), {'min':0, 'max': 3, 'palette': 'black,red,orange,green'}, 'Data Source (pixel_qa)');\n",
        "Map.addLayer(result.select('condensation'), {'min':0, 'max': 1, 'palette': 'black,magenta'}, 'Condensation (pixel_qa)');\n",
        "Map.addLayer(result.select('landsat_count'), {'min':0, 'max': 7, 'palette': 'white,blue'}, 'Landsat Count (pixel_qa)');\n",
        "Map.addLayer(result.select('slc_off'), {'min':0, 'max': 1, 'palette': 'black,magenta'}, 'SLC-Off (pixel_qa)');\n",
        "\n",
        "Map.centerObject(result)"
      ]
    },
    {
      "cell_type": "code",
      "execution_count": 8,
      "metadata": {
        "colab": {
          "base_uri": "https://localhost:8080/",
          "height": 621
        },
        "id": "d9dzzSKPfs9V",
        "outputId": "b4d63f6c-b0e8-452c-b316-482db5eec147"
      },
      "outputs": [
        {
          "output_type": "display_data",
          "data": {
            "text/plain": [
              "<IPython.core.display.HTML object>"
            ],
            "text/html": [
              "\n",
              "            <style>\n",
              "                .geemap-dark {\n",
              "                    --jp-widgets-color: white;\n",
              "                    --jp-widgets-label-color: white;\n",
              "                    --jp-ui-font-color1: white;\n",
              "                    --jp-layout-color2: #454545;\n",
              "                    background-color: #383838;\n",
              "                }\n",
              "\n",
              "                .geemap-dark .jupyter-button {\n",
              "                    --jp-layout-color3: #383838;\n",
              "                }\n",
              "\n",
              "                .geemap-colab {\n",
              "                    background-color: var(--colab-primary-surface-color, white);\n",
              "                }\n",
              "\n",
              "                .geemap-colab .jupyter-button {\n",
              "                    --jp-layout-color3: var(--colab-primary-surface-color, white);\n",
              "                }\n",
              "            </style>\n",
              "            "
            ]
          },
          "metadata": {}
        },
        {
          "output_type": "execute_result",
          "data": {
            "text/plain": [
              "<geemap.foliumap.Map at 0x7cf214fcf4c0>"
            ],
            "text/html": [
              "<iframe srcdoc=\"&lt;!DOCTYPE html&gt;\n",
              "&lt;html&gt;\n",
              "&lt;head&gt;\n",
              "    \n",
              "    &lt;meta http-equiv=&quot;content-type&quot; content=&quot;text/html; charset=UTF-8&quot; /&gt;\n",
              "    \n",
              "        &lt;script&gt;\n",
              "            L_NO_TOUCH = false;\n",
              "            L_DISABLE_3D = false;\n",
              "        &lt;/script&gt;\n",
              "    \n",
              "    &lt;style&gt;html, body {width: 100%;height: 100%;margin: 0;padding: 0;}&lt;/style&gt;\n",
              "    &lt;style&gt;#map {position:absolute;top:0;bottom:0;right:0;left:0;}&lt;/style&gt;\n",
              "    &lt;script src=&quot;https://cdn.jsdelivr.net/npm/leaflet@1.9.3/dist/leaflet.js&quot;&gt;&lt;/script&gt;\n",
              "    &lt;script src=&quot;https://code.jquery.com/jquery-1.12.4.min.js&quot;&gt;&lt;/script&gt;\n",
              "    &lt;script src=&quot;https://cdn.jsdelivr.net/npm/bootstrap@5.2.2/dist/js/bootstrap.bundle.min.js&quot;&gt;&lt;/script&gt;\n",
              "    &lt;script src=&quot;https://cdnjs.cloudflare.com/ajax/libs/Leaflet.awesome-markers/2.0.2/leaflet.awesome-markers.js&quot;&gt;&lt;/script&gt;\n",
              "    &lt;link rel=&quot;stylesheet&quot; href=&quot;https://cdn.jsdelivr.net/npm/leaflet@1.9.3/dist/leaflet.css&quot;/&gt;\n",
              "    &lt;link rel=&quot;stylesheet&quot; href=&quot;https://cdn.jsdelivr.net/npm/bootstrap@5.2.2/dist/css/bootstrap.min.css&quot;/&gt;\n",
              "    &lt;link rel=&quot;stylesheet&quot; href=&quot;https://netdna.bootstrapcdn.com/bootstrap/3.0.0/css/bootstrap.min.css&quot;/&gt;\n",
              "    &lt;link rel=&quot;stylesheet&quot; href=&quot;https://cdn.jsdelivr.net/npm/@fortawesome/fontawesome-free@6.2.0/css/all.min.css&quot;/&gt;\n",
              "    &lt;link rel=&quot;stylesheet&quot; href=&quot;https://cdnjs.cloudflare.com/ajax/libs/Leaflet.awesome-markers/2.0.2/leaflet.awesome-markers.css&quot;/&gt;\n",
              "    &lt;link rel=&quot;stylesheet&quot; href=&quot;https://cdn.jsdelivr.net/gh/python-visualization/folium/folium/templates/leaflet.awesome.rotate.min.css&quot;/&gt;\n",
              "    \n",
              "            &lt;meta name=&quot;viewport&quot; content=&quot;width=device-width,\n",
              "                initial-scale=1.0, maximum-scale=1.0, user-scalable=no&quot; /&gt;\n",
              "            &lt;style&gt;\n",
              "                #map_c7bcdb963957bd3cc023b2cf4f94d895 {\n",
              "                    position: relative;\n",
              "                    width: 100.0%;\n",
              "                    height: 100.0%;\n",
              "                    left: 0.0%;\n",
              "                    top: 0.0%;\n",
              "                }\n",
              "                .leaflet-container { font-size: 1rem; }\n",
              "            &lt;/style&gt;\n",
              "        \n",
              "    &lt;script src=&quot;https://cdnjs.cloudflare.com/ajax/libs/leaflet.fullscreen/1.4.2/Control.FullScreen.min.js&quot;&gt;&lt;/script&gt;\n",
              "    &lt;link rel=&quot;stylesheet&quot; href=&quot;https://cdnjs.cloudflare.com/ajax/libs/leaflet.fullscreen/1.4.2/Control.FullScreen.min.css&quot;/&gt;\n",
              "    &lt;script src=&quot;https://cdnjs.cloudflare.com/ajax/libs/leaflet.draw/1.0.2/leaflet.draw.js&quot;&gt;&lt;/script&gt;\n",
              "    &lt;link rel=&quot;stylesheet&quot; href=&quot;https://cdnjs.cloudflare.com/ajax/libs/leaflet.draw/1.0.2/leaflet.draw.css&quot;/&gt;\n",
              "    &lt;script src=&quot;https://unpkg.com/leaflet-control-geocoder/dist/Control.Geocoder.js&quot;&gt;&lt;/script&gt;\n",
              "    &lt;link rel=&quot;stylesheet&quot; href=&quot;https://unpkg.com/leaflet-control-geocoder/dist/Control.Geocoder.css&quot;/&gt;\n",
              "&lt;/head&gt;\n",
              "&lt;body&gt;\n",
              "    \n",
              "    \n",
              "            &lt;div class=&quot;folium-map&quot; id=&quot;map_c7bcdb963957bd3cc023b2cf4f94d895&quot; &gt;&lt;/div&gt;\n",
              "        \n",
              "&lt;/body&gt;\n",
              "&lt;script&gt;\n",
              "    \n",
              "    \n",
              "            var map_c7bcdb963957bd3cc023b2cf4f94d895 = L.map(\n",
              "                &quot;map_c7bcdb963957bd3cc023b2cf4f94d895&quot;,\n",
              "                {\n",
              "                    center: [20.0, 0.0],\n",
              "                    crs: L.CRS.EPSG3857,\n",
              "                    zoom: 2,\n",
              "                    zoomControl: true,\n",
              "                    preferCanvas: false,\n",
              "                    addGoogleMap: false,\n",
              "                    eeInitialize: true,\n",
              "                    pluginLatlngpopup: false,\n",
              "                    pluginFullscreen: true,\n",
              "                    pluginDraw: true,\n",
              "                    DrawExport: false,\n",
              "                    pluginMinimap: false,\n",
              "                    locateControl: false,\n",
              "                    searchControl: true,\n",
              "                    layersControl: true,\n",
              "                }\n",
              "            );\n",
              "\n",
              "            \n",
              "\n",
              "        \n",
              "    \n",
              "            var tile_layer_8319694c2f4927859f718bb56cefffa4 = L.tileLayer(\n",
              "                &quot;https://{s}.tile.openstreetmap.org/{z}/{x}/{y}.png&quot;,\n",
              "                {&quot;attribution&quot;: &quot;Data by \\u0026copy; \\u003ca target=\\&quot;_blank\\&quot; href=\\&quot;http://openstreetmap.org\\&quot;\\u003eOpenStreetMap\\u003c/a\\u003e, under \\u003ca target=\\&quot;_blank\\&quot; href=\\&quot;http://www.openstreetmap.org/copyright\\&quot;\\u003eODbL\\u003c/a\\u003e.&quot;, &quot;detectRetina&quot;: false, &quot;maxNativeZoom&quot;: 30, &quot;maxZoom&quot;: 30, &quot;minZoom&quot;: 0, &quot;noWrap&quot;: false, &quot;opacity&quot;: 1, &quot;subdomains&quot;: &quot;abc&quot;, &quot;tms&quot;: false}\n",
              "            ).addTo(map_c7bcdb963957bd3cc023b2cf4f94d895);\n",
              "        \n",
              "    \n",
              "            L.control.fullscreen(\n",
              "                {&quot;forceSeparateButton&quot;: false, &quot;position&quot;: &quot;topleft&quot;, &quot;title&quot;: &quot;Full Screen&quot;, &quot;titleCancel&quot;: &quot;Exit Full Screen&quot;}\n",
              "            ).addTo(map_c7bcdb963957bd3cc023b2cf4f94d895);\n",
              "        \n",
              "    \n",
              "            var options = {\n",
              "              position: &quot;topleft&quot;,\n",
              "              draw: {},\n",
              "              edit: {},\n",
              "            }\n",
              "            // FeatureGroup is to store editable layers.\n",
              "            var drawnItems = new L.featureGroup().addTo(\n",
              "                map_c7bcdb963957bd3cc023b2cf4f94d895\n",
              "            );\n",
              "            options.edit.featureGroup = drawnItems;\n",
              "            var draw_control_24b3f9575fe143d5939d88bb91facd33 = new L.Control.Draw(\n",
              "                options\n",
              "            ).addTo( map_c7bcdb963957bd3cc023b2cf4f94d895 );\n",
              "            map_c7bcdb963957bd3cc023b2cf4f94d895.on(L.Draw.Event.CREATED, function(e) {\n",
              "                var layer = e.layer,\n",
              "                    type = e.layerType;\n",
              "                var coords = JSON.stringify(layer.toGeoJSON());\n",
              "                layer.on(&#x27;click&#x27;, function() {\n",
              "                    alert(coords);\n",
              "                    console.log(coords);\n",
              "                });\n",
              "                drawnItems.addLayer(layer);\n",
              "             });\n",
              "            map_c7bcdb963957bd3cc023b2cf4f94d895.on(&#x27;draw:created&#x27;, function(e) {\n",
              "                drawnItems.addLayer(e.layer);\n",
              "            });\n",
              "            \n",
              "        \n",
              "    \n",
              "            L.Control.geocoder(\n",
              "                {&quot;collapsed&quot;: true, &quot;defaultMarkGeocode&quot;: true, &quot;position&quot;: &quot;topleft&quot;}\n",
              "            ).on(&#x27;markgeocode&#x27;, function(e) {\n",
              "                map_c7bcdb963957bd3cc023b2cf4f94d895.setView(e.geocode.center, 11);\n",
              "            }).addTo(map_c7bcdb963957bd3cc023b2cf4f94d895);\n",
              "\n",
              "        \n",
              "    \n",
              "            map_c7bcdb963957bd3cc023b2cf4f94d895.fitBounds(\n",
              "                [[20, 0], [20, 0]],\n",
              "                {&quot;maxZoom&quot;: 2}\n",
              "            );\n",
              "        \n",
              "    \n",
              "            var tile_layer_3cd9e7fec7262364e027aefe460b48e9 = L.tileLayer(\n",
              "                &quot;https://earthengine.googleapis.com/v1/projects/tern-landscapes/maps/7585e403070e9e226ad336ad0df04bbd-228e03f2360b1c79f5ea7535ae2dbbc9/tiles/{z}/{x}/{y}&quot;,\n",
              "                {&quot;attribution&quot;: &quot;Google Earth Engine&quot;, &quot;detectRetina&quot;: false, &quot;maxNativeZoom&quot;: 24, &quot;maxZoom&quot;: 24, &quot;minZoom&quot;: 0, &quot;noWrap&quot;: false, &quot;opacity&quot;: 1.0, &quot;subdomains&quot;: &quot;abc&quot;, &quot;tms&quot;: false}\n",
              "            ).addTo(map_c7bcdb963957bd3cc023b2cf4f94d895);\n",
              "        \n",
              "    \n",
              "            var tile_layer_041a8528ce669ed81ce898b5d3a04e74 = L.tileLayer(\n",
              "                &quot;https://earthengine.googleapis.com/v1/projects/tern-landscapes/maps/df62c09f65d6d91b75976b8bfad737ba-1707380cdbfc2ff290f07862b06add4c/tiles/{z}/{x}/{y}&quot;,\n",
              "                {&quot;attribution&quot;: &quot;Google Earth Engine&quot;, &quot;detectRetina&quot;: false, &quot;maxNativeZoom&quot;: 24, &quot;maxZoom&quot;: 24, &quot;minZoom&quot;: 0, &quot;noWrap&quot;: false, &quot;opacity&quot;: 1.0, &quot;subdomains&quot;: &quot;abc&quot;, &quot;tms&quot;: false}\n",
              "            ).addTo(map_c7bcdb963957bd3cc023b2cf4f94d895);\n",
              "        \n",
              "    \n",
              "            var tile_layer_8513b34a63b90e91688c4532e89e569b = L.tileLayer(\n",
              "                &quot;https://earthengine.googleapis.com/v1/projects/tern-landscapes/maps/7b5e5e6d5870b611cf6645c084cc39ab-720f5a9dcce90684926f1a82e385b43b/tiles/{z}/{x}/{y}&quot;,\n",
              "                {&quot;attribution&quot;: &quot;Google Earth Engine&quot;, &quot;detectRetina&quot;: false, &quot;maxNativeZoom&quot;: 24, &quot;maxZoom&quot;: 24, &quot;minZoom&quot;: 0, &quot;noWrap&quot;: false, &quot;opacity&quot;: 1.0, &quot;subdomains&quot;: &quot;abc&quot;, &quot;tms&quot;: false}\n",
              "            ).addTo(map_c7bcdb963957bd3cc023b2cf4f94d895);\n",
              "        \n",
              "    \n",
              "            var tile_layer_abf1c9ffcce468b772698a726192c8ab = L.tileLayer(\n",
              "                &quot;https://earthengine.googleapis.com/v1/projects/tern-landscapes/maps/ab3c36da8afc3b137045f425c6f147e9-bdb9b056ef5e55d77ea585255577915a/tiles/{z}/{x}/{y}&quot;,\n",
              "                {&quot;attribution&quot;: &quot;Google Earth Engine&quot;, &quot;detectRetina&quot;: false, &quot;maxNativeZoom&quot;: 24, &quot;maxZoom&quot;: 24, &quot;minZoom&quot;: 0, &quot;noWrap&quot;: false, &quot;opacity&quot;: 1.0, &quot;subdomains&quot;: &quot;abc&quot;, &quot;tms&quot;: false}\n",
              "            ).addTo(map_c7bcdb963957bd3cc023b2cf4f94d895);\n",
              "        \n",
              "    \n",
              "            var tile_layer_0adc96ea8dcb3bf7b3fbb37c649121cc = L.tileLayer(\n",
              "                &quot;https://earthengine.googleapis.com/v1/projects/tern-landscapes/maps/5683247d3871a9bed3e19c59d18328dc-8b39ee4c7f185969b3abdf06a0297577/tiles/{z}/{x}/{y}&quot;,\n",
              "                {&quot;attribution&quot;: &quot;Google Earth Engine&quot;, &quot;detectRetina&quot;: false, &quot;maxNativeZoom&quot;: 24, &quot;maxZoom&quot;: 24, &quot;minZoom&quot;: 0, &quot;noWrap&quot;: false, &quot;opacity&quot;: 1.0, &quot;subdomains&quot;: &quot;abc&quot;, &quot;tms&quot;: false}\n",
              "            ).addTo(map_c7bcdb963957bd3cc023b2cf4f94d895);\n",
              "        \n",
              "    \n",
              "            map_c7bcdb963957bd3cc023b2cf4f94d895.fitBounds(\n",
              "                [[-45.15546491564342, 109.99854875870972], [-9.9610672738938, 155.00490916364137]],\n",
              "                {}\n",
              "            );\n",
              "        \n",
              "    \n",
              "            var layer_control_667ce5cdc00fceba2bdcdf7af538fa5a = {\n",
              "                base_layers : {\n",
              "                    &quot;openstreetmap&quot; : tile_layer_8319694c2f4927859f718bb56cefffa4,\n",
              "                },\n",
              "                overlays :  {\n",
              "                    &quot;ETa&quot; : tile_layer_3cd9e7fec7262364e027aefe460b48e9,\n",
              "                    &quot;Data Source (pixel_qa)&quot; : tile_layer_041a8528ce669ed81ce898b5d3a04e74,\n",
              "                    &quot;Condensation (pixel_qa)&quot; : tile_layer_8513b34a63b90e91688c4532e89e569b,\n",
              "                    &quot;Landsat Count (pixel_qa)&quot; : tile_layer_abf1c9ffcce468b772698a726192c8ab,\n",
              "                    &quot;SLC-Off (pixel_qa)&quot; : tile_layer_0adc96ea8dcb3bf7b3fbb37c649121cc,\n",
              "                },\n",
              "            };\n",
              "            L.control.layers(\n",
              "                layer_control_667ce5cdc00fceba2bdcdf7af538fa5a.base_layers,\n",
              "                layer_control_667ce5cdc00fceba2bdcdf7af538fa5a.overlays,\n",
              "                {&quot;autoZIndex&quot;: true, &quot;collapsed&quot;: true, &quot;position&quot;: &quot;topright&quot;}\n",
              "            ).addTo(map_c7bcdb963957bd3cc023b2cf4f94d895);\n",
              "            tile_layer_3cd9e7fec7262364e027aefe460b48e9.remove();\n",
              "        \n",
              "&lt;/script&gt;\n",
              "&lt;/html&gt;\" width=\"100%\" height=\"600\"style=\"border:none !important;\" \"allowfullscreen\" \"webkitallowfullscreen\" \"mozallowfullscreen\"></iframe>"
            ]
          },
          "metadata": {},
          "execution_count": 8
        }
      ],
      "source": [
        "Map"
      ]
    }
  ],
  "metadata": {
    "colab": {
      "name": "Example 3 - Unpacking the CMRSET QA Band.ipynb",
      "provenance": [],
      "toc_visible": true
    },
    "kernelspec": {
      "display_name": "Python 3",
      "name": "python3"
    },
    "language_info": {
      "name": "python"
    }
  },
  "nbformat": 4,
  "nbformat_minor": 0
}