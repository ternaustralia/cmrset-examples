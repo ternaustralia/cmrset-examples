{
  "nbformat": 4,
  "nbformat_minor": 0,
  "metadata": {
    "colab": {
      "name": "Example 4 - Exporting the Image Stack for a Region.ipynb",
      "provenance": [],
      "collapsed_sections": [],
      "toc_visible": true
    },
    "kernelspec": {
      "name": "python3",
      "display_name": "Python 3"
    },
    "language_info": {
      "name": "python"
    }
  },
  "cells": [
    {
      "cell_type": "markdown",
      "metadata": {
        "id": "view-badges"
      },
      "source": [
        "<a href=\"https://github.com/ternaustralia/cmrset-examples/blob/main/gee-examples/python/Example_4_Exporting_the_Image_Stack_for_a_Region.ipynb\" target=\"_parent\"><img src=\"https://img.shields.io/static/v1?logo=GitHub&label=&color=333333&style=flat&message=View%20on%20GitHub\" alt=\"View on GitHub\"/></a>\n",
        "&nbsp;\n",
        "<a href=\"https://colab.research.google.com/github/ternaustralia/cmrset-examples/blob/main/gee-examples/python/Example_4_Exporting_the_Image_Stack_for_a_Region.ipynb\" target=\"_parent\"><img src=\"https://colab.research.google.com/assets/colab-badge.svg\" alt=\"Open In Colab\"/></a>\n",
        "&nbsp;\n",
        "<a href=\"https://mybinder.org/v2/gh/ternaustralia/cmrset-examples/HEAD?labpath=gee-examples%2Fpython%2FExample_4_Exporting_the_Image_Stack_for_a_Region.ipynb\" target=\"_parent\"><img src=\"https://mybinder.org/badge_logo.svg\" alt=\"Open In Binder\"/></a>\n"
      ]
    },
    {
      "cell_type": "markdown",
      "source": [
        "# Example 4 - Exporting the Image Stack for a Region\n",
        "This example illustrates how to export the CMRSET Landsat V2.2 imagery via Earth Engine for a study area in the Pilbara. Both ETa and QA bands are exported. We will also illustrate changing the projection of the exported images to GDA94 (EPSG:4283). This example can potentially generate gigabytes of data, so we demonstrate two different methods for exporting the data to suit your own storage capabilities. These methods are:\n",
        "\n",
        "1.   **Via Google Drive** - This method is the simplest, however you may not be prepared to pay for a monthly subscription to upgrade your Google Drive storage limits if your export exceeds the free storage tier (20 GB).\n",
        "\n",
        "2.   **Via Google Cloud Storage** - This method can incur a once-off fee (rather than a subscription) for the egress costs associated with downloading the imagery from Google Cloud Storage. This method is recommended when method 1) is not appropriate for your circumstances.\n",
        "\n",
        "To run this example it is assumed you have [registered](https://signup.earthengine.google.com/) to [Google Earth Engine](https://earthengine.google.com/). Please feel free to adapt this example to meet your own requirements.\n",
        "\n",
        "---\n",
        "**Execution Time:** ~3 minutes\n",
        "\n",
        "**Storage Required:** 172 MB (on Google Drive or Google Cloud Storage)"
      ],
      "metadata": {
        "id": "sH8Y3EPBTjOG"
      }
    },
    {
      "cell_type": "markdown",
      "source": [
        "## Install geemap\n",
        "The [geemap](https://geemap.org/) Python package is built upon [ipyleaflet](https://github.com/jupyter-widgets/ipyleaflet) and [folium](https://github.com/python-visualization/folium) packages, and enables users to analyze and visualize Earth Engine datasets interactively within a Jupyter-based environment.  The geemap API also mimics the official Google Earth Engine Javascript Map API when making calls such as `Map.addLayer()`, `Map.setCenter()`, and `Map.centerObject()`, etc. This simplifies the translation between both languages if you are transitioning from Javascript to Python.\n",
        "\n",
        "Note: the package ipyleaflet is not compatible with Google Colab, hence you will notice we specifically import the [folium implementation](https://geemap.org/foliumap/) in this example for broarder compatibility."
      ],
      "metadata": {
        "id": "TqTLkfRsg2vh"
      }
    },
    {
      "cell_type": "code",
      "source": [
        "# Installs the geemap package\n",
        "import subprocess\n",
        "\n",
        "try:\n",
        "    import geemap.foliumap as geemap\n",
        "except ImportError:\n",
        "    print('Installing geemap...')\n",
        "    subprocess.check_call([\"python\", '-m', 'pip', 'install', 'geemap'])"
      ],
      "metadata": {
        "id": "1Rnk0oVkgtrq",
        "colab": {
          "base_uri": "https://localhost:8080/"
        },
        "outputId": "9c11e855-42f6-4a5c-95d1-5b8401fab97c"
      },
      "execution_count": null,
      "outputs": [
        {
          "output_type": "stream",
          "name": "stdout",
          "text": [
            "Installing geemap...\n"
          ]
        }
      ]
    },
    {
      "cell_type": "code",
      "source": [
        "import ee\n",
        "import geemap.foliumap as geemap"
      ],
      "metadata": {
        "id": "befdSgC8q8HO"
      },
      "execution_count": null,
      "outputs": []
    },
    {
      "cell_type": "markdown",
      "source": [
        "## Authenticate and initialize\n",
        "Since we are using [geemap](https://geemap.org/) in this example, we don't need to call the `ee.Authenticate()` function to authenticate or `ee.Initialize()` to initialize the Earth Engine package like previous examples. Instead, these calls are built into the the initialization of the geemap package via the `geemap.Map()` function. Similar to the previous examples though, upon running the following cell you'll be asked to grant Earth Engine access to your Google account. **Follow the instructions printed to the cell.**"
      ],
      "metadata": {
        "id": "2wal3JNtAncS"
      }
    },
    {
      "cell_type": "code",
      "metadata": {
        "id": "0E7Roy_8vEMr",
        "colab": {
          "base_uri": "https://localhost:8080/"
        },
        "outputId": "3b368a6a-053e-47c2-91e8-be5f11ccfb0d"
      },
      "source": [
        "Map = geemap.Map(add_google_map = False)"
      ],
      "execution_count": null,
      "outputs": [
        {
          "output_type": "stream",
          "name": "stdout",
          "text": [
            "To authorize access needed by Earth Engine, open the following URL in a web browser and follow the instructions. If the web browser does not start automatically, please manually browse the URL below.\n",
            "\n",
            "    https://accounts.google.com/o/oauth2/auth?client_id=517222506229-vsmmajv00ul0bs7p89v5m89qs8eb9359.apps.googleusercontent.com&scope=https%3A%2F%2Fwww.googleapis.com%2Fauth%2Fearthengine+https%3A%2F%2Fwww.googleapis.com%2Fauth%2Fdevstorage.full_control&redirect_uri=urn%3Aietf%3Awg%3Aoauth%3A2.0%3Aoob&response_type=code&code_challenge=i7i6E1Mj9IwGUHf7RmIvdAmTh6FcQ9QL9PqQCGVrHZw&code_challenge_method=S256\n",
            "\n",
            "The authorization workflow will generate a code, which you should paste in the box below. \n",
            "Enter verification code: 4/1AX4XfWj9HavgNbVImL8GSagPGqwyEdJqJsCvnyEvfmgAOFROsCWVoRYkJ6w\n",
            "\n",
            "Successfully saved authorization token.\n"
          ]
        }
      ]
    },
    {
      "cell_type": "markdown",
      "source": [
        "## Define the image stack\n",
        "Firstly, define the extents of your region of interest. We will do this by specifying the extents of our rectangle.\n"
      ],
      "metadata": {
        "id": "0I8yt7oTDrga"
      }
    },
    {
      "cell_type": "code",
      "source": [
        "# Define a region of interest.\n",
        "region = ee.Geometry.Rectangle([117.0, -21.5, 117.5, -21.0])"
      ],
      "metadata": {
        "id": "bOVj_wrStdP1"
      },
      "execution_count": null,
      "outputs": []
    },
    {
      "cell_type": "code",
      "source": [
        "# Visualize the region of interest.\n",
        "Map.addLayer(region, {'color': 'green'}, 'Study Site')\n",
        "Map.centerObject(region)\n",
        "Map"
      ],
      "metadata": {
        "colab": {
          "base_uri": "https://localhost:8080/",
          "height": 1000
        },
        "id": "T4NDi-T_JBlw",
        "outputId": "56787abd-994a-4eb1-9a71-c9659d7d78af"
      },
      "execution_count": null,
      "outputs": [
        {
          "output_type": "execute_result",
          "data": {
            "text/plain": [
              "<geemap.foliumap.Map at 0x7f9568fe4bd0>"
            ],
            "text/html": [
              "<div style=\"width:100%;\"><div style=\"position:relative;width:100%;height:0;padding-bottom:60%;\"><span style=\"color:#565656\">Make this Notebook Trusted to load map: File -> Trust Notebook</span><iframe src=\"about:blank\" style=\"position:absolute;width:100%;height:100%;left:0;top:0;border:none !important;\" data-html=%3C%21DOCTYPE%20html%3E%0A%3Chead%3E%20%20%20%20%0A%20%20%20%20%3Cmeta%20http-equiv%3D%22content-type%22%20content%3D%22text/html%3B%20charset%3DUTF-8%22%20/%3E%0A%20%20%20%20%0A%20%20%20%20%20%20%20%20%3Cscript%3E%0A%20%20%20%20%20%20%20%20%20%20%20%20L_NO_TOUCH%20%3D%20false%3B%0A%20%20%20%20%20%20%20%20%20%20%20%20L_DISABLE_3D%20%3D%20false%3B%0A%20%20%20%20%20%20%20%20%3C/script%3E%0A%20%20%20%20%0A%20%20%20%20%3Cstyle%3Ehtml%2C%20body%20%7Bwidth%3A%20100%25%3Bheight%3A%20100%25%3Bmargin%3A%200%3Bpadding%3A%200%3B%7D%3C/style%3E%0A%20%20%20%20%3Cstyle%3E%23map%20%7Bposition%3Aabsolute%3Btop%3A0%3Bbottom%3A0%3Bright%3A0%3Bleft%3A0%3B%7D%3C/style%3E%0A%20%20%20%20%3Cscript%20src%3D%22https%3A//cdn.jsdelivr.net/npm/leaflet%401.6.0/dist/leaflet.js%22%3E%3C/script%3E%0A%20%20%20%20%3Cscript%20src%3D%22https%3A//code.jquery.com/jquery-1.12.4.min.js%22%3E%3C/script%3E%0A%20%20%20%20%3Cscript%20src%3D%22https%3A//maxcdn.bootstrapcdn.com/bootstrap/3.2.0/js/bootstrap.min.js%22%3E%3C/script%3E%0A%20%20%20%20%3Cscript%20src%3D%22https%3A//cdnjs.cloudflare.com/ajax/libs/Leaflet.awesome-markers/2.0.2/leaflet.awesome-markers.js%22%3E%3C/script%3E%0A%20%20%20%20%3Clink%20rel%3D%22stylesheet%22%20href%3D%22https%3A//cdn.jsdelivr.net/npm/leaflet%401.6.0/dist/leaflet.css%22/%3E%0A%20%20%20%20%3Clink%20rel%3D%22stylesheet%22%20href%3D%22https%3A//maxcdn.bootstrapcdn.com/bootstrap/3.2.0/css/bootstrap.min.css%22/%3E%0A%20%20%20%20%3Clink%20rel%3D%22stylesheet%22%20href%3D%22https%3A//maxcdn.bootstrapcdn.com/bootstrap/3.2.0/css/bootstrap-theme.min.css%22/%3E%0A%20%20%20%20%3Clink%20rel%3D%22stylesheet%22%20href%3D%22https%3A//maxcdn.bootstrapcdn.com/font-awesome/4.6.3/css/font-awesome.min.css%22/%3E%0A%20%20%20%20%3Clink%20rel%3D%22stylesheet%22%20href%3D%22https%3A//cdnjs.cloudflare.com/ajax/libs/Leaflet.awesome-markers/2.0.2/leaflet.awesome-markers.css%22/%3E%0A%20%20%20%20%3Clink%20rel%3D%22stylesheet%22%20href%3D%22https%3A//cdn.jsdelivr.net/gh/python-visualization/folium/folium/templates/leaflet.awesome.rotate.min.css%22/%3E%0A%20%20%20%20%0A%20%20%20%20%20%20%20%20%20%20%20%20%3Cmeta%20name%3D%22viewport%22%20content%3D%22width%3Ddevice-width%2C%0A%20%20%20%20%20%20%20%20%20%20%20%20%20%20%20%20initial-scale%3D1.0%2C%20maximum-scale%3D1.0%2C%20user-scalable%3Dno%22%20/%3E%0A%20%20%20%20%20%20%20%20%20%20%20%20%3Cstyle%3E%0A%20%20%20%20%20%20%20%20%20%20%20%20%20%20%20%20%23map_913b6ee83ae9444ba99ff176cb3c16c2%20%7B%0A%20%20%20%20%20%20%20%20%20%20%20%20%20%20%20%20%20%20%20%20position%3A%20relative%3B%0A%20%20%20%20%20%20%20%20%20%20%20%20%20%20%20%20%20%20%20%20width%3A%20100.0%25%3B%0A%20%20%20%20%20%20%20%20%20%20%20%20%20%20%20%20%20%20%20%20height%3A%20100.0%25%3B%0A%20%20%20%20%20%20%20%20%20%20%20%20%20%20%20%20%20%20%20%20left%3A%200.0%25%3B%0A%20%20%20%20%20%20%20%20%20%20%20%20%20%20%20%20%20%20%20%20top%3A%200.0%25%3B%0A%20%20%20%20%20%20%20%20%20%20%20%20%20%20%20%20%7D%0A%20%20%20%20%20%20%20%20%20%20%20%20%3C/style%3E%0A%20%20%20%20%20%20%20%20%0A%20%20%20%20%3Cscript%20src%3D%22https%3A//cdnjs.cloudflare.com/ajax/libs/leaflet.fullscreen/1.4.2/Control.FullScreen.min.js%22%3E%3C/script%3E%0A%20%20%20%20%3Clink%20rel%3D%22stylesheet%22%20href%3D%22https%3A//cdnjs.cloudflare.com/ajax/libs/leaflet.fullscreen/1.4.2/Control.FullScreen.min.css%22/%3E%0A%20%20%20%20%3Cscript%20src%3D%22https%3A//cdnjs.cloudflare.com/ajax/libs/leaflet.draw/1.0.2/leaflet.draw.js%22%3E%3C/script%3E%0A%20%20%20%20%3Clink%20rel%3D%22stylesheet%22%20href%3D%22https%3A//cdnjs.cloudflare.com/ajax/libs/leaflet.draw/1.0.2/leaflet.draw.css%22/%3E%0A%20%20%20%20%3Cscript%20src%3D%22https%3A//unpkg.com/leaflet-control-geocoder/dist/Control.Geocoder.js%22%3E%3C/script%3E%0A%20%20%20%20%3Clink%20rel%3D%22stylesheet%22%20href%3D%22https%3A//unpkg.com/leaflet-control-geocoder/dist/Control.Geocoder.css%22/%3E%0A%3C/head%3E%0A%3Cbody%3E%20%20%20%20%0A%20%20%20%20%0A%20%20%20%20%20%20%20%20%20%20%20%20%3Cdiv%20class%3D%22folium-map%22%20id%3D%22map_913b6ee83ae9444ba99ff176cb3c16c2%22%20%3E%3C/div%3E%0A%20%20%20%20%20%20%20%20%0A%3C/body%3E%0A%3Cscript%3E%20%20%20%20%0A%20%20%20%20%0A%20%20%20%20%20%20%20%20%20%20%20%20var%20map_913b6ee83ae9444ba99ff176cb3c16c2%20%3D%20L.map%28%0A%20%20%20%20%20%20%20%20%20%20%20%20%20%20%20%20%22map_913b6ee83ae9444ba99ff176cb3c16c2%22%2C%0A%20%20%20%20%20%20%20%20%20%20%20%20%20%20%20%20%7B%0A%20%20%20%20%20%20%20%20%20%20%20%20%20%20%20%20%20%20%20%20center%3A%20%5B20.0%2C%200.0%5D%2C%0A%20%20%20%20%20%20%20%20%20%20%20%20%20%20%20%20%20%20%20%20crs%3A%20L.CRS.EPSG3857%2C%0A%20%20%20%20%20%20%20%20%20%20%20%20%20%20%20%20%20%20%20%20zoom%3A%202%2C%0A%20%20%20%20%20%20%20%20%20%20%20%20%20%20%20%20%20%20%20%20zoomControl%3A%20true%2C%0A%20%20%20%20%20%20%20%20%20%20%20%20%20%20%20%20%20%20%20%20preferCanvas%3A%20false%2C%0A%20%20%20%20%20%20%20%20%20%20%20%20%20%20%20%20%20%20%20%20addGoogleMap%3A%20false%2C%0A%20%20%20%20%20%20%20%20%20%20%20%20%20%20%20%20%20%20%20%20eeInitialize%3A%20true%2C%0A%20%20%20%20%20%20%20%20%20%20%20%20%20%20%20%20%20%20%20%20pluginLatlngpopup%3A%20false%2C%0A%20%20%20%20%20%20%20%20%20%20%20%20%20%20%20%20%20%20%20%20pluginFullscreen%3A%20true%2C%0A%20%20%20%20%20%20%20%20%20%20%20%20%20%20%20%20%20%20%20%20pluginDraw%3A%20true%2C%0A%20%20%20%20%20%20%20%20%20%20%20%20%20%20%20%20%20%20%20%20DrawExport%3A%20false%2C%0A%20%20%20%20%20%20%20%20%20%20%20%20%20%20%20%20%20%20%20%20pluginMinimap%3A%20false%2C%0A%20%20%20%20%20%20%20%20%20%20%20%20%20%20%20%20%20%20%20%20pluginLayercontrol%3A%20false%2C%0A%20%20%20%20%20%20%20%20%20%20%20%20%20%20%20%20%20%20%20%20locateControl%3A%20false%2C%0A%20%20%20%20%20%20%20%20%20%20%20%20%20%20%20%20%20%20%20%20searchControl%3A%20true%2C%0A%20%20%20%20%20%20%20%20%20%20%20%20%20%20%20%20%7D%0A%20%20%20%20%20%20%20%20%20%20%20%20%29%3B%0A%0A%20%20%20%20%20%20%20%20%20%20%20%20%0A%0A%20%20%20%20%20%20%20%20%0A%20%20%20%20%0A%20%20%20%20%20%20%20%20%20%20%20%20var%20tile_layer_25174d8b06ef482797b4338f63aeb73d%20%3D%20L.tileLayer%28%0A%20%20%20%20%20%20%20%20%20%20%20%20%20%20%20%20%22https%3A//%7Bs%7D.tile.openstreetmap.org/%7Bz%7D/%7Bx%7D/%7By%7D.png%22%2C%0A%20%20%20%20%20%20%20%20%20%20%20%20%20%20%20%20%7B%22attribution%22%3A%20%22Data%20by%20%5Cu0026copy%3B%20%5Cu003ca%20href%3D%5C%22http%3A//openstreetmap.org%5C%22%5Cu003eOpenStreetMap%5Cu003c/a%5Cu003e%2C%20under%20%5Cu003ca%20href%3D%5C%22http%3A//www.openstreetmap.org/copyright%5C%22%5Cu003eODbL%5Cu003c/a%5Cu003e.%22%2C%20%22detectRetina%22%3A%20false%2C%20%22maxNativeZoom%22%3A%2024%2C%20%22maxZoom%22%3A%2024%2C%20%22minZoom%22%3A%200%2C%20%22noWrap%22%3A%20false%2C%20%22opacity%22%3A%201%2C%20%22subdomains%22%3A%20%22abc%22%2C%20%22tms%22%3A%20false%7D%0A%20%20%20%20%20%20%20%20%20%20%20%20%29.addTo%28map_913b6ee83ae9444ba99ff176cb3c16c2%29%3B%0A%20%20%20%20%20%20%20%20%0A%20%20%20%20%0A%20%20%20%20%20%20%20%20%20%20%20%20L.control.fullscreen%28%0A%20%20%20%20%20%20%20%20%20%20%20%20%20%20%20%20%7B%22forceSeparateButton%22%3A%20false%2C%20%22position%22%3A%20%22topleft%22%2C%20%22title%22%3A%20%22Full%20Screen%22%2C%20%22titleCancel%22%3A%20%22Exit%20Full%20Screen%22%7D%0A%20%20%20%20%20%20%20%20%20%20%20%20%29.addTo%28map_913b6ee83ae9444ba99ff176cb3c16c2%29%3B%0A%20%20%20%20%20%20%20%20%0A%20%20%20%20%0A%20%20%20%20%20%20%20%20%20%20%20%20var%20options%20%3D%20%7B%0A%20%20%20%20%20%20%20%20%20%20%20%20%20%20position%3A%20%22topleft%22%2C%0A%20%20%20%20%20%20%20%20%20%20%20%20%20%20draw%3A%20%7B%7D%2C%0A%20%20%20%20%20%20%20%20%20%20%20%20%20%20edit%3A%20%7B%7D%2C%0A%20%20%20%20%20%20%20%20%20%20%20%20%7D%0A%20%20%20%20%20%20%20%20%20%20%20%20//%20FeatureGroup%20is%20to%20store%20editable%20layers.%0A%20%20%20%20%20%20%20%20%20%20%20%20var%20drawnItems%20%3D%20new%20L.featureGroup%28%29.addTo%28%0A%20%20%20%20%20%20%20%20%20%20%20%20%20%20%20%20map_913b6ee83ae9444ba99ff176cb3c16c2%0A%20%20%20%20%20%20%20%20%20%20%20%20%29%3B%0A%20%20%20%20%20%20%20%20%20%20%20%20options.edit.featureGroup%20%3D%20drawnItems%3B%0A%20%20%20%20%20%20%20%20%20%20%20%20var%20draw_control_b0cb1c1f08594db7a04b1466ea24f915%20%3D%20new%20L.Control.Draw%28%0A%20%20%20%20%20%20%20%20%20%20%20%20%20%20%20%20options%0A%20%20%20%20%20%20%20%20%20%20%20%20%29.addTo%28%20map_913b6ee83ae9444ba99ff176cb3c16c2%20%29%3B%0A%20%20%20%20%20%20%20%20%20%20%20%20map_913b6ee83ae9444ba99ff176cb3c16c2.on%28L.Draw.Event.CREATED%2C%20function%28e%29%20%7B%0A%20%20%20%20%20%20%20%20%20%20%20%20%20%20%20%20var%20layer%20%3D%20e.layer%2C%0A%20%20%20%20%20%20%20%20%20%20%20%20%20%20%20%20%20%20%20%20type%20%3D%20e.layerType%3B%0A%20%20%20%20%20%20%20%20%20%20%20%20%20%20%20%20var%20coords%20%3D%20JSON.stringify%28layer.toGeoJSON%28%29%29%3B%0A%20%20%20%20%20%20%20%20%20%20%20%20%20%20%20%20layer.on%28%27click%27%2C%20function%28%29%20%7B%0A%20%20%20%20%20%20%20%20%20%20%20%20%20%20%20%20%20%20%20%20alert%28coords%29%3B%0A%20%20%20%20%20%20%20%20%20%20%20%20%20%20%20%20%20%20%20%20console.log%28coords%29%3B%0A%20%20%20%20%20%20%20%20%20%20%20%20%20%20%20%20%7D%29%3B%0A%20%20%20%20%20%20%20%20%20%20%20%20%20%20%20%20drawnItems.addLayer%28layer%29%3B%0A%20%20%20%20%20%20%20%20%20%20%20%20%20%7D%29%3B%0A%20%20%20%20%20%20%20%20%20%20%20%20map_913b6ee83ae9444ba99ff176cb3c16c2.on%28%27draw%3Acreated%27%2C%20function%28e%29%20%7B%0A%20%20%20%20%20%20%20%20%20%20%20%20%20%20%20%20drawnItems.addLayer%28e.layer%29%3B%0A%20%20%20%20%20%20%20%20%20%20%20%20%7D%29%3B%0A%20%20%20%20%20%20%20%20%20%20%20%20%0A%20%20%20%20%20%20%20%20%0A%20%20%20%20%0A%20%20%20%20%20%20%20%20%20%20%20%20L.Control.geocoder%28%0A%20%20%20%20%20%20%20%20%20%20%20%20%20%20%20%20%7B%22collapsed%22%3A%20true%2C%20%22defaultMarkGeocode%22%3A%20true%2C%20%22position%22%3A%20%22topleft%22%7D%0A%20%20%20%20%20%20%20%20%20%20%20%20%29.on%28%27markgeocode%27%2C%20function%28e%29%20%7B%0A%20%20%20%20%20%20%20%20%20%20%20%20%20%20%20%20map_913b6ee83ae9444ba99ff176cb3c16c2.setView%28e.geocode.center%2C%2011%29%3B%0A%20%20%20%20%20%20%20%20%20%20%20%20%7D%29.addTo%28map_913b6ee83ae9444ba99ff176cb3c16c2%29%3B%0A%0A%20%20%20%20%20%20%20%20%0A%20%20%20%20%0A%20%20%20%20%20%20%20%20%20%20%20%20map_913b6ee83ae9444ba99ff176cb3c16c2.fitBounds%28%0A%20%20%20%20%20%20%20%20%20%20%20%20%20%20%20%20%5B%5B20%2C%200%5D%2C%20%5B20%2C%200%5D%5D%2C%0A%20%20%20%20%20%20%20%20%20%20%20%20%20%20%20%20%7B%22maxZoom%22%3A%202%7D%0A%20%20%20%20%20%20%20%20%20%20%20%20%29%3B%0A%20%20%20%20%20%20%20%20%0A%20%20%20%20%0A%20%20%20%20%20%20%20%20%20%20%20%20var%20tile_layer_9ebe4071e7044637a9bbfcbdc19fca10%20%3D%20L.tileLayer%28%0A%20%20%20%20%20%20%20%20%20%20%20%20%20%20%20%20%22https%3A//earthengine.googleapis.com/v1alpha/projects/earthengine-legacy/maps/1105566dfe8a8821ab6f4f3bdeb88db6-c18b5804fe048f53f6adec4c09f1a5a9/tiles/%7Bz%7D/%7Bx%7D/%7By%7D%22%2C%0A%20%20%20%20%20%20%20%20%20%20%20%20%20%20%20%20%7B%22attribution%22%3A%20%22Google%20Earth%20Engine%22%2C%20%22detectRetina%22%3A%20false%2C%20%22maxNativeZoom%22%3A%2024%2C%20%22maxZoom%22%3A%2024%2C%20%22minZoom%22%3A%200%2C%20%22noWrap%22%3A%20false%2C%20%22opacity%22%3A%201.0%2C%20%22subdomains%22%3A%20%22abc%22%2C%20%22tms%22%3A%20false%7D%0A%20%20%20%20%20%20%20%20%20%20%20%20%29.addTo%28map_913b6ee83ae9444ba99ff176cb3c16c2%29%3B%0A%20%20%20%20%20%20%20%20%0A%20%20%20%20%0A%20%20%20%20%20%20%20%20%20%20%20%20map_913b6ee83ae9444ba99ff176cb3c16c2.fitBounds%28%0A%20%20%20%20%20%20%20%20%20%20%20%20%20%20%20%20%5B%5B-21.50018598743883%2C%20117%5D%2C%20%5B-20.999999999999975%2C%20117.5%5D%5D%2C%0A%20%20%20%20%20%20%20%20%20%20%20%20%20%20%20%20%7B%7D%0A%20%20%20%20%20%20%20%20%20%20%20%20%29%3B%0A%20%20%20%20%20%20%20%20%0A%20%20%20%20%0A%20%20%20%20%20%20%20%20%20%20%20%20var%20layer_control_f633c3184c5b4ee59756ae5cd90e292e%20%3D%20%7B%0A%20%20%20%20%20%20%20%20%20%20%20%20%20%20%20%20base_layers%20%3A%20%7B%0A%20%20%20%20%20%20%20%20%20%20%20%20%20%20%20%20%20%20%20%20%22openstreetmap%22%20%3A%20tile_layer_25174d8b06ef482797b4338f63aeb73d%2C%0A%20%20%20%20%20%20%20%20%20%20%20%20%20%20%20%20%7D%2C%0A%20%20%20%20%20%20%20%20%20%20%20%20%20%20%20%20overlays%20%3A%20%20%7B%0A%20%20%20%20%20%20%20%20%20%20%20%20%20%20%20%20%20%20%20%20%22Study%20Site%22%20%3A%20tile_layer_9ebe4071e7044637a9bbfcbdc19fca10%2C%0A%20%20%20%20%20%20%20%20%20%20%20%20%20%20%20%20%7D%2C%0A%20%20%20%20%20%20%20%20%20%20%20%20%7D%3B%0A%20%20%20%20%20%20%20%20%20%20%20%20L.control.layers%28%0A%20%20%20%20%20%20%20%20%20%20%20%20%20%20%20%20layer_control_f633c3184c5b4ee59756ae5cd90e292e.base_layers%2C%0A%20%20%20%20%20%20%20%20%20%20%20%20%20%20%20%20layer_control_f633c3184c5b4ee59756ae5cd90e292e.overlays%2C%0A%20%20%20%20%20%20%20%20%20%20%20%20%20%20%20%20%7B%22autoZIndex%22%3A%20true%2C%20%22collapsed%22%3A%20true%2C%20%22position%22%3A%20%22topright%22%7D%0A%20%20%20%20%20%20%20%20%20%20%20%20%29.addTo%28map_913b6ee83ae9444ba99ff176cb3c16c2%29%3B%0A%20%20%20%20%20%20%20%20%0A%3C/script%3E onload=\"this.contentDocument.open();this.contentDocument.write(    decodeURIComponent(this.getAttribute('data-html')));this.contentDocument.close();\" allowfullscreen webkitallowfullscreen mozallowfullscreen></iframe></div></div>"
            ]
          },
          "metadata": {},
          "execution_count": 6
        }
      ]
    },
    {
      "cell_type": "markdown",
      "source": [
        "Now, let's access [CMRSET](https://developers.google.com/earth-engine/datasets/catalog/TERN_AET_CMRSET_LANDSAT_V2_2) from the [Earth Engine data catalog](https://developers.google.com/earth-engine/datasets), and filter down the [ImageCollection](https://developers.google.com/earth-engine/tutorials/tutorial_api_04) to the period of interest. We will just export 12 months of data for this example, however you can customise the period of interest for your own circumstances."
      ],
      "metadata": {
        "id": "0M_daJdQGkYP"
      }
    },
    {
      "cell_type": "code",
      "source": [
        "# Define the period of interest.\n",
        "start = '2019-01-01'\n",
        "end = '2020-01-01'\n",
        "\n",
        "# Access evapotranspiration from the CMRSET dataset.\n",
        "cmrset_aet = ee.ImageCollection(\"TERN/AET/CMRSET_LANDSAT_V2_2\").filterDate(start, end)"
      ],
      "metadata": {
        "id": "vILLXX5tLLgc"
      },
      "execution_count": null,
      "outputs": []
    },
    {
      "cell_type": "markdown",
      "source": [
        "## Export the result\n",
        "Have you heard of the band 1023MB? They're not bad, but they haven't had any gigs yet...  Running the following cells will likely produce gigs of data (depending on your region defined and time period), so please check you have sufficient storage. We will demonstrate 2 different locations you can export the data to: [Google Drive](https://www.google.com/drive/); and [Google Cloud Storage](https://cloud.google.com/storage).  In both of these approaches we will also specify the output [projection](https://developers.google.com/earth-engine/guides/projections) as [GDA94](https://epsg.io/4283) (ESPG:4283)"
      ],
      "metadata": {
        "id": "OjbocWjBRXkB"
      }
    },
    {
      "cell_type": "code",
      "source": [
        "# Define the export settings.\n",
        "site_name = 'Pilbara' # Description for your site (used in task descriptions/output file names)\n",
        "export_folder = 'CMRSET_Exports'"
      ],
      "metadata": {
        "id": "WF45XxalDfM-"
      },
      "execution_count": null,
      "outputs": []
    },
    {
      "cell_type": "markdown",
      "source": [
        "###Export to Google Drive\n",
        "This function defines an [export task](https://developers.google.com/earth-engine/guides/exporting) from Earth Engine which will [export an image to Google Drive](https://developers.google.com/earth-engine/guides/exporting#to-drive) as a [Cloud-Optimised GeoTIFF](https://www.cogeo.org/) (COG)."
      ],
      "metadata": {
        "id": "Pvl7kJ8-VMea"
      }
    },
    {
      "cell_type": "code",
      "source": [
        "tasks = []\n",
        "\n",
        "# A helper function to export an image band to Google Drive\n",
        "def exportBandToDrive(image, band_name):\n",
        "\n",
        "  task_description = \"{0}_{1}_{2}\".format(site_name, feature['properties']['system:index'][0:10], band_name)\n",
        "  task = ee.batch.Export.image.toDrive(**{\n",
        "    'image': image.select(band_name),\n",
        "    'region': region,\n",
        "    'scale': 30,\n",
        "    'crs': 'EPSG:4283',\n",
        "    'description': task_description,\n",
        "    'folder': export_folder\n",
        "  })\n",
        "  tasks.append(task)"
      ],
      "metadata": {
        "id": "zShfc-4CTJ0W"
      },
      "execution_count": null,
      "outputs": []
    },
    {
      "cell_type": "markdown",
      "source": [
        "### Export to Google Cloud Storage (GCS)\n",
        "This function defines an [export task](https://developers.google.com/earth-engine/guides/exporting) from Earth Engine which will [export an image to GCS](https://developers.google.com/earth-engine/guides/exporting#to-cloud-storage) as a [Cloud-Optimised GeoTIFF](https://www.cogeo.org/) (COG).\n",
        "\n",
        "Use this function if your preferred export location is to [Google Cloud Storage](https://cloud.google.com/storage).  You may export the data to an existing storage bucket or you can [create a new storage bucket](https://cloud.google.com/storage/docs/creating-buckets). If you are creating a new storage bucket you may also be interested in the [bucket naming guidelines](https://cloud.google.com/storage/docs/naming-buckets).  Depending on your circumstances, other information you may be interested in include: [downloading data from a bucket](https://cloud.google.com/storage/docs/downloading-objects); and [deleting buckets](https://cloud.google.com/storage/docs/deleting-buckets).\n",
        "\n",
        "**You will need to adjust the value of the variable `myBucket` below to reference your bucket name.**\n",
        "\n"
      ],
      "metadata": {
        "id": "u6QSl5PeVDAY"
      }
    },
    {
      "cell_type": "code",
      "source": [
        "tasks = []\n",
        "myBucket = 'your-bucket-name'\n",
        "\n",
        "# A helper function to export an image band to Google Cloud Storage\n",
        "def exportBandToCloudStorage(image, band_name):\n",
        "\n",
        "  task_description = \"{0}_{1}_{2}\".format(site_name, feature['properties']['system:index'][0:10], band_name)\n",
        "  task = ee.batch.Export.image.toCloudStorage(**{\n",
        "    'image': image.select(band_name),\n",
        "    'region': region,\n",
        "    'scale': 30,\n",
        "    'crs': 'EPSG:4283',\n",
        "    'description': task_description,\n",
        "    'bucket': myBucket,\n",
        "    'fileNamePrefix': \"{0}/{1}/{2}\".format(export_folder, site_name, task_description)\n",
        "  })\n",
        "  tasks.append(task)"
      ],
      "metadata": {
        "id": "fanB3EhGTS1S"
      },
      "execution_count": null,
      "outputs": []
    },
    {
      "cell_type": "markdown",
      "source": [
        "Now, let's launch the tasks... by default, running the following cell will create export tasks to Google Drive for both the *ETa* and *pixel_qa* bands, however you can toggle the comments (with #) below to customise your exported data/location."
      ],
      "metadata": {
        "id": "L86DXWh2jLNT"
      }
    },
    {
      "cell_type": "code",
      "source": [
        "eta_client = cmrset_aet.getInfo()\n",
        "\n",
        "# Create an export task for each band.\n",
        "for feature in eta_client['features']:\n",
        "  \n",
        "  # Get the image to export.\n",
        "  image = cmrset_aet.filterDate(feature['properties']['system:time_start']).first()\n",
        "\n",
        "  exportBandToDrive(image, 'ETa') # Evapotranspiration (to Google Drive)\n",
        "  exportBandToDrive(image, 'pixel_qa') # Pixel QA (to Google Drive)\n",
        "\n",
        "  #exportBandToCloudStorage(image, 'ETa')  # Evapotranspiration (to Cloud Storage)\n",
        "  #exportBandToCloudStorage(image, 'pixel_qa')  # Pixel QA (to Cloud Storage)\n",
        "\n",
        "# Start the tasks.\n",
        "for task in tasks:\n",
        "  print(\"Launching task: {0}\".format(task.config['description']))\n",
        "  task.start()"
      ],
      "metadata": {
        "colab": {
          "base_uri": "https://localhost:8080/"
        },
        "id": "wnOZ4GCVWW1B",
        "outputId": "e0714676-82a8-451d-eb2b-83695780b297"
      },
      "execution_count": null,
      "outputs": [
        {
          "output_type": "stream",
          "name": "stdout",
          "text": [
            "Launching task: Pilbara_2019_01_01_ETa\n",
            "Launching task: Pilbara_2019_01_01_pixel_qa\n",
            "Launching task: Pilbara_2019_02_01_ETa\n",
            "Launching task: Pilbara_2019_02_01_pixel_qa\n",
            "Launching task: Pilbara_2019_03_01_ETa\n",
            "Launching task: Pilbara_2019_03_01_pixel_qa\n",
            "Launching task: Pilbara_2019_04_01_ETa\n",
            "Launching task: Pilbara_2019_04_01_pixel_qa\n",
            "Launching task: Pilbara_2019_05_01_ETa\n",
            "Launching task: Pilbara_2019_05_01_pixel_qa\n",
            "Launching task: Pilbara_2019_06_01_ETa\n",
            "Launching task: Pilbara_2019_06_01_pixel_qa\n",
            "Launching task: Pilbara_2019_07_01_ETa\n",
            "Launching task: Pilbara_2019_07_01_pixel_qa\n",
            "Launching task: Pilbara_2019_08_01_ETa\n",
            "Launching task: Pilbara_2019_08_01_pixel_qa\n",
            "Launching task: Pilbara_2019_09_01_ETa\n",
            "Launching task: Pilbara_2019_09_01_pixel_qa\n",
            "Launching task: Pilbara_2019_10_01_ETa\n",
            "Launching task: Pilbara_2019_10_01_pixel_qa\n",
            "Launching task: Pilbara_2019_11_01_ETa\n",
            "Launching task: Pilbara_2019_11_01_pixel_qa\n",
            "Launching task: Pilbara_2019_12_01_ETa\n",
            "Launching task: Pilbara_2019_12_01_pixel_qa\n"
          ]
        }
      ]
    },
    {
      "cell_type": "markdown",
      "source": [
        "Now that your tasks have started, you may monitor their progress under the **Tasks** tab in the [Earth Engine Code Editor](https://code.earthengine.google.com/) or via the [Earth Engine Task Manager](https://code.earthengine.google.com/tasks)"
      ],
      "metadata": {
        "id": "NhTMOnyjHfEk"
      }
    }
  ]
}