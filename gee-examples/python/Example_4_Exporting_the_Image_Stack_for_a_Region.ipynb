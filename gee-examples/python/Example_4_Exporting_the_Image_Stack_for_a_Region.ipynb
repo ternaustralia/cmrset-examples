{
  "cells": [
    {
      "cell_type": "markdown",
      "metadata": {
        "id": "view-badges"
      },
      "source": [
        "<a href=\"https://github.com/ternaustralia/cmrset-examples/blob/main/gee-examples/python/Example_4_Exporting_the_Image_Stack_for_a_Region.ipynb\" target=\"_parent\"><img src=\"https://img.shields.io/static/v1?logo=GitHub&label=&color=333333&style=flat&message=View%20on%20GitHub\" alt=\"View on GitHub\"/></a>\n",
        "&nbsp;\n",
        "<a href=\"https://colab.research.google.com/github/ternaustralia/cmrset-examples/blob/main/gee-examples/python/Example_4_Exporting_the_Image_Stack_for_a_Region.ipynb\" target=\"_parent\"><img src=\"https://colab.research.google.com/assets/colab-badge.svg\" alt=\"Open In Colab\"/></a>\n",
        "&nbsp;\n",
        "<a href=\"https://mybinder.org/v2/gh/ternaustralia/cmrset-examples/HEAD?labpath=gee-examples%2Fpython%2FExample_4_Exporting_the_Image_Stack_for_a_Region.ipynb\" target=\"_parent\"><img src=\"https://mybinder.org/badge_logo.svg\" alt=\"Open In Binder\"/></a>\n"
      ]
    },
    {
      "cell_type": "markdown",
      "metadata": {
        "id": "sH8Y3EPBTjOG"
      },
      "source": [
        "# Example 4 - Exporting the Image Stack for a Region\n",
        "This example illustrates how to export the CMRSET Landsat V2.2 imagery via Earth Engine for a study area in the Pilbara. Both ETa and QA bands are exported. We will also illustrate changing the projection of the exported images to GDA94 (EPSG:4283). This example can potentially generate gigabytes of data, so we demonstrate two different methods for exporting the data to suit your own storage capabilities. These methods are:\n",
        "\n",
        "1.   **Via Google Drive** - This method is the simplest, however you may not be prepared to pay for a monthly subscription to upgrade your Google Drive storage limits if your export exceeds the free storage tier (20 GB).\n",
        "\n",
        "2.   **Via Google Cloud Storage** - This method can incur a once-off fee (rather than a subscription) for the egress costs associated with downloading the imagery from Google Cloud Storage. This method is recommended when method 1) is not appropriate for your circumstances.\n",
        "\n",
        "To run this example it is assumed you have [registered](https://signup.earthengine.google.com/) to [Google Earth Engine](https://earthengine.google.com/). Please feel free to adapt this example to meet your own requirements.\n",
        "\n",
        "---\n",
        "**Execution Time:** ~3 minutes\n",
        "\n",
        "**Storage Required:** 172 MB (on Google Drive or Google Cloud Storage)"
      ]
    },
    {
      "cell_type": "markdown",
      "metadata": {
        "id": "TqTLkfRsg2vh"
      },
      "source": [
        "## Install geemap\n",
        "The [geemap](https://geemap.org/) Python package is built upon [ipyleaflet](https://github.com/jupyter-widgets/ipyleaflet) and [folium](https://github.com/python-visualization/folium) packages, and enables users to analyze and visualize Earth Engine datasets interactively within a Jupyter-based environment.  The geemap API also mimics the official Google Earth Engine Javascript Map API when making calls such as `Map.addLayer()`, `Map.setCenter()`, and `Map.centerObject()`, etc. This simplifies the translation between both languages if you are transitioning from Javascript to Python.\n",
        "\n",
        "Note: the package ipyleaflet is not compatible with Google Colab, hence you will notice we specifically import the [folium implementation](https://geemap.org/foliumap/) in this example for broarder compatibility."
      ]
    },
    {
      "cell_type": "code",
      "execution_count": null,
      "metadata": {
        "id": "1Rnk0oVkgtrq"
      },
      "outputs": [],
      "source": [
        "# Installs the geemap package\n",
        "try:\n",
        "    import geemap.foliumap as geemap\n",
        "except ImportError:\n",
        "    print('Installing geemap...')\n",
        "    !pip install geemap"
      ]
    },
    {
      "cell_type": "code",
      "execution_count": null,
      "metadata": {
        "id": "befdSgC8q8HO",
        "outputId": "8982c8d5-8dee-40cf-c507-dd8cf964792c",
        "colab": {
          "base_uri": "https://localhost:8080/",
          "height": 17
        }
      },
      "outputs": [
        {
          "output_type": "display_data",
          "data": {
            "text/plain": [
              "<IPython.core.display.HTML object>"
            ],
            "text/html": [
              "\n",
              "            <style>\n",
              "                .geemap-dark {\n",
              "                    --jp-widgets-color: white;\n",
              "                    --jp-widgets-label-color: white;\n",
              "                    --jp-ui-font-color1: white;\n",
              "                    --jp-layout-color2: #454545;\n",
              "                    background-color: #383838;\n",
              "                }\n",
              "\n",
              "                .geemap-dark .jupyter-button {\n",
              "                    --jp-layout-color3: #383838;\n",
              "                }\n",
              "\n",
              "                .geemap-colab {\n",
              "                    background-color: var(--colab-primary-surface-color, white);\n",
              "                }\n",
              "\n",
              "                .geemap-colab .jupyter-button {\n",
              "                    --jp-layout-color3: var(--colab-primary-surface-color, white);\n",
              "                }\n",
              "            </style>\n",
              "            "
            ]
          },
          "metadata": {}
        }
      ],
      "source": [
        "import geemap.foliumap as geemap"
      ]
    },
    {
      "cell_type": "markdown",
      "metadata": {
        "id": "2wal3JNtAncS"
      },
      "source": [
        "## Authenticate and initialize\n",
        "Run the `ee.Authenticate()` function to authenticate your access to Earth Engine servers and `ee.Initialize()` to initialize it. Upon running the following cell you'll be asked to grant Earth Engine access to your Google account. **Please follow the instructions in the prompts.** You will also need to enter your Google Earth Engine Cloud Project ID below."
      ]
    },
    {
      "cell_type": "code",
      "execution_count": null,
      "metadata": {
        "colab": {
          "base_uri": "https://localhost:8080/",
          "height": 17
        },
        "id": "0E7Roy_8vEMr",
        "outputId": "a0b1436e-c25d-45c3-dcc4-8dc9f1cc0987"
      },
      "outputs": [
        {
          "output_type": "display_data",
          "data": {
            "text/plain": [
              "<IPython.core.display.HTML object>"
            ],
            "text/html": [
              "\n",
              "            <style>\n",
              "                .geemap-dark {\n",
              "                    --jp-widgets-color: white;\n",
              "                    --jp-widgets-label-color: white;\n",
              "                    --jp-ui-font-color1: white;\n",
              "                    --jp-layout-color2: #454545;\n",
              "                    background-color: #383838;\n",
              "                }\n",
              "\n",
              "                .geemap-dark .jupyter-button {\n",
              "                    --jp-layout-color3: #383838;\n",
              "                }\n",
              "\n",
              "                .geemap-colab {\n",
              "                    background-color: var(--colab-primary-surface-color, white);\n",
              "                }\n",
              "\n",
              "                .geemap-colab .jupyter-button {\n",
              "                    --jp-layout-color3: var(--colab-primary-surface-color, white);\n",
              "                }\n",
              "            </style>\n",
              "            "
            ]
          },
          "metadata": {}
        }
      ],
      "source": [
        "# Import the Earth Engine module\n",
        "import ee\n",
        "\n",
        "# Cloud Project ID to associate with your Earth Engine workspace.\n",
        "project = \"Your Project ID to use\"\n",
        "\n",
        "try:\n",
        "    ee.Initialize(project=project) # Initialize the library.\n",
        "except Exception as e:\n",
        "    ee.Authenticate() # If initialization fails, authentication is required... Trigger the authentication flow and initialize again.\n",
        "    ee.Initialize(project=project) # Initialize the library."
      ]
    },
    {
      "cell_type": "markdown",
      "metadata": {
        "id": "0I8yt7oTDrga"
      },
      "source": [
        "## Define the image stack\n",
        "Firstly, define the extents of your region of interest. We will do this by specifying the extents of our rectangle.\n"
      ]
    },
    {
      "cell_type": "code",
      "execution_count": null,
      "metadata": {
        "id": "bOVj_wrStdP1",
        "outputId": "c9322345-f121-42db-cb7f-fbea00213189",
        "colab": {
          "base_uri": "https://localhost:8080/",
          "height": 17
        }
      },
      "outputs": [
        {
          "output_type": "display_data",
          "data": {
            "text/plain": [
              "<IPython.core.display.HTML object>"
            ],
            "text/html": [
              "\n",
              "            <style>\n",
              "                .geemap-dark {\n",
              "                    --jp-widgets-color: white;\n",
              "                    --jp-widgets-label-color: white;\n",
              "                    --jp-ui-font-color1: white;\n",
              "                    --jp-layout-color2: #454545;\n",
              "                    background-color: #383838;\n",
              "                }\n",
              "\n",
              "                .geemap-dark .jupyter-button {\n",
              "                    --jp-layout-color3: #383838;\n",
              "                }\n",
              "\n",
              "                .geemap-colab {\n",
              "                    background-color: var(--colab-primary-surface-color, white);\n",
              "                }\n",
              "\n",
              "                .geemap-colab .jupyter-button {\n",
              "                    --jp-layout-color3: var(--colab-primary-surface-color, white);\n",
              "                }\n",
              "            </style>\n",
              "            "
            ]
          },
          "metadata": {}
        }
      ],
      "source": [
        "# Define a region of interest.\n",
        "region = ee.Geometry.Rectangle([117.0, -21.5, 117.5, -21.0])"
      ]
    },
    {
      "cell_type": "code",
      "execution_count": null,
      "metadata": {
        "colab": {
          "base_uri": "https://localhost:8080/",
          "height": 621
        },
        "id": "T4NDi-T_JBlw",
        "outputId": "6fb63f3b-9162-4266-b387-8878d1031358"
      },
      "outputs": [
        {
          "output_type": "display_data",
          "data": {
            "text/plain": [
              "<IPython.core.display.HTML object>"
            ],
            "text/html": [
              "\n",
              "            <style>\n",
              "                .geemap-dark {\n",
              "                    --jp-widgets-color: white;\n",
              "                    --jp-widgets-label-color: white;\n",
              "                    --jp-ui-font-color1: white;\n",
              "                    --jp-layout-color2: #454545;\n",
              "                    background-color: #383838;\n",
              "                }\n",
              "\n",
              "                .geemap-dark .jupyter-button {\n",
              "                    --jp-layout-color3: #383838;\n",
              "                }\n",
              "\n",
              "                .geemap-colab {\n",
              "                    background-color: var(--colab-primary-surface-color, white);\n",
              "                }\n",
              "\n",
              "                .geemap-colab .jupyter-button {\n",
              "                    --jp-layout-color3: var(--colab-primary-surface-color, white);\n",
              "                }\n",
              "            </style>\n",
              "            "
            ]
          },
          "metadata": {}
        },
        {
          "output_type": "execute_result",
          "data": {
            "text/plain": [
              "<geemap.foliumap.Map at 0x7f56a2cc0ca0>"
            ],
            "text/html": [
              "<iframe srcdoc=\"&lt;!DOCTYPE html&gt;\n",
              "&lt;html&gt;\n",
              "&lt;head&gt;\n",
              "    \n",
              "    &lt;meta http-equiv=&quot;content-type&quot; content=&quot;text/html; charset=UTF-8&quot; /&gt;\n",
              "    \n",
              "        &lt;script&gt;\n",
              "            L_NO_TOUCH = false;\n",
              "            L_DISABLE_3D = false;\n",
              "        &lt;/script&gt;\n",
              "    \n",
              "    &lt;style&gt;html, body {width: 100%;height: 100%;margin: 0;padding: 0;}&lt;/style&gt;\n",
              "    &lt;style&gt;#map {position:absolute;top:0;bottom:0;right:0;left:0;}&lt;/style&gt;\n",
              "    &lt;script src=&quot;https://cdn.jsdelivr.net/npm/leaflet@1.9.3/dist/leaflet.js&quot;&gt;&lt;/script&gt;\n",
              "    &lt;script src=&quot;https://code.jquery.com/jquery-1.12.4.min.js&quot;&gt;&lt;/script&gt;\n",
              "    &lt;script src=&quot;https://cdn.jsdelivr.net/npm/bootstrap@5.2.2/dist/js/bootstrap.bundle.min.js&quot;&gt;&lt;/script&gt;\n",
              "    &lt;script src=&quot;https://cdnjs.cloudflare.com/ajax/libs/Leaflet.awesome-markers/2.0.2/leaflet.awesome-markers.js&quot;&gt;&lt;/script&gt;\n",
              "    &lt;link rel=&quot;stylesheet&quot; href=&quot;https://cdn.jsdelivr.net/npm/leaflet@1.9.3/dist/leaflet.css&quot;/&gt;\n",
              "    &lt;link rel=&quot;stylesheet&quot; href=&quot;https://cdn.jsdelivr.net/npm/bootstrap@5.2.2/dist/css/bootstrap.min.css&quot;/&gt;\n",
              "    &lt;link rel=&quot;stylesheet&quot; href=&quot;https://netdna.bootstrapcdn.com/bootstrap/3.0.0/css/bootstrap.min.css&quot;/&gt;\n",
              "    &lt;link rel=&quot;stylesheet&quot; href=&quot;https://cdn.jsdelivr.net/npm/@fortawesome/fontawesome-free@6.2.0/css/all.min.css&quot;/&gt;\n",
              "    &lt;link rel=&quot;stylesheet&quot; href=&quot;https://cdnjs.cloudflare.com/ajax/libs/Leaflet.awesome-markers/2.0.2/leaflet.awesome-markers.css&quot;/&gt;\n",
              "    &lt;link rel=&quot;stylesheet&quot; href=&quot;https://cdn.jsdelivr.net/gh/python-visualization/folium/folium/templates/leaflet.awesome.rotate.min.css&quot;/&gt;\n",
              "    \n",
              "            &lt;meta name=&quot;viewport&quot; content=&quot;width=device-width,\n",
              "                initial-scale=1.0, maximum-scale=1.0, user-scalable=no&quot; /&gt;\n",
              "            &lt;style&gt;\n",
              "                #map_d0fcac2b1f67382685b6b48ec4b78d6c {\n",
              "                    position: relative;\n",
              "                    width: 100.0%;\n",
              "                    height: 100.0%;\n",
              "                    left: 0.0%;\n",
              "                    top: 0.0%;\n",
              "                }\n",
              "                .leaflet-container { font-size: 1rem; }\n",
              "            &lt;/style&gt;\n",
              "        \n",
              "    &lt;script src=&quot;https://cdnjs.cloudflare.com/ajax/libs/leaflet.fullscreen/1.4.2/Control.FullScreen.min.js&quot;&gt;&lt;/script&gt;\n",
              "    &lt;link rel=&quot;stylesheet&quot; href=&quot;https://cdnjs.cloudflare.com/ajax/libs/leaflet.fullscreen/1.4.2/Control.FullScreen.min.css&quot;/&gt;\n",
              "    &lt;script src=&quot;https://cdnjs.cloudflare.com/ajax/libs/leaflet.draw/1.0.2/leaflet.draw.js&quot;&gt;&lt;/script&gt;\n",
              "    &lt;link rel=&quot;stylesheet&quot; href=&quot;https://cdnjs.cloudflare.com/ajax/libs/leaflet.draw/1.0.2/leaflet.draw.css&quot;/&gt;\n",
              "    &lt;script src=&quot;https://unpkg.com/leaflet-control-geocoder/dist/Control.Geocoder.js&quot;&gt;&lt;/script&gt;\n",
              "    &lt;link rel=&quot;stylesheet&quot; href=&quot;https://unpkg.com/leaflet-control-geocoder/dist/Control.Geocoder.css&quot;/&gt;\n",
              "&lt;/head&gt;\n",
              "&lt;body&gt;\n",
              "    \n",
              "    \n",
              "            &lt;div class=&quot;folium-map&quot; id=&quot;map_d0fcac2b1f67382685b6b48ec4b78d6c&quot; &gt;&lt;/div&gt;\n",
              "        \n",
              "&lt;/body&gt;\n",
              "&lt;script&gt;\n",
              "    \n",
              "    \n",
              "            var map_d0fcac2b1f67382685b6b48ec4b78d6c = L.map(\n",
              "                &quot;map_d0fcac2b1f67382685b6b48ec4b78d6c&quot;,\n",
              "                {\n",
              "                    center: [20.0, 0.0],\n",
              "                    crs: L.CRS.EPSG3857,\n",
              "                    zoom: 2,\n",
              "                    zoomControl: true,\n",
              "                    preferCanvas: false,\n",
              "                    addGoogleMap: false,\n",
              "                    eeInitialize: true,\n",
              "                    pluginLatlngpopup: false,\n",
              "                    pluginFullscreen: true,\n",
              "                    pluginDraw: true,\n",
              "                    DrawExport: false,\n",
              "                    pluginMinimap: false,\n",
              "                    locateControl: false,\n",
              "                    searchControl: true,\n",
              "                    layersControl: true,\n",
              "                }\n",
              "            );\n",
              "\n",
              "            \n",
              "\n",
              "        \n",
              "    \n",
              "            var tile_layer_55dc9cb7b9ce1ba9e3c166c1c20cd931 = L.tileLayer(\n",
              "                &quot;https://{s}.tile.openstreetmap.org/{z}/{x}/{y}.png&quot;,\n",
              "                {&quot;attribution&quot;: &quot;Data by \\u0026copy; \\u003ca target=\\&quot;_blank\\&quot; href=\\&quot;http://openstreetmap.org\\&quot;\\u003eOpenStreetMap\\u003c/a\\u003e, under \\u003ca target=\\&quot;_blank\\&quot; href=\\&quot;http://www.openstreetmap.org/copyright\\&quot;\\u003eODbL\\u003c/a\\u003e.&quot;, &quot;detectRetina&quot;: false, &quot;maxNativeZoom&quot;: 30, &quot;maxZoom&quot;: 30, &quot;minZoom&quot;: 0, &quot;noWrap&quot;: false, &quot;opacity&quot;: 1, &quot;subdomains&quot;: &quot;abc&quot;, &quot;tms&quot;: false}\n",
              "            ).addTo(map_d0fcac2b1f67382685b6b48ec4b78d6c);\n",
              "        \n",
              "    \n",
              "            L.control.fullscreen(\n",
              "                {&quot;forceSeparateButton&quot;: false, &quot;position&quot;: &quot;topleft&quot;, &quot;title&quot;: &quot;Full Screen&quot;, &quot;titleCancel&quot;: &quot;Exit Full Screen&quot;}\n",
              "            ).addTo(map_d0fcac2b1f67382685b6b48ec4b78d6c);\n",
              "        \n",
              "    \n",
              "            var options = {\n",
              "              position: &quot;topleft&quot;,\n",
              "              draw: {},\n",
              "              edit: {},\n",
              "            }\n",
              "            // FeatureGroup is to store editable layers.\n",
              "            var drawnItems = new L.featureGroup().addTo(\n",
              "                map_d0fcac2b1f67382685b6b48ec4b78d6c\n",
              "            );\n",
              "            options.edit.featureGroup = drawnItems;\n",
              "            var draw_control_c3eac88cb458e012f8e2f450b444e36f = new L.Control.Draw(\n",
              "                options\n",
              "            ).addTo( map_d0fcac2b1f67382685b6b48ec4b78d6c );\n",
              "            map_d0fcac2b1f67382685b6b48ec4b78d6c.on(L.Draw.Event.CREATED, function(e) {\n",
              "                var layer = e.layer,\n",
              "                    type = e.layerType;\n",
              "                var coords = JSON.stringify(layer.toGeoJSON());\n",
              "                layer.on(&#x27;click&#x27;, function() {\n",
              "                    alert(coords);\n",
              "                    console.log(coords);\n",
              "                });\n",
              "                drawnItems.addLayer(layer);\n",
              "             });\n",
              "            map_d0fcac2b1f67382685b6b48ec4b78d6c.on(&#x27;draw:created&#x27;, function(e) {\n",
              "                drawnItems.addLayer(e.layer);\n",
              "            });\n",
              "            \n",
              "        \n",
              "    \n",
              "            L.Control.geocoder(\n",
              "                {&quot;collapsed&quot;: true, &quot;defaultMarkGeocode&quot;: true, &quot;position&quot;: &quot;topleft&quot;}\n",
              "            ).on(&#x27;markgeocode&#x27;, function(e) {\n",
              "                map_d0fcac2b1f67382685b6b48ec4b78d6c.setView(e.geocode.center, 11);\n",
              "            }).addTo(map_d0fcac2b1f67382685b6b48ec4b78d6c);\n",
              "\n",
              "        \n",
              "    \n",
              "            map_d0fcac2b1f67382685b6b48ec4b78d6c.fitBounds(\n",
              "                [[20, 0], [20, 0]],\n",
              "                {&quot;maxZoom&quot;: 2}\n",
              "            );\n",
              "        \n",
              "    \n",
              "            var tile_layer_7f8c3b02974a02f97e82beef0bb9ed3a = L.tileLayer(\n",
              "                &quot;https://earthengine.googleapis.com/v1/projects/tern-landscapes/maps/1105566dfe8a8821ab6f4f3bdeb88db6-a2e7343755edaf3288b11445d841627e/tiles/{z}/{x}/{y}&quot;,\n",
              "                {&quot;attribution&quot;: &quot;Google Earth Engine&quot;, &quot;detectRetina&quot;: false, &quot;maxNativeZoom&quot;: 24, &quot;maxZoom&quot;: 24, &quot;minZoom&quot;: 0, &quot;noWrap&quot;: false, &quot;opacity&quot;: 1.0, &quot;subdomains&quot;: &quot;abc&quot;, &quot;tms&quot;: false}\n",
              "            ).addTo(map_d0fcac2b1f67382685b6b48ec4b78d6c);\n",
              "        \n",
              "    \n",
              "            map_d0fcac2b1f67382685b6b48ec4b78d6c.fitBounds(\n",
              "                [[-21.50018598743883, 117], [-20.999999999999975, 117.5]],\n",
              "                {}\n",
              "            );\n",
              "        \n",
              "    \n",
              "            var layer_control_0fa28c31091183926cfc619ee86d94a0 = {\n",
              "                base_layers : {\n",
              "                    &quot;openstreetmap&quot; : tile_layer_55dc9cb7b9ce1ba9e3c166c1c20cd931,\n",
              "                },\n",
              "                overlays :  {\n",
              "                    &quot;Study Site&quot; : tile_layer_7f8c3b02974a02f97e82beef0bb9ed3a,\n",
              "                },\n",
              "            };\n",
              "            L.control.layers(\n",
              "                layer_control_0fa28c31091183926cfc619ee86d94a0.base_layers,\n",
              "                layer_control_0fa28c31091183926cfc619ee86d94a0.overlays,\n",
              "                {&quot;autoZIndex&quot;: true, &quot;collapsed&quot;: true, &quot;position&quot;: &quot;topright&quot;}\n",
              "            ).addTo(map_d0fcac2b1f67382685b6b48ec4b78d6c);\n",
              "        \n",
              "&lt;/script&gt;\n",
              "&lt;/html&gt;\" width=\"100%\" height=\"600\"style=\"border:none !important;\" \"allowfullscreen\" \"webkitallowfullscreen\" \"mozallowfullscreen\"></iframe>"
            ]
          },
          "metadata": {},
          "execution_count": 5
        }
      ],
      "source": [
        "# Visualize the region of interest.\n",
        "Map = geemap.Map(add_google_map = False)\n",
        "Map.addLayer(region, {'color': 'green'}, 'Study Site')\n",
        "Map.centerObject(region)\n",
        "Map"
      ]
    },
    {
      "cell_type": "markdown",
      "metadata": {
        "id": "0M_daJdQGkYP"
      },
      "source": [
        "Now, let's access [CMRSET](https://developers.google.com/earth-engine/datasets/catalog/TERN_AET_CMRSET_LANDSAT_V2_2) from the [Earth Engine data catalog](https://developers.google.com/earth-engine/datasets), and filter down the [ImageCollection](https://developers.google.com/earth-engine/tutorials/tutorial_api_04) to the period of interest. We will just export 12 months of data for this example, however you can customise the period of interest for your own circumstances."
      ]
    },
    {
      "cell_type": "code",
      "execution_count": null,
      "metadata": {
        "id": "vILLXX5tLLgc",
        "outputId": "f82502e6-3013-4a13-888a-0d8cd21f2d9a",
        "colab": {
          "base_uri": "https://localhost:8080/",
          "height": 17
        }
      },
      "outputs": [
        {
          "output_type": "display_data",
          "data": {
            "text/plain": [
              "<IPython.core.display.HTML object>"
            ],
            "text/html": [
              "\n",
              "            <style>\n",
              "                .geemap-dark {\n",
              "                    --jp-widgets-color: white;\n",
              "                    --jp-widgets-label-color: white;\n",
              "                    --jp-ui-font-color1: white;\n",
              "                    --jp-layout-color2: #454545;\n",
              "                    background-color: #383838;\n",
              "                }\n",
              "\n",
              "                .geemap-dark .jupyter-button {\n",
              "                    --jp-layout-color3: #383838;\n",
              "                }\n",
              "\n",
              "                .geemap-colab {\n",
              "                    background-color: var(--colab-primary-surface-color, white);\n",
              "                }\n",
              "\n",
              "                .geemap-colab .jupyter-button {\n",
              "                    --jp-layout-color3: var(--colab-primary-surface-color, white);\n",
              "                }\n",
              "            </style>\n",
              "            "
            ]
          },
          "metadata": {}
        }
      ],
      "source": [
        "# Define the period of interest.\n",
        "start = '2019-01-01'\n",
        "end = '2020-01-01'\n",
        "\n",
        "# Access evapotranspiration from the CMRSET dataset.\n",
        "cmrset_aet = ee.ImageCollection(\"TERN/AET/CMRSET_LANDSAT_V2_2\").filterDate(start, end)"
      ]
    },
    {
      "cell_type": "markdown",
      "metadata": {
        "id": "OjbocWjBRXkB"
      },
      "source": [
        "## Export the result\n",
        "Have you heard of the band 1023MB? They're not bad, but they haven't had any gigs yet...  Running the following cells will likely produce gigs of data (depending on your region defined and time period), so please check you have sufficient storage. We will demonstrate 2 different locations you can export the data to: [Google Drive](https://www.google.com/drive/); and [Google Cloud Storage](https://cloud.google.com/storage).  In both of these approaches we will also specify the output [projection](https://developers.google.com/earth-engine/guides/projections) as [GDA94](https://epsg.io/4283) (ESPG:4283)"
      ]
    },
    {
      "cell_type": "code",
      "execution_count": null,
      "metadata": {
        "id": "WF45XxalDfM-",
        "outputId": "5862e9d2-1ae7-471c-b967-2a1c2194a5b9",
        "colab": {
          "base_uri": "https://localhost:8080/",
          "height": 17
        }
      },
      "outputs": [
        {
          "output_type": "display_data",
          "data": {
            "text/plain": [
              "<IPython.core.display.HTML object>"
            ],
            "text/html": [
              "\n",
              "            <style>\n",
              "                .geemap-dark {\n",
              "                    --jp-widgets-color: white;\n",
              "                    --jp-widgets-label-color: white;\n",
              "                    --jp-ui-font-color1: white;\n",
              "                    --jp-layout-color2: #454545;\n",
              "                    background-color: #383838;\n",
              "                }\n",
              "\n",
              "                .geemap-dark .jupyter-button {\n",
              "                    --jp-layout-color3: #383838;\n",
              "                }\n",
              "\n",
              "                .geemap-colab {\n",
              "                    background-color: var(--colab-primary-surface-color, white);\n",
              "                }\n",
              "\n",
              "                .geemap-colab .jupyter-button {\n",
              "                    --jp-layout-color3: var(--colab-primary-surface-color, white);\n",
              "                }\n",
              "            </style>\n",
              "            "
            ]
          },
          "metadata": {}
        }
      ],
      "source": [
        "# Define the export settings.\n",
        "site_name = 'Pilbara' # Description for your site (used in task descriptions/output file names)\n",
        "export_folder = 'CMRSET_Exports'"
      ]
    },
    {
      "cell_type": "markdown",
      "metadata": {
        "id": "Pvl7kJ8-VMea"
      },
      "source": [
        "###Export to Google Drive\n",
        "This function defines an [export task](https://developers.google.com/earth-engine/guides/exporting) from Earth Engine which will [export an image to Google Drive](https://developers.google.com/earth-engine/guides/exporting#to-drive) as a [Cloud-Optimised GeoTIFF](https://www.cogeo.org/) (COG)."
      ]
    },
    {
      "cell_type": "code",
      "execution_count": null,
      "metadata": {
        "id": "zShfc-4CTJ0W",
        "outputId": "6371fb73-f937-4558-e54e-113a29723c4b",
        "colab": {
          "base_uri": "https://localhost:8080/",
          "height": 17
        }
      },
      "outputs": [
        {
          "output_type": "display_data",
          "data": {
            "text/plain": [
              "<IPython.core.display.HTML object>"
            ],
            "text/html": [
              "\n",
              "            <style>\n",
              "                .geemap-dark {\n",
              "                    --jp-widgets-color: white;\n",
              "                    --jp-widgets-label-color: white;\n",
              "                    --jp-ui-font-color1: white;\n",
              "                    --jp-layout-color2: #454545;\n",
              "                    background-color: #383838;\n",
              "                }\n",
              "\n",
              "                .geemap-dark .jupyter-button {\n",
              "                    --jp-layout-color3: #383838;\n",
              "                }\n",
              "\n",
              "                .geemap-colab {\n",
              "                    background-color: var(--colab-primary-surface-color, white);\n",
              "                }\n",
              "\n",
              "                .geemap-colab .jupyter-button {\n",
              "                    --jp-layout-color3: var(--colab-primary-surface-color, white);\n",
              "                }\n",
              "            </style>\n",
              "            "
            ]
          },
          "metadata": {}
        }
      ],
      "source": [
        "tasks = []\n",
        "\n",
        "# A helper function to export an image band to Google Drive\n",
        "def exportBandToDrive(image, band_name):\n",
        "\n",
        "  task_description = \"{0}_{1}_{2}\".format(site_name, feature['properties']['system:index'][0:10], band_name)\n",
        "  task = ee.batch.Export.image.toDrive(**{\n",
        "    'image': image.select(band_name),\n",
        "    'region': region,\n",
        "    'scale': 30,\n",
        "    'crs': 'EPSG:4283',\n",
        "    'description': task_description,\n",
        "    'folder': export_folder\n",
        "  })\n",
        "  tasks.append(task)"
      ]
    },
    {
      "cell_type": "markdown",
      "metadata": {
        "id": "u6QSl5PeVDAY"
      },
      "source": [
        "### Export to Google Cloud Storage (GCS)\n",
        "This function defines an [export task](https://developers.google.com/earth-engine/guides/exporting) from Earth Engine which will [export an image to GCS](https://developers.google.com/earth-engine/guides/exporting#to-cloud-storage) as a [Cloud-Optimised GeoTIFF](https://www.cogeo.org/) (COG).\n",
        "\n",
        "Use this function if your preferred export location is to [Google Cloud Storage](https://cloud.google.com/storage).  You may export the data to an existing storage bucket or you can [create a new storage bucket](https://cloud.google.com/storage/docs/creating-buckets). If you are creating a new storage bucket you may also be interested in the [bucket naming guidelines](https://cloud.google.com/storage/docs/naming-buckets).  Depending on your circumstances, other information you may be interested in include: [downloading data from a bucket](https://cloud.google.com/storage/docs/downloading-objects); and [deleting buckets](https://cloud.google.com/storage/docs/deleting-buckets).\n",
        "\n",
        "**You will need to adjust the value of the variable `myBucket` below to reference your bucket name.**\n",
        "\n"
      ]
    },
    {
      "cell_type": "code",
      "execution_count": null,
      "metadata": {
        "id": "fanB3EhGTS1S",
        "outputId": "7f5aad5a-5f26-4eb8-ec2c-e9538f2fbbbd",
        "colab": {
          "base_uri": "https://localhost:8080/",
          "height": 17
        }
      },
      "outputs": [
        {
          "output_type": "display_data",
          "data": {
            "text/plain": [
              "<IPython.core.display.HTML object>"
            ],
            "text/html": [
              "\n",
              "            <style>\n",
              "                .geemap-dark {\n",
              "                    --jp-widgets-color: white;\n",
              "                    --jp-widgets-label-color: white;\n",
              "                    --jp-ui-font-color1: white;\n",
              "                    --jp-layout-color2: #454545;\n",
              "                    background-color: #383838;\n",
              "                }\n",
              "\n",
              "                .geemap-dark .jupyter-button {\n",
              "                    --jp-layout-color3: #383838;\n",
              "                }\n",
              "\n",
              "                .geemap-colab {\n",
              "                    background-color: var(--colab-primary-surface-color, white);\n",
              "                }\n",
              "\n",
              "                .geemap-colab .jupyter-button {\n",
              "                    --jp-layout-color3: var(--colab-primary-surface-color, white);\n",
              "                }\n",
              "            </style>\n",
              "            "
            ]
          },
          "metadata": {}
        }
      ],
      "source": [
        "tasks = []\n",
        "myBucket = 'your-bucket-name'\n",
        "\n",
        "# A helper function to export an image band to Google Cloud Storage\n",
        "def exportBandToCloudStorage(image, band_name):\n",
        "\n",
        "  task_description = \"{0}_{1}_{2}\".format(site_name, feature['properties']['system:index'][0:10], band_name)\n",
        "  task = ee.batch.Export.image.toCloudStorage(**{\n",
        "    'image': image.select(band_name),\n",
        "    'region': region,\n",
        "    'scale': 30,\n",
        "    'crs': 'EPSG:4283',\n",
        "    'description': task_description,\n",
        "    'bucket': myBucket,\n",
        "    'fileNamePrefix': \"{0}/{1}/{2}\".format(export_folder, site_name, task_description)\n",
        "  })\n",
        "  tasks.append(task)"
      ]
    },
    {
      "cell_type": "markdown",
      "metadata": {
        "id": "L86DXWh2jLNT"
      },
      "source": [
        "Now, let's launch the tasks... by default, running the following cell will create export tasks to Google Drive for both the *ETa* and *pixel_qa* bands, however you can toggle the comments (with #) below to customise your exported data/location."
      ]
    },
    {
      "cell_type": "code",
      "execution_count": null,
      "metadata": {
        "colab": {
          "base_uri": "https://localhost:8080/",
          "height": 453
        },
        "id": "wnOZ4GCVWW1B",
        "outputId": "057c8f41-aeed-4ad1-bfdf-3fda80a37efe"
      },
      "outputs": [
        {
          "output_type": "display_data",
          "data": {
            "text/plain": [
              "<IPython.core.display.HTML object>"
            ],
            "text/html": [
              "\n",
              "            <style>\n",
              "                .geemap-dark {\n",
              "                    --jp-widgets-color: white;\n",
              "                    --jp-widgets-label-color: white;\n",
              "                    --jp-ui-font-color1: white;\n",
              "                    --jp-layout-color2: #454545;\n",
              "                    background-color: #383838;\n",
              "                }\n",
              "\n",
              "                .geemap-dark .jupyter-button {\n",
              "                    --jp-layout-color3: #383838;\n",
              "                }\n",
              "\n",
              "                .geemap-colab {\n",
              "                    background-color: var(--colab-primary-surface-color, white);\n",
              "                }\n",
              "\n",
              "                .geemap-colab .jupyter-button {\n",
              "                    --jp-layout-color3: var(--colab-primary-surface-color, white);\n",
              "                }\n",
              "            </style>\n",
              "            "
            ]
          },
          "metadata": {}
        },
        {
          "output_type": "stream",
          "name": "stdout",
          "text": [
            "Launching task: Pilbara_2019_01_01_ETa\n",
            "Launching task: Pilbara_2019_01_01_pixel_qa\n",
            "Launching task: Pilbara_2019_02_01_ETa\n",
            "Launching task: Pilbara_2019_02_01_pixel_qa\n",
            "Launching task: Pilbara_2019_03_01_ETa\n",
            "Launching task: Pilbara_2019_03_01_pixel_qa\n",
            "Launching task: Pilbara_2019_04_01_ETa\n",
            "Launching task: Pilbara_2019_04_01_pixel_qa\n",
            "Launching task: Pilbara_2019_05_01_ETa\n",
            "Launching task: Pilbara_2019_05_01_pixel_qa\n",
            "Launching task: Pilbara_2019_06_01_ETa\n",
            "Launching task: Pilbara_2019_06_01_pixel_qa\n",
            "Launching task: Pilbara_2019_07_01_ETa\n",
            "Launching task: Pilbara_2019_07_01_pixel_qa\n",
            "Launching task: Pilbara_2019_08_01_ETa\n",
            "Launching task: Pilbara_2019_08_01_pixel_qa\n",
            "Launching task: Pilbara_2019_09_01_ETa\n",
            "Launching task: Pilbara_2019_09_01_pixel_qa\n",
            "Launching task: Pilbara_2019_10_01_ETa\n",
            "Launching task: Pilbara_2019_10_01_pixel_qa\n",
            "Launching task: Pilbara_2019_11_01_ETa\n",
            "Launching task: Pilbara_2019_11_01_pixel_qa\n",
            "Launching task: Pilbara_2019_12_01_ETa\n",
            "Launching task: Pilbara_2019_12_01_pixel_qa\n"
          ]
        }
      ],
      "source": [
        "eta_client = cmrset_aet.getInfo()\n",
        "\n",
        "# Create an export task for each band.\n",
        "for feature in eta_client['features']:\n",
        "\n",
        "  # Get the image to export.\n",
        "  image = cmrset_aet.filterDate(feature['properties']['system:time_start']).first()\n",
        "\n",
        "  exportBandToDrive(image, 'ETa') # Evapotranspiration (to Google Drive)\n",
        "  exportBandToDrive(image, 'pixel_qa') # Pixel QA (to Google Drive)\n",
        "\n",
        "  #exportBandToCloudStorage(image, 'ETa')  # Evapotranspiration (to Cloud Storage)\n",
        "  #exportBandToCloudStorage(image, 'pixel_qa')  # Pixel QA (to Cloud Storage)\n",
        "\n",
        "# Start the tasks.\n",
        "for task in tasks:\n",
        "  print(\"Launching task: {0}\".format(task.config['description']))\n",
        "  task.start()"
      ]
    },
    {
      "cell_type": "markdown",
      "metadata": {
        "id": "NhTMOnyjHfEk"
      },
      "source": [
        "Now that your tasks have started, you may monitor their progress under the **Tasks** tab in the [Earth Engine Code Editor](https://code.earthengine.google.com/) or via the [Earth Engine Task Manager](https://code.earthengine.google.com/tasks)"
      ]
    }
  ],
  "metadata": {
    "colab": {
      "name": "Example 4 - Exporting the Image Stack for a Region.ipynb",
      "provenance": [],
      "toc_visible": true
    },
    "kernelspec": {
      "display_name": "Python 3",
      "name": "python3"
    },
    "language_info": {
      "name": "python"
    }
  },
  "nbformat": 4,
  "nbformat_minor": 0
}