{
 "cells": [
  {
   "cell_type": "code",
   "execution_count": null,
   "id": "e165f281-19f2-47f3-b0e6-f9e3f836bf6b",
   "metadata": {},
   "outputs": [],
   "source": [
    "%pip install owslib pandas shapely matplotlib"
   ]
  },
  {
   "cell_type": "markdown",
   "id": "562106ff-3678-4d3f-adba-a37d5a492aa2",
   "metadata": {},
   "source": [
    "### Imports"
   ]
  },
  {
   "cell_type": "code",
   "execution_count": 30,
   "id": "4deb3017-3d62-49b8-b964-c0eaaa668c78",
   "metadata": {},
   "outputs": [],
   "source": [
    "from owslib.wps import WebProcessingService, ComplexDataInput, monitorExecution\n",
    "from owslib import wps\n",
    "import matplotlib\n",
    "import json\n",
    "import pandas as pd\n",
    "import logging\n",
    "import sys\n",
    "from ipyleaflet import Map, GeoJSON, basemaps"
   ]
  },
  {
   "cell_type": "code",
   "execution_count": 31,
   "id": "88d27dbf-3f88-4adb-bda9-ebdea49ec364",
   "metadata": {},
   "outputs": [],
   "source": [
    "# Set up owslib logging, to set relevant output\n",
    "logger = logging.getLogger(\"owslib\")\n",
    "logger.setLevel(logging.WARNING)\n",
    "\n",
    "handler = logging.StreamHandler(sys.stdout)\n",
    "handler.setLevel(logging.WARNING)\n",
    "logger.addHandler(handler)"
   ]
  },
  {
   "cell_type": "markdown",
   "id": "06d63143-b6f1-47e1-b43e-303a5bff7f7f",
   "metadata": {},
   "source": [
    "### Consts - Change these to affect the data retrieved"
   ]
  },
  {
   "cell_type": "code",
   "execution_count": 32,
   "id": "5ee54f12-04e0-4d8e-b1ff-02fb4426a14a",
   "metadata": {},
   "outputs": [],
   "source": [
    "ENDPOINT=\"https://funcwps.ternlandscapes.org.au/wps/\"\n",
    "DATASET=\"smips\"  # options are \"smips\" or \"aet\"\n",
    "LAYER=\"totalbucket\"  # options are \"totalbucket\" or \"SMindex\" for smips, or \"ETa\" for \"aet\".\n",
    "STARTDATE=\"2019-01-01\"\n",
    "ENDDATE=\"2020-01-01\"\n",
    "# Enter your POINT as GeoJSON\n",
    "MYPOINT='{\"type\": \"Point\", \"coordinates\": [150.1458, -25.515018]}'"
   ]
  },
  {
   "cell_type": "markdown",
   "id": "ebab61ce-198c-4a9b-9731-2b5b19d644c7",
   "metadata": {},
   "source": [
    "### Define a connection to the server"
   ]
  },
  {
   "cell_type": "code",
   "execution_count": 33,
   "id": "1359f773-e988-44b5-9d2d-5929ca5e653c",
   "metadata": {},
   "outputs": [],
   "source": [
    "server = WebProcessingService(ENDPOINT, verbose=False)"
   ]
  },
  {
   "cell_type": "code",
   "execution_count": 34,
   "id": "f7d54ed9-67fe-4a2f-91c4-6cffb4f28f9e",
   "metadata": {},
   "outputs": [
    {
     "name": "stdout",
     "output_type": "stream",
     "text": [
      "WPS Identification type: WPS\n",
      "WPS Identification title: TERN Landscapes Functional Data WPS Server\n",
      "WPS Identification abstract: The Functional Data Processing Server from TERN Landscapes\n",
      "WPS Operation: GetCapabilities\n",
      "WPS Operation: DescribeProcess\n",
      "WPS Operation: Execute\n",
      "WPS Process: identifier=sleep title=Sleep Process\n",
      "WPS Process: identifier=temporalDrill title=Temporal\n",
      "WPS Process: identifier=subset1d title=SubSet 1D\n",
      "WPS Process: identifier=subset2d title=SubSet 2D\n",
      "WPS Process: identifier=stats2d title=Stats 2D\n"
     ]
    }
   ],
   "source": [
    "print('WPS Identification type: %s' % server.identification.type)\n",
    "print('WPS Identification title: %s' % server.identification.title)\n",
    "print('WPS Identification abstract: %s' % server.identification.abstract)\n",
    "for operation in server.operations:\n",
    "    print('WPS Operation: %s' % operation.name)\n",
    "for process in server.processes:\n",
    "    print('WPS Process: identifier=%s title=%s' % (process.identifier, process.title))"
   ]
  },
  {
   "cell_type": "code",
   "execution_count": 35,
   "id": "978c8311-254e-4b33-9476-dc606df64896",
   "metadata": {},
   "outputs": [
    {
     "name": "stdout",
     "output_type": "stream",
     "text": [
      "WPS Process: identifier=temporalDrill\n",
      "WPS Process: title=Temporal\n",
      "WPS Process: abstract=Get timeseries value of a single pixel through time\n",
      "Process input: identifier=datasetId, data type=string, minOccurs=1, maxOccurs=1\n",
      "Process input: identifier=startDate, data type=date, minOccurs=1, maxOccurs=1\n",
      "Process input: identifier=endDate, data type=date, minOccurs=1, maxOccurs=1\n",
      "Process input: identifier=point, data type=ComplexData, minOccurs=1, maxOccurs=1\n",
      "Process output: identifier=download_link, data type=string\n",
      "Process output: identifier=csv, data type=ComplexData\n"
     ]
    }
   ],
   "source": [
    "process = server.describeprocess(\"temporalDrill\")\n",
    "print('WPS Process: identifier=%s' % process.identifier)\n",
    "print('WPS Process: title=%s' % process.title)\n",
    "print('WPS Process: abstract=%s' % process.abstract)\n",
    "for input in process.dataInputs:\n",
    "    print('Process input: identifier=%s, data type=%s, minOccurs=%d, maxOccurs=%d' % (input.identifier, input.dataType, input.minOccurs, input.maxOccurs))\n",
    "for output in process.processOutputs:\n",
    "    print('Process output: identifier=%s, data type=%s' % (output.identifier, output.dataType))"
   ]
  },
  {
   "cell_type": "markdown",
   "id": "eceaa1b7-1b1f-4717-9989-3555d26d4028",
   "metadata": {},
   "source": [
    "### Optional - Visualize point"
   ]
  },
  {
   "cell_type": "code",
   "execution_count": 36,
   "id": "46a31dce-7da4-44e6-b1b3-bd5d8eec0fd7",
   "metadata": {},
   "outputs": [
    {
     "data": {
      "application/vnd.jupyter.widget-view+json": {
       "model_id": "9d126c12d86b4e05b83f79929e8d7a75",
       "version_major": 2,
       "version_minor": 0
      },
      "text/plain": [
       "Map(center=[-25.128, 135.588], controls=(ZoomControl(options=['position', 'zoom_in_text', 'zoom_in_title', 'zo…"
      ]
     },
     "metadata": {},
     "output_type": "display_data"
    }
   ],
   "source": [
    "m = Map(basemap=basemaps.OpenStreetMap.Mapnik, center=[-25.128, 135.588], zoom=4)\n",
    "m.add_layer(GeoJSON(data=json.loads(MYPOINT)))\n",
    "m"
   ]
  },
  {
   "cell_type": "markdown",
   "id": "612e12ff-89ad-4842-bc3b-ee06779cb8e5",
   "metadata": {},
   "source": [
    "### Set up to send request, first create inputs"
   ]
  },
  {
   "cell_type": "code",
   "execution_count": 37,
   "id": "21e11738-241b-42ad-a406-a425e03d195e",
   "metadata": {},
   "outputs": [],
   "source": [
    "point_input = ComplexDataInput(MYPOINT, mimeType=\"application/vnd.geo+json\", schema=\"http://geojson.org/geojson-spec.html#point\")"
   ]
  },
  {
   "cell_type": "markdown",
   "id": "5a7c9e8d-7c53-4652-957f-1a93fcfa8967",
   "metadata": {},
   "source": [
    "### Trigger process to begin (process executes asynchronously)"
   ]
  },
  {
   "cell_type": "code",
   "execution_count": 38,
   "id": "f6d4319e-5ebe-4115-950c-04022dfb4361",
   "metadata": {},
   "outputs": [],
   "source": [
    "resp = server.execute(\n",
    "    \"temporalDrill\",\n",
    "    mode=\"async\",\n",
    "    inputs=[(\"datasetId\", f\"{DATASET}:{LAYER}\"), (\"point\", point_input), (\"startDate\", STARTDATE), (\"endDate\", ENDDATE)],\n",
    "    output=[(\"csv\", False, \"text/csv\")]\n",
    ")"
   ]
  },
  {
   "cell_type": "markdown",
   "id": "1515b193-f4ce-48c3-a99a-dc8a9401fc0f",
   "metadata": {},
   "source": [
    "### Wait for process to complete (polls every 2 seconds)"
   ]
  },
  {
   "cell_type": "code",
   "execution_count": 39,
   "id": "6a05b772-7fde-4c88-b0e0-83445cfd3c6e",
   "metadata": {},
   "outputs": [
    {
     "name": "stdout",
     "output_type": "stream",
     "text": [
      "Waiting for process...\n",
      "Done.\n"
     ]
    }
   ],
   "source": [
    "while not resp.isComplete():\n",
    "    print(\"Waiting for process...\")\n",
    "    resp.checkStatus(sleepSecs=2)\n",
    "print(\"Done.\")"
   ]
  },
  {
   "cell_type": "markdown",
   "id": "ffdb0fe3-d594-4a04-b970-a732787304b5",
   "metadata": {},
   "source": [
    "### Get result csv into a dataframe"
   ]
  },
  {
   "cell_type": "code",
   "execution_count": 40,
   "id": "fd6f41e3-9e6c-46cb-ab78-bb718685ad3d",
   "metadata": {},
   "outputs": [
    {
     "data": {
      "text/html": [
       "<div>\n",
       "<style scoped>\n",
       "    .dataframe tbody tr th:only-of-type {\n",
       "        vertical-align: middle;\n",
       "    }\n",
       "\n",
       "    .dataframe tbody tr th {\n",
       "        vertical-align: top;\n",
       "    }\n",
       "\n",
       "    .dataframe thead th {\n",
       "        text-align: right;\n",
       "    }\n",
       "</style>\n",
       "<table border=\"1\" class=\"dataframe\">\n",
       "  <thead>\n",
       "    <tr style=\"text-align: right;\">\n",
       "      <th></th>\n",
       "      <th>date</th>\n",
       "      <th>totalbucket</th>\n",
       "    </tr>\n",
       "  </thead>\n",
       "  <tbody>\n",
       "    <tr>\n",
       "      <th>0</th>\n",
       "      <td>2019-01-02T00:00:00+00:00</td>\n",
       "      <td>26.786512</td>\n",
       "    </tr>\n",
       "    <tr>\n",
       "      <th>1</th>\n",
       "      <td>2019-01-10T00:00:00+00:00</td>\n",
       "      <td>37.805000</td>\n",
       "    </tr>\n",
       "    <tr>\n",
       "      <th>2</th>\n",
       "      <td>2019-01-03T00:00:00+00:00</td>\n",
       "      <td>26.132128</td>\n",
       "    </tr>\n",
       "    <tr>\n",
       "      <th>3</th>\n",
       "      <td>2019-01-06T00:00:00+00:00</td>\n",
       "      <td>23.969456</td>\n",
       "    </tr>\n",
       "    <tr>\n",
       "      <th>4</th>\n",
       "      <td>2019-01-01T00:00:00+00:00</td>\n",
       "      <td>26.897610</td>\n",
       "    </tr>\n",
       "    <tr>\n",
       "      <th>...</th>\n",
       "      <td>...</td>\n",
       "      <td>...</td>\n",
       "    </tr>\n",
       "    <tr>\n",
       "      <th>361</th>\n",
       "      <td>2019-01-14T00:00:00+00:00</td>\n",
       "      <td>29.694395</td>\n",
       "    </tr>\n",
       "    <tr>\n",
       "      <th>362</th>\n",
       "      <td>2019-12-28T00:00:00+00:00</td>\n",
       "      <td>6.474553</td>\n",
       "    </tr>\n",
       "    <tr>\n",
       "      <th>363</th>\n",
       "      <td>2019-12-30T00:00:00+00:00</td>\n",
       "      <td>3.085174</td>\n",
       "    </tr>\n",
       "    <tr>\n",
       "      <th>364</th>\n",
       "      <td>2019-12-29T00:00:00+00:00</td>\n",
       "      <td>4.545843</td>\n",
       "    </tr>\n",
       "    <tr>\n",
       "      <th>365</th>\n",
       "      <td>2020-01-01T00:00:00+00:00</td>\n",
       "      <td>1.512501</td>\n",
       "    </tr>\n",
       "  </tbody>\n",
       "</table>\n",
       "<p>366 rows × 2 columns</p>\n",
       "</div>"
      ],
      "text/plain": [
       "                          date  totalbucket\n",
       "0    2019-01-02T00:00:00+00:00    26.786512\n",
       "1    2019-01-10T00:00:00+00:00    37.805000\n",
       "2    2019-01-03T00:00:00+00:00    26.132128\n",
       "3    2019-01-06T00:00:00+00:00    23.969456\n",
       "4    2019-01-01T00:00:00+00:00    26.897610\n",
       "..                         ...          ...\n",
       "361  2019-01-14T00:00:00+00:00    29.694395\n",
       "362  2019-12-28T00:00:00+00:00     6.474553\n",
       "363  2019-12-30T00:00:00+00:00     3.085174\n",
       "364  2019-12-29T00:00:00+00:00     4.545843\n",
       "365  2020-01-01T00:00:00+00:00     1.512501\n",
       "\n",
       "[366 rows x 2 columns]"
      ]
     },
     "execution_count": 40,
     "metadata": {},
     "output_type": "execute_result"
    }
   ],
   "source": [
    "first_output = next(iter(resp.processOutputs))\n",
    "data = \"\".join(d for d in first_output.data)\n",
    "df = pd.read_csv(io.StringIO(data))\n",
    "df"
   ]
  },
  {
   "cell_type": "markdown",
   "id": "f341594a-a73b-44f2-a6bb-fe9edac2f3e3",
   "metadata": {},
   "source": [
    "### We can plot it too"
   ]
  },
  {
   "cell_type": "code",
   "execution_count": 41,
   "id": "721d9e37-123c-49b5-b943-9a0d856478d4",
   "metadata": {},
   "outputs": [
    {
     "data": {
      "text/plain": [
       "<AxesSubplot:xlabel='date'>"
      ]
     },
     "execution_count": 41,
     "metadata": {},
     "output_type": "execute_result"
    },
    {
     "data": {
      "image/png": "[encoded data removed]",
      "text/plain": [
       "<Figure size 432x288 with 1 Axes>"
      ]
     },
     "metadata": {
      "needs_background": "light"
     },
     "output_type": "display_data"
    }
   ],
   "source": [
    "df.plot.line(x=\"date\", y=\"totalbucket\")"
   ]
  },
  {
   "cell_type": "code",
   "execution_count": null,
   "id": "88dcc5ac-31e5-438f-854f-ebccb39d08d1",
   "metadata": {},
   "outputs": [],
   "source": []
  }
 ],
 "metadata": {
  "kernelspec": {
   "display_name": "Python 3 (ipykernel)",
   "language": "python",
   "name": "python3"
  },
  "language_info": {
   "codemirror_mode": {
    "name": "ipython",
    "version": 3
   },
   "file_extension": ".py",
   "mimetype": "text/x-python",
   "name": "python",
   "nbconvert_exporter": "python",
   "pygments_lexer": "ipython3",
   "version": "3.7.12"
  }
 },
 "nbformat": 4,
 "nbformat_minor": 5
}
