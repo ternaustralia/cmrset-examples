{
 "cells": [
  {
   "cell_type": "code",
   "execution_count": null,
   "id": "e165f281-19f2-47f3-b0e6-f9e3f836bf6b",
   "metadata": {},
   "outputs": [],
   "source": [
    "%pip install owslib shapely matplotlib ipyleaflet rasterio"
   ]
  },
  {
   "cell_type": "markdown",
   "id": "562106ff-3678-4d3f-adba-a37d5a492aa2",
   "metadata": {},
   "source": [
    "### Imports"
   ]
  },
  {
   "cell_type": "code",
   "execution_count": 2,
   "id": "4deb3017-3d62-49b8-b964-c0eaaa668c78",
   "metadata": {
    "ExecuteTime": {
     "end_time": "2023-08-03T03:10:38.449399890Z",
     "start_time": "2023-08-03T03:10:38.444728032Z"
    }
   },
   "outputs": [],
   "source": [
    "from owslib.wps import WebProcessingService, ComplexDataInput, Authentication\n",
    "import json\n",
    "import pandas as pd\n",
    "import logging\n",
    "import sys\n",
    "import io\n",
    "import time\n",
    "from ipyleaflet import Map, GeoJSON, basemaps"
   ]
  },
  {
   "cell_type": "code",
   "execution_count": 3,
   "id": "569b1f1d-69f7-4406-96ee-1d62a184b70e",
   "metadata": {
    "ExecuteTime": {
     "end_time": "2023-08-03T03:10:39.855963719Z",
     "start_time": "2023-08-03T03:10:39.847996319Z"
    }
   },
   "outputs": [],
   "source": [
    "# Set up owslib logging, to set relevant output\n",
    "logger = logging.getLogger(\"owslib\")\n",
    "logger.setLevel(logging.WARNING)\n",
    "\n",
    "handler = logging.StreamHandler(sys.stdout)\n",
    "handler.setLevel(logging.WARNING)\n",
    "logger.addHandler(handler)"
   ]
  },
  {
   "cell_type": "markdown",
   "id": "06d63143-b6f1-47e1-b43e-303a5bff7f7f",
   "metadata": {},
   "source": [
    "### Consts - Change these to affect the data retrieved"
   ]
  },
  {
   "cell_type": "code",
   "execution_count": 4,
   "id": "5ee54f12-04e0-4d8e-b1ff-02fb4426a14a",
   "metadata": {
    "ExecuteTime": {
     "end_time": "2023-08-03T03:10:42.611567146Z",
     "start_time": "2023-08-03T03:10:42.604408014Z"
    }
   },
   "outputs": [],
   "source": [
    "ENDPOINT=\"https://funcwps.ternlandscapes.org.au/wps/\"\n",
    "DATASET=\"aet\"  # options are \"smips\" or \"aet\"\n",
    "LAYER=\"ETa\"  # options are \"totalbucket\" or \"SMindex\" for smips, or \"ETa\" for \"aet\".\n",
    "ATDATE=\"2019-01-01\"\n",
    "# Enter your POLYGON as GeoJSON format.\n",
    "MY_POLYGON='{\"type\": \"Polygon\", \"coordinates\": [[[151.39067721041408, -25.817716701946395], [153.37920260103908, -25.401622912943335], [154.82466059609754, -27.879438356653793], [152.27583247109754, -28.392903179661957], [150.18843012734754, -27.539015050742954], [150.23237543984754, -26.599878666580576], [151.39067721041408, -25.817716701946395]]]}'"
   ]
  },
  {
   "cell_type": "markdown",
   "id": "ebab61ce-198c-4a9b-9731-2b5b19d644c7",
   "metadata": {},
   "source": [
    "### Define a connection to the server"
   ]
  },
  {
   "cell_type": "code",
   "execution_count": 5,
   "id": "1359f773-e988-44b5-9d2d-5929ca5e653c",
   "metadata": {
    "ExecuteTime": {
     "end_time": "2023-08-03T03:10:45.496806006Z",
     "start_time": "2023-08-03T03:10:45.113072614Z"
    }
   },
   "outputs": [],
   "source": [
    "# Enter your TERN API key as password\n",
    "TERN_APIKEY = \"N045_example_U0RySC5DDEF_replace_me_JOVpQVkdXezZMeC5ZWwlaNHxwDDQtDHsu\"\n",
    "AUTH = Authentication(\"apikey\", password=TERN_APIKEY, shared=True)\n",
    "server = WebProcessingService(ENDPOINT, auth=AUTH)"
   ]
  },
  {
   "cell_type": "code",
   "execution_count": 6,
   "id": "f7d54ed9-67fe-4a2f-91c4-6cffb4f28f9e",
   "metadata": {
    "ExecuteTime": {
     "end_time": "2023-08-03T03:10:52.505076149Z",
     "start_time": "2023-08-03T03:10:52.498661101Z"
    }
   },
   "outputs": [
    {
     "name": "stdout",
     "output_type": "stream",
     "text": [
      "WPS Identification type: WPS\n",
      "WPS Identification title: TERN Landscapes Functional Data WPS Server\n",
      "WPS Identification abstract: The Functional Data Processing Server from TERN Landscapes\n",
      "WPS Operation: GetCapabilities\n",
      "WPS Operation: DescribeProcess\n",
      "WPS Operation: Execute\n",
      "WPS Process: identifier=sleep title=Sleep Process\n",
      "WPS Process: identifier=temporalDrill title=Temporal Drill\n",
      "WPS Process: identifier=subset1d title=SubSet 1D\n",
      "WPS Process: identifier=subset2d title=SubSet 2D\n",
      "WPS Process: identifier=subset3d title=SubSet 3D\n",
      "WPS Process: identifier=stats2d title=Stats 2D\n",
      "WPS Process: identifier=stats3d title=Stats 3D\n"
     ]
    }
   ],
   "source": [
    "print('WPS Identification type: %s' % server.identification.type)\n",
    "print('WPS Identification title: %s' % server.identification.title)\n",
    "print('WPS Identification abstract: %s' % server.identification.abstract)\n",
    "for operation in server.operations:\n",
    "    print('WPS Operation: %s' % operation.name)\n",
    "for process in server.processes:\n",
    "    print('WPS Process: identifier=%s title=%s' % (process.identifier, process.title))"
   ]
  },
  {
   "cell_type": "code",
   "execution_count": 7,
   "id": "978c8311-254e-4b33-9476-dc606df64896",
   "metadata": {
    "ExecuteTime": {
     "end_time": "2023-08-03T03:10:57.966332052Z",
     "start_time": "2023-08-03T03:10:57.711745604Z"
    }
   },
   "outputs": [
    {
     "name": "stdout",
     "output_type": "stream",
     "text": [
      "WPS Process: identifier=stats2d\n",
      "WPS Process: title=Stats 2D\n",
      "WPS Process: abstract=Return CSV file containing stats within given 2D polygon.\n",
      "Process input: identifier=datasetId, data type=string, minOccurs=1, maxOccurs=1\n",
      "Process input: identifier=atDate, data type=date, minOccurs=1, maxOccurs=1\n",
      "Process input: identifier=returnType, data type=string, minOccurs=0, maxOccurs=1\n",
      "Process input: identifier=polygon, data type=ComplexData, minOccurs=1, maxOccurs=1\n",
      "Process output: identifier=download_link, data type=string\n",
      "Process output: identifier=csv, data type=ComplexData\n"
     ]
    }
   ],
   "source": [
    "process = server.describeprocess(\"stats2d\")\n",
    "print('WPS Process: identifier=%s' % process.identifier)\n",
    "print('WPS Process: title=%s' % process.title)\n",
    "print('WPS Process: abstract=%s' % process.abstract)\n",
    "for input in process.dataInputs:\n",
    "    print('Process input: identifier=%s, data type=%s, minOccurs=%d, maxOccurs=%d' % (input.identifier, input.dataType, input.minOccurs, input.maxOccurs))\n",
    "for output in process.processOutputs:\n",
    "    print('Process output: identifier=%s, data type=%s' % (output.identifier, output.dataType))"
   ]
  },
  {
   "cell_type": "markdown",
   "id": "95949ead-0a43-4c99-bc5b-e0c258e6aaaa",
   "metadata": {},
   "source": [
    "### Optional - Visualize shape"
   ]
  },
  {
   "cell_type": "code",
   "execution_count": 8,
   "id": "1bc6921a-c31c-46b7-84eb-dce26b338db3",
   "metadata": {
    "ExecuteTime": {
     "end_time": "2023-08-03T03:12:15.428814779Z",
     "start_time": "2023-08-03T03:12:15.385557284Z"
    }
   },
   "outputs": [
    {
     "data": {
      "text/plain": "Map(center=[-25.128, 135.588], controls=(ZoomControl(options=['position', 'zoom_in_text', 'zoom_in_title', 'zo…",
      "application/vnd.jupyter.widget-view+json": {
       "version_major": 2,
       "version_minor": 0,
       "model_id": "6513b768ee68499eb36df50732190d0b"
      }
     },
     "execution_count": 8,
     "metadata": {},
     "output_type": "execute_result"
    }
   ],
   "source": [
    "m = Map(basemap=basemaps.OpenStreetMap.Mapnik, center=[-25.128, 135.588], zoom=4)\n",
    "m.add_layer(GeoJSON(data=json.loads(MY_POLYGON)))\n",
    "m"
   ]
  },
  {
   "cell_type": "markdown",
   "id": "612e12ff-89ad-4842-bc3b-ee06779cb8e5",
   "metadata": {},
   "source": [
    "### Set up to send request, first create inputs"
   ]
  },
  {
   "cell_type": "code",
   "execution_count": 9,
   "id": "21e11738-241b-42ad-a406-a425e03d195e",
   "metadata": {
    "ExecuteTime": {
     "end_time": "2023-08-03T03:12:17.912594637Z",
     "start_time": "2023-08-03T03:12:17.893253828Z"
    }
   },
   "outputs": [],
   "source": [
    "poly_input = ComplexDataInput(MY_POLYGON, mimeType=\"application/vnd.geo+json\", schema=\"http://geojson.org/geojson-spec.html#polygon\")"
   ]
  },
  {
   "cell_type": "markdown",
   "id": "5a7c9e8d-7c53-4652-957f-1a93fcfa8967",
   "metadata": {},
   "source": [
    "### Trigger process to begin (process executes asynchronously)"
   ]
  },
  {
   "cell_type": "code",
   "execution_count": 10,
   "id": "f6d4319e-5ebe-4115-950c-04022dfb4361",
   "metadata": {
    "ExecuteTime": {
     "end_time": "2023-08-03T03:12:20.856812121Z",
     "start_time": "2023-08-03T03:12:20.593272248Z"
    }
   },
   "outputs": [],
   "source": [
    "resp = server.execute(\n",
    "    \"stats2d\",\n",
    "    mode=\"async\",\n",
    "    inputs=[(\"datasetId\", f\"{DATASET}:{LAYER}\"), (\"polygon\", poly_input), (\"atDate\", ATDATE)],\n",
    "    output=[(\"csv\", False, \"text/csv\")]  # Get stats as embedded file in result\n",
    ")"
   ]
  },
  {
   "cell_type": "markdown",
   "id": "1515b193-f4ce-48c3-a99a-dc8a9401fc0f",
   "metadata": {},
   "source": [
    "### Wait for process to complete (polls every 4 seconds)"
   ]
  },
  {
   "cell_type": "code",
   "execution_count": 11,
   "id": "6a05b772-7fde-4c88-b0e0-83445cfd3c6e",
   "metadata": {
    "ExecuteTime": {
     "end_time": "2023-08-03T03:12:37.265738607Z",
     "start_time": "2023-08-03T03:12:24.410576207Z"
    }
   },
   "outputs": [
    {
     "name": "stdout",
     "output_type": "stream",
     "text": [
      "Waiting for process to complete...\n",
      "Progress: 0, Found 1 slices to slice up.\n",
      "Progress: 0, Found 1 slices to slice up.\n",
      "Progress: 0, Found 1 slices to slice up.\n",
      "Progress: 100, Landscapes WPS Process succeeded\n",
      "Done\n"
     ]
    }
   ],
   "source": [
    "print(\"Waiting for process to complete...\")\n",
    "while True:\n",
    "    resp.checkStatus(sleepSecs=0)\n",
    "    print(f\"Progress: {resp.percentCompleted}, {resp.statusMessage}\")\n",
    "    if resp.isComplete():\n",
    "        break\n",
    "    time.sleep(4)\n",
    "print(\"Done\")"
   ]
  },
  {
   "cell_type": "markdown",
   "id": "ffdb0fe3-d594-4a04-b970-a732787304b5",
   "metadata": {},
   "source": [
    "### Extract CSV data and render it"
   ]
  },
  {
   "cell_type": "code",
   "execution_count": 13,
   "id": "fd6f41e3-9e6c-46cb-ab78-bb718685ad3d",
   "metadata": {
    "ExecuteTime": {
     "end_time": "2023-08-03T03:13:04.680517190Z",
     "start_time": "2023-08-03T03:13:04.632894750Z"
    }
   },
   "outputs": [
    {
     "data": {
      "text/plain": "                        date  feature  min     max         mean      valid  \\\n0  2019-01-01T00:00:00+00:00        0  0.0  9617.0  3002.819645  47.471226   \n\n       stddev  \n0  1232.98642  ",
      "text/html": "<div>\n<style scoped>\n    .dataframe tbody tr th:only-of-type {\n        vertical-align: middle;\n    }\n\n    .dataframe tbody tr th {\n        vertical-align: top;\n    }\n\n    .dataframe thead th {\n        text-align: right;\n    }\n</style>\n<table border=\"1\" class=\"dataframe\">\n  <thead>\n    <tr style=\"text-align: right;\">\n      <th></th>\n      <th>date</th>\n      <th>feature</th>\n      <th>min</th>\n      <th>max</th>\n      <th>mean</th>\n      <th>valid</th>\n      <th>stddev</th>\n    </tr>\n  </thead>\n  <tbody>\n    <tr>\n      <th>0</th>\n      <td>2019-01-01T00:00:00+00:00</td>\n      <td>0</td>\n      <td>0.0</td>\n      <td>9617.0</td>\n      <td>3002.819645</td>\n      <td>47.471226</td>\n      <td>1232.98642</td>\n    </tr>\n  </tbody>\n</table>\n</div>"
     },
     "execution_count": 13,
     "metadata": {},
     "output_type": "execute_result"
    }
   ],
   "source": [
    "first_output = next(iter(resp.processOutputs))\n",
    "data = \"\".join(d for d in first_output.data)\n",
    "df = pd.read_csv(io.StringIO(data))\n",
    "df"
   ]
  },
  {
   "cell_type": "code",
   "execution_count": null,
   "id": "c08caa8f-9811-46ce-b30b-d702c0ff50b5",
   "metadata": {},
   "outputs": [],
   "source": []
  }
 ],
 "metadata": {
  "kernelspec": {
   "display_name": "Python 3 (ipykernel)",
   "language": "python",
   "name": "python3"
  },
  "language_info": {
   "codemirror_mode": {
    "name": "ipython",
    "version": 3
   },
   "file_extension": ".py",
   "mimetype": "text/x-python",
   "name": "python",
   "nbconvert_exporter": "python",
   "pygments_lexer": "ipython3",
   "version": "3.7.12"
  }
 },
 "nbformat": 4,
 "nbformat_minor": 5
}
